{
 "cells": [
  {
   "cell_type": "markdown",
   "metadata": {},
   "source": [
    "- <b>Classification algorithms</b>\n",
    "\n",
    "- <b>Submitted by Kaushik </b>\n",
    "- <b>email- kumarkaushik1580@gmail.com</b>\n",
    "\n"
   ]
  },
  {
   "cell_type": "code",
   "execution_count": 1,
   "metadata": {},
   "outputs": [],
   "source": [
    "import numpy as np\n",
    "import pandas as pd\n",
    "import matplotlib.pyplot as plt\n",
    "import seaborn as sns\n",
    "%matplotlib inline"
   ]
  },
  {
   "cell_type": "code",
   "execution_count": 2,
   "metadata": {},
   "outputs": [],
   "source": [
    "ds = pd.read_csv(\"Dataset_II.csv\")\n",
    "ds1 = pd.read_csv(\"Dataset_II.csv\")"
   ]
  },
  {
   "cell_type": "code",
   "execution_count": 3,
   "metadata": {},
   "outputs": [
    {
     "data": {
      "text/html": [
       "<div>\n",
       "<style scoped>\n",
       "    .dataframe tbody tr th:only-of-type {\n",
       "        vertical-align: middle;\n",
       "    }\n",
       "\n",
       "    .dataframe tbody tr th {\n",
       "        vertical-align: top;\n",
       "    }\n",
       "\n",
       "    .dataframe thead th {\n",
       "        text-align: right;\n",
       "    }\n",
       "</style>\n",
       "<table border=\"1\" class=\"dataframe\">\n",
       "  <thead>\n",
       "    <tr style=\"text-align: right;\">\n",
       "      <th></th>\n",
       "      <th>Unnamed: 0</th>\n",
       "      <th>Age</th>\n",
       "      <th>Sex</th>\n",
       "      <th>Job</th>\n",
       "      <th>Housing</th>\n",
       "      <th>Saving accounts</th>\n",
       "      <th>Checking account</th>\n",
       "      <th>Credit amount</th>\n",
       "      <th>Duration</th>\n",
       "      <th>Purpose</th>\n",
       "    </tr>\n",
       "  </thead>\n",
       "  <tbody>\n",
       "    <tr>\n",
       "      <td>0</td>\n",
       "      <td>0</td>\n",
       "      <td>67</td>\n",
       "      <td>male</td>\n",
       "      <td>2</td>\n",
       "      <td>own</td>\n",
       "      <td>NaN</td>\n",
       "      <td>little</td>\n",
       "      <td>1169</td>\n",
       "      <td>6</td>\n",
       "      <td>radio/TV</td>\n",
       "    </tr>\n",
       "    <tr>\n",
       "      <td>1</td>\n",
       "      <td>1</td>\n",
       "      <td>22</td>\n",
       "      <td>female</td>\n",
       "      <td>2</td>\n",
       "      <td>own</td>\n",
       "      <td>little</td>\n",
       "      <td>moderate</td>\n",
       "      <td>5951</td>\n",
       "      <td>48</td>\n",
       "      <td>radio/TV</td>\n",
       "    </tr>\n",
       "    <tr>\n",
       "      <td>2</td>\n",
       "      <td>2</td>\n",
       "      <td>49</td>\n",
       "      <td>male</td>\n",
       "      <td>1</td>\n",
       "      <td>own</td>\n",
       "      <td>little</td>\n",
       "      <td>NaN</td>\n",
       "      <td>2096</td>\n",
       "      <td>12</td>\n",
       "      <td>education</td>\n",
       "    </tr>\n",
       "    <tr>\n",
       "      <td>3</td>\n",
       "      <td>3</td>\n",
       "      <td>45</td>\n",
       "      <td>male</td>\n",
       "      <td>2</td>\n",
       "      <td>free</td>\n",
       "      <td>little</td>\n",
       "      <td>little</td>\n",
       "      <td>7882</td>\n",
       "      <td>42</td>\n",
       "      <td>furniture/equipment</td>\n",
       "    </tr>\n",
       "    <tr>\n",
       "      <td>4</td>\n",
       "      <td>4</td>\n",
       "      <td>53</td>\n",
       "      <td>male</td>\n",
       "      <td>2</td>\n",
       "      <td>free</td>\n",
       "      <td>little</td>\n",
       "      <td>little</td>\n",
       "      <td>4870</td>\n",
       "      <td>24</td>\n",
       "      <td>car</td>\n",
       "    </tr>\n",
       "  </tbody>\n",
       "</table>\n",
       "</div>"
      ],
      "text/plain": [
       "   Unnamed: 0  Age     Sex  Job Housing Saving accounts Checking account  \\\n",
       "0           0   67    male    2     own             NaN           little   \n",
       "1           1   22  female    2     own          little         moderate   \n",
       "2           2   49    male    1     own          little              NaN   \n",
       "3           3   45    male    2    free          little           little   \n",
       "4           4   53    male    2    free          little           little   \n",
       "\n",
       "   Credit amount  Duration              Purpose  \n",
       "0           1169         6             radio/TV  \n",
       "1           5951        48             radio/TV  \n",
       "2           2096        12            education  \n",
       "3           7882        42  furniture/equipment  \n",
       "4           4870        24                  car  "
      ]
     },
     "execution_count": 3,
     "metadata": {},
     "output_type": "execute_result"
    }
   ],
   "source": [
    "ds.head()"
   ]
  },
  {
   "cell_type": "markdown",
   "metadata": {},
   "source": [
    "# Data preprocessing"
   ]
  },
  {
   "cell_type": "code",
   "execution_count": 4,
   "metadata": {},
   "outputs": [
    {
     "data": {
      "text/plain": [
       "Index(['Unnamed: 0', 'Age', 'Sex', 'Job', 'Housing', 'Saving accounts',\n",
       "       'Checking account', 'Credit amount', 'Duration', 'Purpose'],\n",
       "      dtype='object')"
      ]
     },
     "execution_count": 4,
     "metadata": {},
     "output_type": "execute_result"
    }
   ],
   "source": [
    "ds.columns"
   ]
  },
  {
   "cell_type": "code",
   "execution_count": 5,
   "metadata": {},
   "outputs": [
    {
     "data": {
      "text/html": [
       "<div>\n",
       "<style scoped>\n",
       "    .dataframe tbody tr th:only-of-type {\n",
       "        vertical-align: middle;\n",
       "    }\n",
       "\n",
       "    .dataframe tbody tr th {\n",
       "        vertical-align: top;\n",
       "    }\n",
       "\n",
       "    .dataframe thead th {\n",
       "        text-align: right;\n",
       "    }\n",
       "</style>\n",
       "<table border=\"1\" class=\"dataframe\">\n",
       "  <thead>\n",
       "    <tr style=\"text-align: right;\">\n",
       "      <th></th>\n",
       "      <th>Age</th>\n",
       "      <th>Sex</th>\n",
       "      <th>Job</th>\n",
       "      <th>Housing</th>\n",
       "      <th>Saving accounts</th>\n",
       "      <th>Checking account</th>\n",
       "      <th>Credit amount</th>\n",
       "      <th>Duration</th>\n",
       "      <th>Purpose</th>\n",
       "    </tr>\n",
       "  </thead>\n",
       "  <tbody>\n",
       "    <tr>\n",
       "      <td>0</td>\n",
       "      <td>67</td>\n",
       "      <td>male</td>\n",
       "      <td>2</td>\n",
       "      <td>own</td>\n",
       "      <td>NaN</td>\n",
       "      <td>little</td>\n",
       "      <td>1169</td>\n",
       "      <td>6</td>\n",
       "      <td>radio/TV</td>\n",
       "    </tr>\n",
       "    <tr>\n",
       "      <td>1</td>\n",
       "      <td>22</td>\n",
       "      <td>female</td>\n",
       "      <td>2</td>\n",
       "      <td>own</td>\n",
       "      <td>little</td>\n",
       "      <td>moderate</td>\n",
       "      <td>5951</td>\n",
       "      <td>48</td>\n",
       "      <td>radio/TV</td>\n",
       "    </tr>\n",
       "    <tr>\n",
       "      <td>2</td>\n",
       "      <td>49</td>\n",
       "      <td>male</td>\n",
       "      <td>1</td>\n",
       "      <td>own</td>\n",
       "      <td>little</td>\n",
       "      <td>NaN</td>\n",
       "      <td>2096</td>\n",
       "      <td>12</td>\n",
       "      <td>education</td>\n",
       "    </tr>\n",
       "    <tr>\n",
       "      <td>3</td>\n",
       "      <td>45</td>\n",
       "      <td>male</td>\n",
       "      <td>2</td>\n",
       "      <td>free</td>\n",
       "      <td>little</td>\n",
       "      <td>little</td>\n",
       "      <td>7882</td>\n",
       "      <td>42</td>\n",
       "      <td>furniture/equipment</td>\n",
       "    </tr>\n",
       "    <tr>\n",
       "      <td>4</td>\n",
       "      <td>53</td>\n",
       "      <td>male</td>\n",
       "      <td>2</td>\n",
       "      <td>free</td>\n",
       "      <td>little</td>\n",
       "      <td>little</td>\n",
       "      <td>4870</td>\n",
       "      <td>24</td>\n",
       "      <td>car</td>\n",
       "    </tr>\n",
       "  </tbody>\n",
       "</table>\n",
       "</div>"
      ],
      "text/plain": [
       "   Age     Sex  Job Housing Saving accounts Checking account  Credit amount  \\\n",
       "0   67    male    2     own             NaN           little           1169   \n",
       "1   22  female    2     own          little         moderate           5951   \n",
       "2   49    male    1     own          little              NaN           2096   \n",
       "3   45    male    2    free          little           little           7882   \n",
       "4   53    male    2    free          little           little           4870   \n",
       "\n",
       "   Duration              Purpose  \n",
       "0         6             radio/TV  \n",
       "1        48             radio/TV  \n",
       "2        12            education  \n",
       "3        42  furniture/equipment  \n",
       "4        24                  car  "
      ]
     },
     "execution_count": 5,
     "metadata": {},
     "output_type": "execute_result"
    }
   ],
   "source": [
    "ds.drop([\"Unnamed: 0\"],axis=1,inplace=True)\n",
    "ds.head()"
   ]
  },
  {
   "cell_type": "code",
   "execution_count": 6,
   "metadata": {
    "scrolled": true
   },
   "outputs": [
    {
     "data": {
      "text/plain": [
       "Saving accounts     183\n",
       "Checking account    394\n",
       "dtype: int64"
      ]
     },
     "execution_count": 6,
     "metadata": {},
     "output_type": "execute_result"
    }
   ],
   "source": [
    "ds_null=ds.columns[ds.isnull().any()]\n",
    "ds[ds_null].isnull().sum()"
   ]
  },
  {
   "cell_type": "markdown",
   "metadata": {},
   "source": [
    "ds[\"Saving accounts\"].fillna(ds[\"Saving accounts\"].mean(), inplace=True)\n",
    "ds[\"Checking account\"].fillna(ds[\"Checking account\"].mean(), inplace=True)"
   ]
  },
  {
   "cell_type": "code",
   "execution_count": 7,
   "metadata": {},
   "outputs": [],
   "source": [
    "ds[\"Saving accounts\"].fillna(method='bfill',inplace=True)\n",
    "ds[\"Checking account\"].fillna(method='ffill',inplace=True)"
   ]
  },
  {
   "cell_type": "code",
   "execution_count": null,
   "metadata": {},
   "outputs": [],
   "source": []
  },
  {
   "cell_type": "code",
   "execution_count": 8,
   "metadata": {},
   "outputs": [
    {
     "data": {
      "text/plain": [
       "Age                 0\n",
       "Sex                 0\n",
       "Job                 0\n",
       "Housing             0\n",
       "Saving accounts     0\n",
       "Checking account    0\n",
       "Credit amount       0\n",
       "Duration            0\n",
       "Purpose             0\n",
       "dtype: int64"
      ]
     },
     "execution_count": 8,
     "metadata": {},
     "output_type": "execute_result"
    }
   ],
   "source": [
    "ds.isnull().sum()"
   ]
  },
  {
   "cell_type": "code",
   "execution_count": 9,
   "metadata": {},
   "outputs": [
    {
     "data": {
      "text/html": [
       "<div>\n",
       "<style scoped>\n",
       "    .dataframe tbody tr th:only-of-type {\n",
       "        vertical-align: middle;\n",
       "    }\n",
       "\n",
       "    .dataframe tbody tr th {\n",
       "        vertical-align: top;\n",
       "    }\n",
       "\n",
       "    .dataframe thead th {\n",
       "        text-align: right;\n",
       "    }\n",
       "</style>\n",
       "<table border=\"1\" class=\"dataframe\">\n",
       "  <thead>\n",
       "    <tr style=\"text-align: right;\">\n",
       "      <th></th>\n",
       "      <th>Age</th>\n",
       "      <th>Sex</th>\n",
       "      <th>Job</th>\n",
       "      <th>Housing</th>\n",
       "      <th>Saving accounts</th>\n",
       "      <th>Checking account</th>\n",
       "      <th>Credit amount</th>\n",
       "      <th>Duration</th>\n",
       "      <th>Purpose</th>\n",
       "    </tr>\n",
       "  </thead>\n",
       "  <tbody>\n",
       "    <tr>\n",
       "      <td>0</td>\n",
       "      <td>67</td>\n",
       "      <td>male</td>\n",
       "      <td>2</td>\n",
       "      <td>own</td>\n",
       "      <td>little</td>\n",
       "      <td>little</td>\n",
       "      <td>1169</td>\n",
       "      <td>6</td>\n",
       "      <td>radio/TV</td>\n",
       "    </tr>\n",
       "    <tr>\n",
       "      <td>1</td>\n",
       "      <td>22</td>\n",
       "      <td>female</td>\n",
       "      <td>2</td>\n",
       "      <td>own</td>\n",
       "      <td>little</td>\n",
       "      <td>moderate</td>\n",
       "      <td>5951</td>\n",
       "      <td>48</td>\n",
       "      <td>radio/TV</td>\n",
       "    </tr>\n",
       "    <tr>\n",
       "      <td>2</td>\n",
       "      <td>49</td>\n",
       "      <td>male</td>\n",
       "      <td>1</td>\n",
       "      <td>own</td>\n",
       "      <td>little</td>\n",
       "      <td>moderate</td>\n",
       "      <td>2096</td>\n",
       "      <td>12</td>\n",
       "      <td>education</td>\n",
       "    </tr>\n",
       "    <tr>\n",
       "      <td>3</td>\n",
       "      <td>45</td>\n",
       "      <td>male</td>\n",
       "      <td>2</td>\n",
       "      <td>free</td>\n",
       "      <td>little</td>\n",
       "      <td>little</td>\n",
       "      <td>7882</td>\n",
       "      <td>42</td>\n",
       "      <td>furniture/equipment</td>\n",
       "    </tr>\n",
       "    <tr>\n",
       "      <td>4</td>\n",
       "      <td>53</td>\n",
       "      <td>male</td>\n",
       "      <td>2</td>\n",
       "      <td>free</td>\n",
       "      <td>little</td>\n",
       "      <td>little</td>\n",
       "      <td>4870</td>\n",
       "      <td>24</td>\n",
       "      <td>car</td>\n",
       "    </tr>\n",
       "  </tbody>\n",
       "</table>\n",
       "</div>"
      ],
      "text/plain": [
       "   Age     Sex  Job Housing Saving accounts Checking account  Credit amount  \\\n",
       "0   67    male    2     own          little           little           1169   \n",
       "1   22  female    2     own          little         moderate           5951   \n",
       "2   49    male    1     own          little         moderate           2096   \n",
       "3   45    male    2    free          little           little           7882   \n",
       "4   53    male    2    free          little           little           4870   \n",
       "\n",
       "   Duration              Purpose  \n",
       "0         6             radio/TV  \n",
       "1        48             radio/TV  \n",
       "2        12            education  \n",
       "3        42  furniture/equipment  \n",
       "4        24                  car  "
      ]
     },
     "execution_count": 9,
     "metadata": {},
     "output_type": "execute_result"
    }
   ],
   "source": [
    "ds.head()"
   ]
  },
  {
   "cell_type": "code",
   "execution_count": null,
   "metadata": {},
   "outputs": [],
   "source": []
  },
  {
   "cell_type": "code",
   "execution_count": 10,
   "metadata": {},
   "outputs": [
    {
     "data": {
      "text/plain": [
       "Age                  int64\n",
       "Sex                 object\n",
       "Job                  int64\n",
       "Housing             object\n",
       "Saving accounts     object\n",
       "Checking account    object\n",
       "Credit amount        int64\n",
       "Duration             int64\n",
       "Purpose             object\n",
       "dtype: object"
      ]
     },
     "execution_count": 10,
     "metadata": {},
     "output_type": "execute_result"
    }
   ],
   "source": [
    "ds.dtypes"
   ]
  },
  {
   "cell_type": "code",
   "execution_count": 11,
   "metadata": {},
   "outputs": [
    {
     "data": {
      "text/plain": [
       "['Sex', 'Housing', 'Saving accounts', 'Checking account', 'Purpose']"
      ]
     },
     "execution_count": 11,
     "metadata": {},
     "output_type": "execute_result"
    }
   ],
   "source": [
    "ds_categ = list(ds.select_dtypes(exclude = [\"number\"]).columns)\n",
    "ds_categ"
   ]
  },
  {
   "cell_type": "code",
   "execution_count": 12,
   "metadata": {},
   "outputs": [
    {
     "name": "stdout",
     "output_type": "stream",
     "text": [
      "['male' 'female']\n",
      "['own' 'free' 'rent']\n",
      "['little' 'quite rich' 'rich' 'moderate']\n",
      "['little' 'moderate' 'rich']\n",
      "['radio/TV' 'education' 'furniture/equipment' 'car' 'business'\n",
      " 'domestic appliances' 'repairs' 'vacation/others']\n"
     ]
    }
   ],
   "source": [
    "from sklearn.preprocessing import LabelEncoder\n",
    "le = LabelEncoder()\n",
    "for i in ds_categ:\n",
    "    print(ds[i].unique())\n",
    "    ds[i] = le.fit_transform(ds[i])"
   ]
  },
  {
   "cell_type": "code",
   "execution_count": 13,
   "metadata": {},
   "outputs": [
    {
     "data": {
      "text/html": [
       "<div>\n",
       "<style scoped>\n",
       "    .dataframe tbody tr th:only-of-type {\n",
       "        vertical-align: middle;\n",
       "    }\n",
       "\n",
       "    .dataframe tbody tr th {\n",
       "        vertical-align: top;\n",
       "    }\n",
       "\n",
       "    .dataframe thead th {\n",
       "        text-align: right;\n",
       "    }\n",
       "</style>\n",
       "<table border=\"1\" class=\"dataframe\">\n",
       "  <thead>\n",
       "    <tr style=\"text-align: right;\">\n",
       "      <th></th>\n",
       "      <th>Age</th>\n",
       "      <th>Sex</th>\n",
       "      <th>Job</th>\n",
       "      <th>Housing</th>\n",
       "      <th>Saving accounts</th>\n",
       "      <th>Checking account</th>\n",
       "      <th>Credit amount</th>\n",
       "      <th>Duration</th>\n",
       "      <th>Purpose</th>\n",
       "    </tr>\n",
       "  </thead>\n",
       "  <tbody>\n",
       "    <tr>\n",
       "      <td>0</td>\n",
       "      <td>67</td>\n",
       "      <td>1</td>\n",
       "      <td>2</td>\n",
       "      <td>1</td>\n",
       "      <td>0</td>\n",
       "      <td>0</td>\n",
       "      <td>1169</td>\n",
       "      <td>6</td>\n",
       "      <td>5</td>\n",
       "    </tr>\n",
       "    <tr>\n",
       "      <td>1</td>\n",
       "      <td>22</td>\n",
       "      <td>0</td>\n",
       "      <td>2</td>\n",
       "      <td>1</td>\n",
       "      <td>0</td>\n",
       "      <td>1</td>\n",
       "      <td>5951</td>\n",
       "      <td>48</td>\n",
       "      <td>5</td>\n",
       "    </tr>\n",
       "    <tr>\n",
       "      <td>2</td>\n",
       "      <td>49</td>\n",
       "      <td>1</td>\n",
       "      <td>1</td>\n",
       "      <td>1</td>\n",
       "      <td>0</td>\n",
       "      <td>1</td>\n",
       "      <td>2096</td>\n",
       "      <td>12</td>\n",
       "      <td>3</td>\n",
       "    </tr>\n",
       "    <tr>\n",
       "      <td>3</td>\n",
       "      <td>45</td>\n",
       "      <td>1</td>\n",
       "      <td>2</td>\n",
       "      <td>0</td>\n",
       "      <td>0</td>\n",
       "      <td>0</td>\n",
       "      <td>7882</td>\n",
       "      <td>42</td>\n",
       "      <td>4</td>\n",
       "    </tr>\n",
       "    <tr>\n",
       "      <td>4</td>\n",
       "      <td>53</td>\n",
       "      <td>1</td>\n",
       "      <td>2</td>\n",
       "      <td>0</td>\n",
       "      <td>0</td>\n",
       "      <td>0</td>\n",
       "      <td>4870</td>\n",
       "      <td>24</td>\n",
       "      <td>1</td>\n",
       "    </tr>\n",
       "  </tbody>\n",
       "</table>\n",
       "</div>"
      ],
      "text/plain": [
       "   Age  Sex  Job  Housing  Saving accounts  Checking account  Credit amount  \\\n",
       "0   67    1    2        1                0                 0           1169   \n",
       "1   22    0    2        1                0                 1           5951   \n",
       "2   49    1    1        1                0                 1           2096   \n",
       "3   45    1    2        0                0                 0           7882   \n",
       "4   53    1    2        0                0                 0           4870   \n",
       "\n",
       "   Duration  Purpose  \n",
       "0         6        5  \n",
       "1        48        5  \n",
       "2        12        3  \n",
       "3        42        4  \n",
       "4        24        1  "
      ]
     },
     "execution_count": 13,
     "metadata": {},
     "output_type": "execute_result"
    }
   ],
   "source": [
    "ds.head()"
   ]
  },
  {
   "cell_type": "markdown",
   "metadata": {},
   "source": [
    "ds_copy = ds.copy()"
   ]
  },
  {
   "cell_type": "markdown",
   "metadata": {},
   "source": [
    "ds_copy.head()"
   ]
  },
  {
   "cell_type": "markdown",
   "metadata": {},
   "source": [
    "# Feature Engineering\n",
    "## Outlier Detection and treatment"
   ]
  },
  {
   "cell_type": "code",
   "execution_count": 14,
   "metadata": {},
   "outputs": [
    {
     "data": {
      "text/plain": [
       "<matplotlib.axes._subplots.AxesSubplot at 0x2996e2a78c8>"
      ]
     },
     "execution_count": 14,
     "metadata": {},
     "output_type": "execute_result"
    },
    {
     "data": {
      "image/png": "[encoded data removed]",
      "text/plain": [
       "<Figure size 432x288 with 1 Axes>"
      ]
     },
     "metadata": {
      "needs_background": "light"
     },
     "output_type": "display_data"
    }
   ],
   "source": [
    "ds['Purpose'].plot.box()"
   ]
  },
  {
   "cell_type": "code",
   "execution_count": 15,
   "metadata": {},
   "outputs": [
    {
     "data": {
      "text/plain": [
       "<matplotlib.axes._subplots.AxesSubplot at 0x2996fd55508>"
      ]
     },
     "execution_count": 15,
     "metadata": {},
     "output_type": "execute_result"
    },
    {
     "data": {
      "image/png": "[encoded data removed]",
      "text/plain": [
       "<Figure size 432x288 with 1 Axes>"
      ]
     },
     "metadata": {
      "needs_background": "light"
     },
     "output_type": "display_data"
    }
   ],
   "source": [
    "ds['Duration'].plot.box()"
   ]
  },
  {
   "cell_type": "code",
   "execution_count": 16,
   "metadata": {},
   "outputs": [
    {
     "data": {
      "text/plain": [
       "<matplotlib.axes._subplots.AxesSubplot at 0x2996fdf0288>"
      ]
     },
     "execution_count": 16,
     "metadata": {},
     "output_type": "execute_result"
    },
    {
     "data": {
      "image/png": "[encoded data removed]",
      "text/plain": [
       "<Figure size 432x288 with 1 Axes>"
      ]
     },
     "metadata": {
      "needs_background": "light"
     },
     "output_type": "display_data"
    }
   ],
   "source": [
    "ds.loc[ds['Duration']>41,'Duration']=np.mean(ds['Duration'])\n",
    "ds['Duration'].plot.box()"
   ]
  },
  {
   "cell_type": "code",
   "execution_count": 17,
   "metadata": {},
   "outputs": [
    {
     "data": {
      "text/plain": [
       "Index(['Age', 'Sex', 'Job', 'Housing', 'Saving accounts', 'Checking account',\n",
       "       'Credit amount', 'Duration', 'Purpose'],\n",
       "      dtype='object')"
      ]
     },
     "execution_count": 17,
     "metadata": {},
     "output_type": "execute_result"
    }
   ],
   "source": [
    "ds.columns"
   ]
  },
  {
   "cell_type": "code",
   "execution_count": 18,
   "metadata": {},
   "outputs": [
    {
     "data": {
      "text/plain": [
       "<matplotlib.axes._subplots.AxesSubplot at 0x2996fe4a088>"
      ]
     },
     "execution_count": 18,
     "metadata": {},
     "output_type": "execute_result"
    },
    {
     "data": {
      "image/png": "[encoded data removed]",
      "text/plain": [
       "<Figure size 432x288 with 1 Axes>"
      ]
     },
     "metadata": {
      "needs_background": "light"
     },
     "output_type": "display_data"
    }
   ],
   "source": [
    "ds['Credit amount'].plot.box()"
   ]
  },
  {
   "cell_type": "code",
   "execution_count": 19,
   "metadata": {},
   "outputs": [
    {
     "data": {
      "text/plain": [
       "<matplotlib.axes._subplots.AxesSubplot at 0x2996fed1c88>"
      ]
     },
     "execution_count": 19,
     "metadata": {},
     "output_type": "execute_result"
    },
    {
     "data": {
      "image/png": "[encoded data removed]",
      "text/plain": [
       "<Figure size 432x288 with 1 Axes>"
      ]
     },
     "metadata": {
      "needs_background": "light"
     },
     "output_type": "display_data"
    }
   ],
   "source": [
    "ds.loc[ds['Credit amount']>6000,'Credit amount']=np.mean(ds['Credit amount'])\n",
    "ds['Credit amount'].plot.box()"
   ]
  },
  {
   "cell_type": "code",
   "execution_count": 20,
   "metadata": {},
   "outputs": [
    {
     "data": {
      "text/plain": [
       "<matplotlib.axes._subplots.AxesSubplot at 0x2996ff35548>"
      ]
     },
     "execution_count": 20,
     "metadata": {},
     "output_type": "execute_result"
    },
    {
     "data": {
      "image/png": "[encoded data removed]",
      "text/plain": [
       "<Figure size 432x288 with 1 Axes>"
      ]
     },
     "metadata": {
      "needs_background": "light"
     },
     "output_type": "display_data"
    }
   ],
   "source": [
    "ds['Checking account'].plot.box()"
   ]
  },
  {
   "cell_type": "markdown",
   "metadata": {},
   "source": [
    "ds.loc[ds['area_mean']>900,'area_mean']=np.mean(ds['area_mean'])\n",
    "ds['area_mean'].plot.box()"
   ]
  },
  {
   "cell_type": "code",
   "execution_count": 21,
   "metadata": {},
   "outputs": [
    {
     "data": {
      "text/plain": [
       "<matplotlib.axes._subplots.AxesSubplot at 0x2996ff9a508>"
      ]
     },
     "execution_count": 21,
     "metadata": {},
     "output_type": "execute_result"
    },
    {
     "data": {
      "image/png": "[encoded data removed]",
      "text/plain": [
       "<Figure size 432x288 with 1 Axes>"
      ]
     },
     "metadata": {
      "needs_background": "light"
     },
     "output_type": "display_data"
    }
   ],
   "source": [
    "ds['Saving accounts'].plot.box()"
   ]
  },
  {
   "cell_type": "code",
   "execution_count": 22,
   "metadata": {},
   "outputs": [
    {
     "data": {
      "text/plain": [
       "<matplotlib.axes._subplots.AxesSubplot at 0x29970012288>"
      ]
     },
     "execution_count": 22,
     "metadata": {},
     "output_type": "execute_result"
    },
    {
     "data": {
      "image/png": "[encoded data removed]",
      "text/plain": [
       "<Figure size 432x288 with 1 Axes>"
      ]
     },
     "metadata": {
      "needs_background": "light"
     },
     "output_type": "display_data"
    }
   ],
   "source": [
    "ds.loc[ds['Saving accounts']>0.45,'Saving accounts']=np.mean(ds['Saving accounts'])\n",
    "ds['Saving accounts'].plot.box()"
   ]
  },
  {
   "cell_type": "code",
   "execution_count": 23,
   "metadata": {},
   "outputs": [
    {
     "data": {
      "text/plain": [
       "<matplotlib.axes._subplots.AxesSubplot at 0x2997005cd08>"
      ]
     },
     "execution_count": 23,
     "metadata": {},
     "output_type": "execute_result"
    },
    {
     "data": {
      "image/png": "[encoded data removed]",
      "text/plain": [
       "<Figure size 432x288 with 1 Axes>"
      ]
     },
     "metadata": {
      "needs_background": "light"
     },
     "output_type": "display_data"
    }
   ],
   "source": [
    "ds['Housing'].plot.box()"
   ]
  },
  {
   "cell_type": "code",
   "execution_count": 26,
   "metadata": {},
   "outputs": [
    {
     "data": {
      "text/plain": [
       "<matplotlib.axes._subplots.AxesSubplot at 0x299701c1408>"
      ]
     },
     "execution_count": 26,
     "metadata": {},
     "output_type": "execute_result"
    },
    {
     "data": {
      "image/png": "[encoded data removed]",
      "text/plain": [
       "<Figure size 432x288 with 1 Axes>"
      ]
     },
     "metadata": {
      "needs_background": "light"
     },
     "output_type": "display_data"
    }
   ],
   "source": [
    "ds.loc[ds['Housing']>1.002,'Housing']=np.mean(ds['Housing'])\n",
    "ds.loc[ds['Housing']<0.992,'Housing']=np.mean(ds['Housing'])\n",
    "ds['Housing'].plot.box()"
   ]
  },
  {
   "cell_type": "code",
   "execution_count": 27,
   "metadata": {},
   "outputs": [
    {
     "data": {
      "text/plain": [
       "<matplotlib.axes._subplots.AxesSubplot at 0x2997021f748>"
      ]
     },
     "execution_count": 27,
     "metadata": {},
     "output_type": "execute_result"
    },
    {
     "data": {
      "image/png": "[encoded data removed]",
      "text/plain": [
       "<Figure size 432x288 with 1 Axes>"
      ]
     },
     "metadata": {
      "needs_background": "light"
     },
     "output_type": "display_data"
    }
   ],
   "source": [
    "ds['Job'].plot.box()"
   ]
  },
  {
   "cell_type": "code",
   "execution_count": 30,
   "metadata": {},
   "outputs": [
    {
     "data": {
      "text/plain": [
       "<matplotlib.axes._subplots.AxesSubplot at 0x29970367ac8>"
      ]
     },
     "execution_count": 30,
     "metadata": {},
     "output_type": "execute_result"
    },
    {
     "data": {
      "image/png": "[encoded data removed]",
      "text/plain": [
       "<Figure size 432x288 with 1 Axes>"
      ]
     },
     "metadata": {
      "needs_background": "light"
     },
     "output_type": "display_data"
    }
   ],
   "source": [
    "ds.loc[ds['Job']>2.0,'Job']=np.mean(ds['Job'])\n",
    "ds.loc[ds['Job']<1.75,'Job']=np.mean(ds['Job'])\n",
    "ds['Job'].plot.box()"
   ]
  },
  {
   "cell_type": "code",
   "execution_count": 31,
   "metadata": {
    "scrolled": true
   },
   "outputs": [
    {
     "data": {
      "text/plain": [
       "<matplotlib.axes._subplots.AxesSubplot at 0x299703bed88>"
      ]
     },
     "execution_count": 31,
     "metadata": {},
     "output_type": "execute_result"
    },
    {
     "data": {
      "image/png": "[encoded data removed]",
      "text/plain": [
       "<Figure size 432x288 with 1 Axes>"
      ]
     },
     "metadata": {
      "needs_background": "light"
     },
     "output_type": "display_data"
    }
   ],
   "source": [
    "ds['Sex'].plot.box()"
   ]
  },
  {
   "cell_type": "markdown",
   "metadata": {},
   "source": [
    "ds.loc[ds['concave points_mean']>0.160,'concave points_mean']=np.mean(ds['concave points_mean'])\n",
    "ds['concave points_mean'].plot.box()"
   ]
  },
  {
   "cell_type": "code",
   "execution_count": 32,
   "metadata": {
    "scrolled": true
   },
   "outputs": [
    {
     "data": {
      "text/plain": [
       "<matplotlib.axes._subplots.AxesSubplot at 0x299704222c8>"
      ]
     },
     "execution_count": 32,
     "metadata": {},
     "output_type": "execute_result"
    },
    {
     "data": {
      "image/png": "[encoded data removed]",
      "text/plain": [
       "<Figure size 432x288 with 1 Axes>"
      ]
     },
     "metadata": {
      "needs_background": "light"
     },
     "output_type": "display_data"
    }
   ],
   "source": [
    "ds['Age'].plot.box()"
   ]
  },
  {
   "cell_type": "code",
   "execution_count": 33,
   "metadata": {},
   "outputs": [
    {
     "data": {
      "text/plain": [
       "<matplotlib.axes._subplots.AxesSubplot at 0x2997049b248>"
      ]
     },
     "execution_count": 33,
     "metadata": {},
     "output_type": "execute_result"
    },
    {
     "data": {
      "image/png": "[encoded data removed]",
      "text/plain": [
       "<Figure size 432x288 with 1 Axes>"
      ]
     },
     "metadata": {
      "needs_background": "light"
     },
     "output_type": "display_data"
    }
   ],
   "source": [
    "ds.loc[ds['Age']>57,'Age']=np.mean(ds['Age'])\n",
    "#ds.loc[ds['symmetry_mean']<0.12,'symmetry_mean']=np.mean(ds['symmetry_mean'])\n",
    "\n",
    "ds['Age'].plot.box()"
   ]
  },
  {
   "cell_type": "code",
   "execution_count": null,
   "metadata": {},
   "outputs": [],
   "source": []
  },
  {
   "cell_type": "code",
   "execution_count": 34,
   "metadata": {},
   "outputs": [
    {
     "data": {
      "text/html": [
       "<div>\n",
       "<style scoped>\n",
       "    .dataframe tbody tr th:only-of-type {\n",
       "        vertical-align: middle;\n",
       "    }\n",
       "\n",
       "    .dataframe tbody tr th {\n",
       "        vertical-align: top;\n",
       "    }\n",
       "\n",
       "    .dataframe thead th {\n",
       "        text-align: right;\n",
       "    }\n",
       "</style>\n",
       "<table border=\"1\" class=\"dataframe\">\n",
       "  <thead>\n",
       "    <tr style=\"text-align: right;\">\n",
       "      <th></th>\n",
       "      <th>Age</th>\n",
       "      <th>Sex</th>\n",
       "      <th>Job</th>\n",
       "      <th>Housing</th>\n",
       "      <th>Saving accounts</th>\n",
       "      <th>Checking account</th>\n",
       "      <th>Credit amount</th>\n",
       "      <th>Duration</th>\n",
       "      <th>Purpose</th>\n",
       "    </tr>\n",
       "  </thead>\n",
       "  <tbody>\n",
       "    <tr>\n",
       "      <td>count</td>\n",
       "      <td>1000.000000</td>\n",
       "      <td>1000.000000</td>\n",
       "      <td>1000.000000</td>\n",
       "      <td>1000.000000</td>\n",
       "      <td>1000.000000</td>\n",
       "      <td>1000.000000</td>\n",
       "      <td>1000.000000</td>\n",
       "      <td>1000.000000</td>\n",
       "      <td>1000.000000</td>\n",
       "    </tr>\n",
       "    <tr>\n",
       "      <td>mean</td>\n",
       "      <td>33.865214</td>\n",
       "      <td>0.690000</td>\n",
       "      <td>1.969912</td>\n",
       "      <td>0.999760</td>\n",
       "      <td>0.119538</td>\n",
       "      <td>0.637000</td>\n",
       "      <td>2438.589442</td>\n",
       "      <td>18.598143</td>\n",
       "      <td>2.878000</td>\n",
       "    </tr>\n",
       "    <tr>\n",
       "      <td>std</td>\n",
       "      <td>8.799675</td>\n",
       "      <td>0.462725</td>\n",
       "      <td>0.039952</td>\n",
       "      <td>0.000405</td>\n",
       "      <td>0.201245</td>\n",
       "      <td>0.640032</td>\n",
       "      <td>1248.518270</td>\n",
       "      <td>8.463538</td>\n",
       "      <td>1.978138</td>\n",
       "    </tr>\n",
       "    <tr>\n",
       "      <td>min</td>\n",
       "      <td>19.000000</td>\n",
       "      <td>0.000000</td>\n",
       "      <td>1.904000</td>\n",
       "      <td>0.998822</td>\n",
       "      <td>0.000000</td>\n",
       "      <td>0.000000</td>\n",
       "      <td>250.000000</td>\n",
       "      <td>4.000000</td>\n",
       "      <td>0.000000</td>\n",
       "    </tr>\n",
       "    <tr>\n",
       "      <td>25%</td>\n",
       "      <td>27.000000</td>\n",
       "      <td>0.000000</td>\n",
       "      <td>1.928470</td>\n",
       "      <td>0.999368</td>\n",
       "      <td>0.000000</td>\n",
       "      <td>0.000000</td>\n",
       "      <td>1365.500000</td>\n",
       "      <td>12.000000</td>\n",
       "      <td>1.000000</td>\n",
       "    </tr>\n",
       "    <tr>\n",
       "      <td>50%</td>\n",
       "      <td>33.000000</td>\n",
       "      <td>1.000000</td>\n",
       "      <td>2.000000</td>\n",
       "      <td>1.000000</td>\n",
       "      <td>0.000000</td>\n",
       "      <td>1.000000</td>\n",
       "      <td>2319.500000</td>\n",
       "      <td>18.000000</td>\n",
       "      <td>3.000000</td>\n",
       "    </tr>\n",
       "    <tr>\n",
       "      <td>75%</td>\n",
       "      <td>39.000000</td>\n",
       "      <td>1.000000</td>\n",
       "      <td>2.000000</td>\n",
       "      <td>1.000000</td>\n",
       "      <td>0.458000</td>\n",
       "      <td>1.000000</td>\n",
       "      <td>3271.258000</td>\n",
       "      <td>24.000000</td>\n",
       "      <td>5.000000</td>\n",
       "    </tr>\n",
       "    <tr>\n",
       "      <td>max</td>\n",
       "      <td>57.000000</td>\n",
       "      <td>1.000000</td>\n",
       "      <td>2.000000</td>\n",
       "      <td>1.000000</td>\n",
       "      <td>0.458000</td>\n",
       "      <td>2.000000</td>\n",
       "      <td>5998.000000</td>\n",
       "      <td>40.000000</td>\n",
       "      <td>7.000000</td>\n",
       "    </tr>\n",
       "  </tbody>\n",
       "</table>\n",
       "</div>"
      ],
      "text/plain": [
       "               Age          Sex          Job      Housing  Saving accounts  \\\n",
       "count  1000.000000  1000.000000  1000.000000  1000.000000      1000.000000   \n",
       "mean     33.865214     0.690000     1.969912     0.999760         0.119538   \n",
       "std       8.799675     0.462725     0.039952     0.000405         0.201245   \n",
       "min      19.000000     0.000000     1.904000     0.998822         0.000000   \n",
       "25%      27.000000     0.000000     1.928470     0.999368         0.000000   \n",
       "50%      33.000000     1.000000     2.000000     1.000000         0.000000   \n",
       "75%      39.000000     1.000000     2.000000     1.000000         0.458000   \n",
       "max      57.000000     1.000000     2.000000     1.000000         0.458000   \n",
       "\n",
       "       Checking account  Credit amount     Duration      Purpose  \n",
       "count       1000.000000    1000.000000  1000.000000  1000.000000  \n",
       "mean           0.637000    2438.589442    18.598143     2.878000  \n",
       "std            0.640032    1248.518270     8.463538     1.978138  \n",
       "min            0.000000     250.000000     4.000000     0.000000  \n",
       "25%            0.000000    1365.500000    12.000000     1.000000  \n",
       "50%            1.000000    2319.500000    18.000000     3.000000  \n",
       "75%            1.000000    3271.258000    24.000000     5.000000  \n",
       "max            2.000000    5998.000000    40.000000     7.000000  "
      ]
     },
     "execution_count": 34,
     "metadata": {},
     "output_type": "execute_result"
    }
   ],
   "source": [
    "ds.describe()"
   ]
  },
  {
   "cell_type": "code",
   "execution_count": 35,
   "metadata": {},
   "outputs": [
    {
     "data": {
      "text/html": [
       "<div>\n",
       "<style scoped>\n",
       "    .dataframe tbody tr th:only-of-type {\n",
       "        vertical-align: middle;\n",
       "    }\n",
       "\n",
       "    .dataframe tbody tr th {\n",
       "        vertical-align: top;\n",
       "    }\n",
       "\n",
       "    .dataframe thead th {\n",
       "        text-align: right;\n",
       "    }\n",
       "</style>\n",
       "<table border=\"1\" class=\"dataframe\">\n",
       "  <thead>\n",
       "    <tr style=\"text-align: right;\">\n",
       "      <th></th>\n",
       "      <th>Age</th>\n",
       "      <th>Sex</th>\n",
       "      <th>Job</th>\n",
       "      <th>Housing</th>\n",
       "      <th>Saving accounts</th>\n",
       "      <th>Checking account</th>\n",
       "      <th>Credit amount</th>\n",
       "      <th>Duration</th>\n",
       "      <th>Purpose</th>\n",
       "    </tr>\n",
       "  </thead>\n",
       "  <tbody>\n",
       "    <tr>\n",
       "      <td>0</td>\n",
       "      <td>35.546</td>\n",
       "      <td>1</td>\n",
       "      <td>2.00000</td>\n",
       "      <td>1.000000</td>\n",
       "      <td>0.0</td>\n",
       "      <td>0</td>\n",
       "      <td>1169.000</td>\n",
       "      <td>6.000</td>\n",
       "      <td>5</td>\n",
       "    </tr>\n",
       "    <tr>\n",
       "      <td>1</td>\n",
       "      <td>22.000</td>\n",
       "      <td>0</td>\n",
       "      <td>2.00000</td>\n",
       "      <td>1.000000</td>\n",
       "      <td>0.0</td>\n",
       "      <td>1</td>\n",
       "      <td>5951.000</td>\n",
       "      <td>20.903</td>\n",
       "      <td>5</td>\n",
       "    </tr>\n",
       "    <tr>\n",
       "      <td>2</td>\n",
       "      <td>49.000</td>\n",
       "      <td>1</td>\n",
       "      <td>1.92847</td>\n",
       "      <td>1.000000</td>\n",
       "      <td>0.0</td>\n",
       "      <td>1</td>\n",
       "      <td>2096.000</td>\n",
       "      <td>12.000</td>\n",
       "      <td>3</td>\n",
       "    </tr>\n",
       "    <tr>\n",
       "      <td>3</td>\n",
       "      <td>45.000</td>\n",
       "      <td>1</td>\n",
       "      <td>2.00000</td>\n",
       "      <td>0.998822</td>\n",
       "      <td>0.0</td>\n",
       "      <td>0</td>\n",
       "      <td>3271.258</td>\n",
       "      <td>20.903</td>\n",
       "      <td>4</td>\n",
       "    </tr>\n",
       "    <tr>\n",
       "      <td>4</td>\n",
       "      <td>53.000</td>\n",
       "      <td>1</td>\n",
       "      <td>2.00000</td>\n",
       "      <td>0.998822</td>\n",
       "      <td>0.0</td>\n",
       "      <td>0</td>\n",
       "      <td>4870.000</td>\n",
       "      <td>24.000</td>\n",
       "      <td>1</td>\n",
       "    </tr>\n",
       "  </tbody>\n",
       "</table>\n",
       "</div>"
      ],
      "text/plain": [
       "      Age  Sex      Job   Housing  Saving accounts  Checking account  \\\n",
       "0  35.546    1  2.00000  1.000000              0.0                 0   \n",
       "1  22.000    0  2.00000  1.000000              0.0                 1   \n",
       "2  49.000    1  1.92847  1.000000              0.0                 1   \n",
       "3  45.000    1  2.00000  0.998822              0.0                 0   \n",
       "4  53.000    1  2.00000  0.998822              0.0                 0   \n",
       "\n",
       "   Credit amount  Duration  Purpose  \n",
       "0       1169.000     6.000        5  \n",
       "1       5951.000    20.903        5  \n",
       "2       2096.000    12.000        3  \n",
       "3       3271.258    20.903        4  \n",
       "4       4870.000    24.000        1  "
      ]
     },
     "execution_count": 35,
     "metadata": {},
     "output_type": "execute_result"
    }
   ],
   "source": [
    "ds.head()"
   ]
  },
  {
   "cell_type": "code",
   "execution_count": 36,
   "metadata": {},
   "outputs": [
    {
     "data": {
      "text/plain": [
       "(1000, 9)"
      ]
     },
     "execution_count": 36,
     "metadata": {},
     "output_type": "execute_result"
    }
   ],
   "source": [
    "ds.shape"
   ]
  },
  {
   "cell_type": "code",
   "execution_count": 37,
   "metadata": {},
   "outputs": [],
   "source": [
    "ds_1 = ds.copy()"
   ]
  },
  {
   "cell_type": "code",
   "execution_count": 38,
   "metadata": {},
   "outputs": [
    {
     "data": {
      "text/html": [
       "<div>\n",
       "<style scoped>\n",
       "    .dataframe tbody tr th:only-of-type {\n",
       "        vertical-align: middle;\n",
       "    }\n",
       "\n",
       "    .dataframe tbody tr th {\n",
       "        vertical-align: top;\n",
       "    }\n",
       "\n",
       "    .dataframe thead th {\n",
       "        text-align: right;\n",
       "    }\n",
       "</style>\n",
       "<table border=\"1\" class=\"dataframe\">\n",
       "  <thead>\n",
       "    <tr style=\"text-align: right;\">\n",
       "      <th></th>\n",
       "      <th>Age</th>\n",
       "      <th>Sex</th>\n",
       "      <th>Job</th>\n",
       "      <th>Housing</th>\n",
       "      <th>Saving accounts</th>\n",
       "      <th>Checking account</th>\n",
       "      <th>Credit amount</th>\n",
       "      <th>Duration</th>\n",
       "      <th>Purpose</th>\n",
       "    </tr>\n",
       "  </thead>\n",
       "  <tbody>\n",
       "    <tr>\n",
       "      <td>0</td>\n",
       "      <td>35.546</td>\n",
       "      <td>1</td>\n",
       "      <td>2.00000</td>\n",
       "      <td>1.000000</td>\n",
       "      <td>0.0</td>\n",
       "      <td>0</td>\n",
       "      <td>1169.000</td>\n",
       "      <td>6.000</td>\n",
       "      <td>5</td>\n",
       "    </tr>\n",
       "    <tr>\n",
       "      <td>1</td>\n",
       "      <td>22.000</td>\n",
       "      <td>0</td>\n",
       "      <td>2.00000</td>\n",
       "      <td>1.000000</td>\n",
       "      <td>0.0</td>\n",
       "      <td>1</td>\n",
       "      <td>5951.000</td>\n",
       "      <td>20.903</td>\n",
       "      <td>5</td>\n",
       "    </tr>\n",
       "    <tr>\n",
       "      <td>2</td>\n",
       "      <td>49.000</td>\n",
       "      <td>1</td>\n",
       "      <td>1.92847</td>\n",
       "      <td>1.000000</td>\n",
       "      <td>0.0</td>\n",
       "      <td>1</td>\n",
       "      <td>2096.000</td>\n",
       "      <td>12.000</td>\n",
       "      <td>3</td>\n",
       "    </tr>\n",
       "    <tr>\n",
       "      <td>3</td>\n",
       "      <td>45.000</td>\n",
       "      <td>1</td>\n",
       "      <td>2.00000</td>\n",
       "      <td>0.998822</td>\n",
       "      <td>0.0</td>\n",
       "      <td>0</td>\n",
       "      <td>3271.258</td>\n",
       "      <td>20.903</td>\n",
       "      <td>4</td>\n",
       "    </tr>\n",
       "    <tr>\n",
       "      <td>4</td>\n",
       "      <td>53.000</td>\n",
       "      <td>1</td>\n",
       "      <td>2.00000</td>\n",
       "      <td>0.998822</td>\n",
       "      <td>0.0</td>\n",
       "      <td>0</td>\n",
       "      <td>4870.000</td>\n",
       "      <td>24.000</td>\n",
       "      <td>1</td>\n",
       "    </tr>\n",
       "  </tbody>\n",
       "</table>\n",
       "</div>"
      ],
      "text/plain": [
       "      Age  Sex      Job   Housing  Saving accounts  Checking account  \\\n",
       "0  35.546    1  2.00000  1.000000              0.0                 0   \n",
       "1  22.000    0  2.00000  1.000000              0.0                 1   \n",
       "2  49.000    1  1.92847  1.000000              0.0                 1   \n",
       "3  45.000    1  2.00000  0.998822              0.0                 0   \n",
       "4  53.000    1  2.00000  0.998822              0.0                 0   \n",
       "\n",
       "   Credit amount  Duration  Purpose  \n",
       "0       1169.000     6.000        5  \n",
       "1       5951.000    20.903        5  \n",
       "2       2096.000    12.000        3  \n",
       "3       3271.258    20.903        4  \n",
       "4       4870.000    24.000        1  "
      ]
     },
     "execution_count": 38,
     "metadata": {},
     "output_type": "execute_result"
    }
   ],
   "source": [
    "ds_1.head()"
   ]
  },
  {
   "cell_type": "code",
   "execution_count": 39,
   "metadata": {},
   "outputs": [
    {
     "data": {
      "image/png": "[encoded data removed]",
      "text/plain": [
       "<Figure size 720x432 with 1 Axes>"
      ]
     },
     "metadata": {
      "needs_background": "light"
     },
     "output_type": "display_data"
    }
   ],
   "source": [
    "plt.figure(figsize=(10,6))\n",
    "plt.title(\"Age\")\n",
    "sns.axes_style(\"dark\")\n",
    "sns.violinplot(y=ds[\"Age\"])\n",
    "plt.show()"
   ]
  },
  {
   "cell_type": "code",
   "execution_count": 40,
   "metadata": {},
   "outputs": [
    {
     "data": {
      "text/plain": [
       "Index(['Age', 'Sex', 'Job', 'Housing', 'Saving accounts', 'Checking account',\n",
       "       'Credit amount', 'Duration', 'Purpose'],\n",
       "      dtype='object')"
      ]
     },
     "execution_count": 40,
     "metadata": {},
     "output_type": "execute_result"
    }
   ],
   "source": [
    "ds.columns"
   ]
  },
  {
   "cell_type": "code",
   "execution_count": 41,
   "metadata": {},
   "outputs": [
    {
     "data": {
      "image/png": "[encoded data removed]",
      "text/plain": [
       "<Figure size 1080x432 with 2 Axes>"
      ]
     },
     "metadata": {
      "needs_background": "light"
     },
     "output_type": "display_data"
    }
   ],
   "source": [
    "plt.figure(figsize=(15,6))\n",
    "plt.subplot(1,2,1)\n",
    "sns.boxplot(y=ds[\"Purpose\"], color=\"red\")\n",
    "plt.subplot(1,2,2)\n",
    "sns.boxplot(y=ds[\"Credit amount\"])\n",
    "plt.show()"
   ]
  },
  {
   "cell_type": "code",
   "execution_count": 42,
   "metadata": {},
   "outputs": [
    {
     "data": {
      "image/png": "[encoded data removed]",
      "text/plain": [
       "<Figure size 720x288 with 1 Axes>"
      ]
     },
     "metadata": {},
     "output_type": "display_data"
    }
   ],
   "source": [
    "genders = ds.Sex.value_counts()\n",
    "sns.set_style(\"darkgrid\")\n",
    "plt.figure(figsize=(10,4))\n",
    "sns.barplot(x=genders.index, y=genders.values)\n",
    "plt.show()"
   ]
  },
  {
   "cell_type": "code",
   "execution_count": 43,
   "metadata": {},
   "outputs": [],
   "source": [
    "X = ds[[\"Purpose\",\"Credit amount\"]]\n",
    "Y = ds[[\"Purpose\",\"Checking account\"]]\n",
    "Z = ds[[\"Purpose\",\"Saving accounts\"]]\n",
    "A = ds[[\"Purpose\",\"Housing\"]]\n",
    "B = ds[[\"Purpose\",\"Job\"]]"
   ]
  },
  {
   "cell_type": "markdown",
   "metadata": {},
   "source": [
    "## K_Means cluster\n",
    "## K=3"
   ]
  },
  {
   "cell_type": "code",
   "execution_count": 44,
   "metadata": {},
   "outputs": [],
   "source": [
    "from sklearn.cluster import KMeans"
   ]
  },
  {
   "cell_type": "code",
   "execution_count": 45,
   "metadata": {},
   "outputs": [],
   "source": [
    "kmeans = KMeans(n_clusters=3)"
   ]
  },
  {
   "cell_type": "code",
   "execution_count": 46,
   "metadata": {},
   "outputs": [
    {
     "data": {
      "text/plain": [
       "KMeans(algorithm='auto', copy_x=True, init='k-means++', max_iter=300,\n",
       "       n_clusters=3, n_init=10, n_jobs=None, precompute_distances='auto',\n",
       "       random_state=None, tol=0.0001, verbose=0)"
      ]
     },
     "execution_count": 46,
     "metadata": {},
     "output_type": "execute_result"
    }
   ],
   "source": [
    "kmeans.fit(ds)"
   ]
  },
  {
   "cell_type": "code",
   "execution_count": 47,
   "metadata": {},
   "outputs": [],
   "source": [
    "pred=kmeans.predict(ds)"
   ]
  },
  {
   "cell_type": "code",
   "execution_count": 48,
   "metadata": {},
   "outputs": [
    {
     "data": {
      "text/plain": [
       "array([2, 1, 2, 0, 1, 0, 0, 0, 0, 1, 2, 1, 2, 2, 2, 2, 0, 0, 0, 0, 2, 0,\n",
       "       0, 2, 2, 2, 2, 2, 0, 0, 2, 1, 1, 2, 2, 1, 0, 2, 2, 2, 0, 2, 0, 0,\n",
       "       0, 2, 0, 2, 0, 2, 0, 1, 2, 0, 0, 2, 0, 0, 2, 0, 2, 2, 2, 0, 0, 1,\n",
       "       2, 2, 2, 0, 0, 2, 2, 1, 2, 2, 1, 1, 0, 0, 1, 2, 2, 2, 0, 2, 2, 0,\n",
       "       0, 2, 2, 2, 2, 0, 2, 0, 2, 0, 0, 0, 2, 0, 2, 2, 0, 0, 0, 0, 0, 2,\n",
       "       2, 2, 0, 0, 2, 0, 0, 2, 1, 0, 2, 0, 2, 2, 2, 2, 2, 2, 2, 0, 0, 0,\n",
       "       0, 2, 0, 2, 0, 2, 0, 2, 2, 1, 0, 0, 0, 0, 2, 2, 1, 2, 2, 2, 1, 0,\n",
       "       0, 2, 2, 2, 0, 2, 0, 2, 2, 0, 2, 0, 2, 2, 1, 2, 2, 2, 2, 2, 0, 0,\n",
       "       0, 2, 2, 2, 0, 1, 2, 0, 2, 2, 1, 2, 2, 0, 1, 0, 1, 2, 0, 2, 2, 2,\n",
       "       0, 1, 2, 2, 1, 2, 2, 0, 2, 2, 0, 2, 0, 0, 1, 2, 0, 2, 0, 1, 0, 2,\n",
       "       2, 2, 2, 0, 1, 0, 0, 0, 2, 0, 1, 0, 2, 2, 2, 2, 0, 0, 2, 0, 2, 2,\n",
       "       1, 2, 0, 2, 2, 2, 2, 2, 2, 0, 2, 1, 2, 0, 0, 2, 0, 2, 2, 2, 1, 0,\n",
       "       2, 2, 0, 2, 0, 2, 0, 2, 0, 0, 0, 0, 0, 2, 1, 2, 0, 2, 2, 2, 0, 0,\n",
       "       1, 0, 2, 2, 2, 0, 0, 1, 0, 0, 1, 2, 0, 0, 2, 0, 2, 2, 0, 2, 1, 2,\n",
       "       2, 2, 1, 1, 0, 2, 2, 0, 2, 1, 2, 0, 1, 2, 0, 0, 2, 0, 1, 2, 1, 2,\n",
       "       0, 2, 0, 0, 1, 0, 2, 2, 1, 2, 1, 0, 0, 1, 1, 2, 2, 0, 2, 2, 2, 2,\n",
       "       0, 0, 2, 2, 0, 1, 2, 0, 2, 0, 0, 2, 0, 2, 0, 0, 0, 0, 0, 0, 2, 0,\n",
       "       0, 0, 0, 2, 0, 2, 0, 0, 2, 2, 1, 0, 2, 0, 0, 2, 2, 2, 0, 2, 0, 0,\n",
       "       0, 0, 2, 2, 2, 2, 0, 2, 0, 2, 2, 2, 0, 2, 2, 0, 0, 2, 2, 1, 0, 0,\n",
       "       0, 2, 0, 2, 2, 2, 0, 0, 0, 2, 2, 2, 0, 0, 2, 2, 2, 2, 2, 2, 0, 2,\n",
       "       2, 2, 0, 2, 1, 2, 2, 0, 2, 2, 0, 2, 0, 0, 1, 0, 0, 0, 2, 1, 0, 2,\n",
       "       0, 2, 2, 0, 2, 0, 0, 1, 0, 2, 2, 2, 2, 0, 0, 1, 2, 2, 0, 2, 0, 2,\n",
       "       2, 2, 0, 0, 2, 0, 2, 0, 2, 2, 2, 0, 0, 2, 2, 2, 0, 1, 2, 2, 2, 2,\n",
       "       0, 0, 2, 0, 2, 1, 0, 2, 0, 2, 2, 0, 2, 2, 1, 0, 0, 0, 2, 0, 2, 2,\n",
       "       0, 2, 0, 0, 2, 2, 0, 0, 2, 0, 0, 0, 2, 2, 0, 0, 2, 2, 2, 2, 2, 0,\n",
       "       2, 2, 0, 2, 2, 2, 0, 1, 0, 2, 0, 2, 2, 0, 1, 2, 2, 0, 1, 0, 0, 1,\n",
       "       1, 2, 2, 0, 0, 2, 0, 2, 2, 0, 2, 0, 2, 2, 0, 2, 2, 0, 2, 2, 2, 0,\n",
       "       2, 2, 2, 1, 0, 0, 0, 2, 2, 0, 2, 0, 1, 0, 2, 2, 2, 2, 0, 0, 2, 0,\n",
       "       0, 0, 0, 2, 0, 2, 1, 2, 0, 2, 2, 2, 1, 0, 0, 2, 2, 2, 2, 2, 2, 0,\n",
       "       2, 1, 2, 2, 1, 2, 2, 0, 1, 2, 2, 2, 0, 2, 0, 0, 0, 1, 2, 0, 1, 0,\n",
       "       2, 2, 0, 2, 2, 0, 0, 0, 1, 0, 1, 1, 0, 2, 0, 1, 1, 1, 0, 2, 2, 0,\n",
       "       2, 1, 0, 0, 2, 0, 0, 0, 2, 0, 0, 1, 0, 2, 2, 2, 2, 2, 2, 0, 2, 0,\n",
       "       0, 1, 0, 0, 2, 2, 2, 2, 0, 2, 0, 0, 0, 2, 0, 0, 2, 2, 2, 2, 0, 2,\n",
       "       2, 2, 0, 2, 0, 2, 2, 0, 0, 1, 0, 1, 0, 1, 0, 2, 0, 0, 0, 2, 0, 2,\n",
       "       1, 0, 2, 2, 2, 1, 2, 2, 2, 2, 2, 2, 1, 2, 0, 0, 0, 2, 0, 0, 0, 2,\n",
       "       0, 0, 0, 0, 2, 2, 0, 0, 1, 0, 1, 2, 2, 2, 0, 2, 0, 0, 0, 1, 2, 0,\n",
       "       2, 0, 0, 0, 0, 2, 2, 2, 2, 2, 1, 2, 0, 0, 2, 2, 0, 2, 2, 2, 0, 0,\n",
       "       1, 0, 2, 2, 0, 2, 2, 0, 0, 2, 0, 2, 1, 1, 0, 0, 0, 2, 0, 1, 0, 2,\n",
       "       2, 2, 0, 0, 1, 0, 2, 2, 0, 1, 0, 2, 2, 2, 0, 1, 2, 2, 0, 2, 2, 0,\n",
       "       1, 0, 1, 2, 0, 1, 0, 0, 0, 0, 0, 2, 0, 2, 2, 2, 0, 2, 2, 0, 2, 0,\n",
       "       0, 0, 2, 2, 1, 2, 0, 0, 0, 0, 0, 2, 2, 1, 2, 0, 0, 2, 2, 1, 0, 0,\n",
       "       0, 2, 2, 2, 0, 0, 0, 0, 1, 1, 0, 2, 0, 0, 0, 0, 0, 0, 2, 0, 2, 2,\n",
       "       0, 2, 2, 0, 2, 2, 2, 2, 2, 2, 2, 2, 2, 2, 0, 0, 0, 2, 2, 2, 2, 0,\n",
       "       0, 0, 2, 0, 0, 2, 1, 0, 2, 2, 0, 2, 1, 0, 2, 0, 0, 0, 2, 2, 0, 0,\n",
       "       0, 1, 2, 0, 2, 0, 0, 2, 2, 0, 0, 2, 0, 1, 0, 0, 2, 2, 0, 2, 0, 2,\n",
       "       0, 2, 2, 1, 0, 2, 0, 2, 2, 1])"
      ]
     },
     "execution_count": 48,
     "metadata": {},
     "output_type": "execute_result"
    }
   ],
   "source": [
    "pred"
   ]
  },
  {
   "cell_type": "code",
   "execution_count": 49,
   "metadata": {},
   "outputs": [
    {
     "data": {
      "text/plain": [
       "2    473\n",
       "0    415\n",
       "1    112\n",
       "dtype: int64"
      ]
     },
     "execution_count": 49,
     "metadata": {},
     "output_type": "execute_result"
    }
   ],
   "source": [
    "pd.Series(pred).value_counts()"
   ]
  },
  {
   "cell_type": "code",
   "execution_count": 50,
   "metadata": {},
   "outputs": [
    {
     "data": {
      "text/plain": [
       "220477605.97162747"
      ]
     },
     "execution_count": 50,
     "metadata": {},
     "output_type": "execute_result"
    }
   ],
   "source": [
    "kmeans.inertia_"
   ]
  },
  {
   "cell_type": "code",
   "execution_count": 51,
   "metadata": {},
   "outputs": [
    {
     "data": {
      "text/plain": [
       "-220477605.97162724"
      ]
     },
     "execution_count": 51,
     "metadata": {},
     "output_type": "execute_result"
    }
   ],
   "source": [
    "kmeans.score(ds)"
   ]
  },
  {
   "cell_type": "code",
   "execution_count": 52,
   "metadata": {},
   "outputs": [],
   "source": [
    "K=3"
   ]
  },
  {
   "cell_type": "code",
   "execution_count": 53,
   "metadata": {},
   "outputs": [
    {
     "data": {
      "image/png": "[encoded data removed]",
      "text/plain": [
       "<Figure size 432x288 with 1 Axes>"
      ]
     },
     "metadata": {},
     "output_type": "display_data"
    }
   ],
   "source": [
    "Centroids = (X.sample(n=K))\n",
    "plt.scatter(X[\"Purpose\"],X[\"Credit amount\"],c='black')\n",
    "plt.scatter(Centroids[\"Purpose\"],Centroids[\"Credit amount\"],c='red')\n",
    "plt.xlabel('Credit amount')\n",
    "plt.ylabel('Purpose')\n",
    "plt.show()"
   ]
  },
  {
   "cell_type": "code",
   "execution_count": 54,
   "metadata": {},
   "outputs": [],
   "source": [
    "diff = 1\n",
    "j=0"
   ]
  },
  {
   "cell_type": "code",
   "execution_count": 55,
   "metadata": {},
   "outputs": [
    {
     "name": "stderr",
     "output_type": "stream",
     "text": [
      "C:\\Users\\kumar\\Anaconda3\\lib\\site-packages\\ipykernel_launcher.py:11: SettingWithCopyWarning: \n",
      "A value is trying to be set on a copy of a slice from a DataFrame.\n",
      "Try using .loc[row_indexer,col_indexer] = value instead\n",
      "\n",
      "See the caveats in the documentation: http://pandas.pydata.org/pandas-docs/stable/user_guide/indexing.html#returning-a-view-versus-a-copy\n",
      "  # This is added back by InteractiveShellApp.init_path()\n",
      "C:\\Users\\kumar\\Anaconda3\\lib\\site-packages\\ipykernel_launcher.py:23: SettingWithCopyWarning: \n",
      "A value is trying to be set on a copy of a slice from a DataFrame.\n",
      "Try using .loc[row_indexer,col_indexer] = value instead\n",
      "\n",
      "See the caveats in the documentation: http://pandas.pydata.org/pandas-docs/stable/user_guide/indexing.html#returning-a-view-versus-a-copy\n"
     ]
    },
    {
     "name": "stdout",
     "output_type": "stream",
     "text": [
      "28.172473645470085\n",
      "27.215280154290824\n",
      "8.500739399463995\n",
      "0.0\n"
     ]
    }
   ],
   "source": [
    "while(diff!=0):\n",
    "    XD=X\n",
    "    i=1\n",
    "    for index1,row_c in Centroids.iterrows():\n",
    "        ED=[]\n",
    "        for index2,row_d in XD.iterrows():\n",
    "            d1=(row_c[\"Credit amount\"]-row_d[\"Credit amount\"])**2\n",
    "            d2=(row_c[\"Purpose\"]-row_d[\"Purpose\"])**2\n",
    "            d=np.sqrt(d1+d2)\n",
    "            ED.append(d)\n",
    "        X[i]=ED\n",
    "        i=i+1\n",
    "\n",
    "    C=[]\n",
    "    for index,row in X.iterrows():\n",
    "        min_dist=row[1]\n",
    "        pos=1\n",
    "        for i in range(K):\n",
    "            if row[i+1] < min_dist:\n",
    "                min_dist = row[i+1]\n",
    "                pos=i+1\n",
    "        C.append(pos)\n",
    "    X[\"Cluster\"]=C\n",
    "    Centroids_new = X.groupby([\"Cluster\"]).mean()[[\"Purpose\",\"Credit amount\"]]\n",
    "    if j == 0:\n",
    "        diff=1\n",
    "        j=j+1\n",
    "    else:\n",
    "        diff = (Centroids_new['Purpose'] - Centroids['Purpose']).sum() + (Centroids_new['Credit amount'] - Centroids['Credit amount']).sum()\n",
    "        print(diff.sum())\n",
    "    Centroids = X.groupby([\"Cluster\"]).mean()[[\"Purpose\",\"Credit amount\"]]"
   ]
  },
  {
   "cell_type": "code",
   "execution_count": 56,
   "metadata": {},
   "outputs": [
    {
     "data": {
      "image/png": "[encoded data removed]",
      "text/plain": [
       "<Figure size 432x288 with 1 Axes>"
      ]
     },
     "metadata": {},
     "output_type": "display_data"
    }
   ],
   "source": [
    "color=['blue','green','cyan']\n",
    "for k in range(K):\n",
    "    ds=X[X[\"Cluster\"]==k+1]\n",
    "    plt.scatter(ds[\"Credit amount\"],ds[\"Purpose\"],c=color[k])\n",
    "plt.scatter(Centroids[\"Credit amount\"],Centroids[\"Purpose\"],c='red')\n",
    "plt.xlabel('Credit amount')\n",
    "plt.ylabel('Purpose')\n",
    "plt.show()"
   ]
  },
  {
   "cell_type": "code",
   "execution_count": 57,
   "metadata": {},
   "outputs": [
    {
     "data": {
      "image/png": "[encoded data removed]",
      "text/plain": [
       "<Figure size 432x288 with 1 Axes>"
      ]
     },
     "metadata": {},
     "output_type": "display_data"
    }
   ],
   "source": [
    "Centroids = (Y.sample(n=K))\n",
    "plt.scatter(Y[\"Purpose\"],Y[\"Checking account\"],c='black')\n",
    "plt.scatter(Centroids[\"Purpose\"],Centroids[\"Checking account\"],c='red')\n",
    "plt.xlabel('Checking account')\n",
    "plt.ylabel('Purpose')\n",
    "plt.show()"
   ]
  },
  {
   "cell_type": "code",
   "execution_count": 58,
   "metadata": {},
   "outputs": [],
   "source": [
    "diff = 1\n",
    "j=0"
   ]
  },
  {
   "cell_type": "code",
   "execution_count": 59,
   "metadata": {},
   "outputs": [
    {
     "name": "stdout",
     "output_type": "stream",
     "text": [
      "0.06384288858176002\n",
      "0.0\n"
     ]
    }
   ],
   "source": [
    "while(diff!=0):\n",
    "    XD=Y\n",
    "    i=1\n",
    "    for index1,row_c in Centroids.iterrows():\n",
    "        ED=[]\n",
    "        for index2,row_d in XD.iterrows():\n",
    "            d1=(row_c[\"Checking account\"]-row_d[\"Checking account\"])**2\n",
    "            d2=(row_c[\"Purpose\"]-row_d[\"Purpose\"])**2\n",
    "            d=np.sqrt(d1+d2)\n",
    "            ED.append(d)\n",
    "        Y[i]=ED\n",
    "        i=i+1\n",
    "\n",
    "    C=[]\n",
    "    for index,row in Y.iterrows():\n",
    "        min_dist=row[1]\n",
    "        pos=1\n",
    "        for i in range(K):\n",
    "            if row[i+1] < min_dist:\n",
    "                min_dist = row[i+1]\n",
    "                pos=i+1\n",
    "        C.append(pos)\n",
    "    Y[\"Cluster\"]=C\n",
    "    Centroids_new = Y.groupby([\"Cluster\"]).mean()[[\"Purpose\",\"Checking account\"]]\n",
    "    if j == 0:\n",
    "        diff=1\n",
    "        j=j+1\n",
    "    else:\n",
    "        diff = (Centroids_new['Purpose'] - Centroids['Purpose']).sum() + (Centroids_new['Checking account'] - Centroids['Checking account']).sum()\n",
    "        print(diff.sum())\n",
    "    Centroids = Y.groupby([\"Cluster\"]).mean()[[\"Purpose\",\"Checking account\"]]"
   ]
  },
  {
   "cell_type": "code",
   "execution_count": 60,
   "metadata": {},
   "outputs": [
    {
     "data": {
      "image/png": "[encoded data removed]",
      "text/plain": [
       "<Figure size 432x288 with 1 Axes>"
      ]
     },
     "metadata": {},
     "output_type": "display_data"
    }
   ],
   "source": [
    "color=['blue','green','cyan']\n",
    "for k in range(K):\n",
    "    ds=Y[Y[\"Cluster\"]==k+1]\n",
    "    plt.scatter(ds[\"Checking account\"],ds[\"Purpose\"],c=color[k])\n",
    "plt.scatter(Centroids[\"Checking account\"],Centroids[\"Purpose\"],c='red')\n",
    "plt.xlabel('Checking account')\n",
    "plt.ylabel('Purpose')\n",
    "plt.show()"
   ]
  },
  {
   "cell_type": "code",
   "execution_count": 61,
   "metadata": {},
   "outputs": [
    {
     "data": {
      "image/png": "[encoded data removed]",
      "text/plain": [
       "<Figure size 432x288 with 1 Axes>"
      ]
     },
     "metadata": {},
     "output_type": "display_data"
    }
   ],
   "source": [
    "Centroids = (Z.sample(n=K))\n",
    "plt.scatter(Z[\"Purpose\"],Z[\"Saving accounts\"],c='black')\n",
    "plt.scatter(Centroids[\"Purpose\"],Centroids[\"Saving accounts\"],c='red')\n",
    "plt.xlabel('Saving accounts')\n",
    "plt.ylabel('Purpose')\n",
    "plt.show()"
   ]
  },
  {
   "cell_type": "code",
   "execution_count": 62,
   "metadata": {},
   "outputs": [],
   "source": [
    "diff = 1\n",
    "j=0"
   ]
  },
  {
   "cell_type": "code",
   "execution_count": 63,
   "metadata": {},
   "outputs": [
    {
     "name": "stdout",
     "output_type": "stream",
     "text": [
      "-0.18154283691290973\n",
      "0.0\n"
     ]
    }
   ],
   "source": [
    "while(diff!=0):\n",
    "    XD=Z\n",
    "    i=1\n",
    "    for index1,row_c in Centroids.iterrows():\n",
    "        ED=[]\n",
    "        for index2,row_d in XD.iterrows():\n",
    "            d1=(row_c[\"Saving accounts\"]-row_d[\"Saving accounts\"])**2\n",
    "            d2=(row_c[\"Purpose\"]-row_d[\"Purpose\"])**2\n",
    "            d=np.sqrt(d1+d2)\n",
    "            ED.append(d)\n",
    "        Z[i]=ED\n",
    "        i=i+1\n",
    "\n",
    "    C=[]\n",
    "    for index,row in Z.iterrows():\n",
    "        min_dist=row[1]\n",
    "        pos=1\n",
    "        for i in range(K):\n",
    "            if row[i+1] < min_dist:\n",
    "                min_dist = row[i+1]\n",
    "                pos=i+1\n",
    "        C.append(pos)\n",
    "    Z[\"Cluster\"]=C\n",
    "    Centroids_new = Z.groupby([\"Cluster\"]).mean()[[\"Purpose\",\"Saving accounts\"]]\n",
    "    if j == 0:\n",
    "        diff=1\n",
    "        j=j+1\n",
    "    else:\n",
    "        diff = (Centroids_new['Purpose'] - Centroids['Purpose']).sum() + (Centroids_new['Saving accounts'] - Centroids['Saving accounts']).sum()\n",
    "        print(diff.sum())\n",
    "    Centroids = Z.groupby([\"Cluster\"]).mean()[[\"Purpose\",\"Saving accounts\"]]"
   ]
  },
  {
   "cell_type": "code",
   "execution_count": 64,
   "metadata": {},
   "outputs": [
    {
     "data": {
      "image/png": "[encoded data removed]",
      "text/plain": [
       "<Figure size 432x288 with 1 Axes>"
      ]
     },
     "metadata": {},
     "output_type": "display_data"
    }
   ],
   "source": [
    "color=['blue','green','cyan']\n",
    "for k in range(K):\n",
    "    ds=Z[Z[\"Cluster\"]==k+1]\n",
    "    plt.scatter(ds[\"Saving accounts\"],ds[\"Purpose\"],c=color[k])\n",
    "plt.scatter(Centroids[\"Saving accounts\"],Centroids[\"Purpose\"],c='red')\n",
    "plt.xlabel('Saving accounts')\n",
    "plt.ylabel('Purpose')\n",
    "plt.show()"
   ]
  },
  {
   "cell_type": "code",
   "execution_count": 65,
   "metadata": {},
   "outputs": [
    {
     "data": {
      "image/png": "[encoded data removed]",
      "text/plain": [
       "<Figure size 432x288 with 1 Axes>"
      ]
     },
     "metadata": {},
     "output_type": "display_data"
    }
   ],
   "source": [
    "Centroids = (A.sample(n=K))\n",
    "plt.scatter(A[\"Purpose\"],A[\"Housing\"],c='black')\n",
    "plt.scatter(Centroids[\"Purpose\"],Centroids[\"Housing\"],c='red')\n",
    "plt.xlabel('Housing')\n",
    "plt.ylabel('Purpose')\n",
    "plt.show()"
   ]
  },
  {
   "cell_type": "code",
   "execution_count": 66,
   "metadata": {},
   "outputs": [],
   "source": [
    "diff = 1\n",
    "j=0"
   ]
  },
  {
   "cell_type": "code",
   "execution_count": 67,
   "metadata": {},
   "outputs": [
    {
     "name": "stdout",
     "output_type": "stream",
     "text": [
      "0.0\n"
     ]
    }
   ],
   "source": [
    "while(diff!=0):\n",
    "    XD=A\n",
    "    i=1\n",
    "    for index1,row_c in Centroids.iterrows():\n",
    "        ED=[]\n",
    "        for index2,row_d in XD.iterrows():\n",
    "            d1=(row_c[\"Housing\"]-row_d[\"Housing\"])**2\n",
    "            d2=(row_c[\"Purpose\"]-row_d[\"Purpose\"])**2\n",
    "            d=np.sqrt(d1+d2)\n",
    "            ED.append(d)\n",
    "        A[i]=ED\n",
    "        i=i+1\n",
    "\n",
    "    C=[]\n",
    "    for index,row in A.iterrows():\n",
    "        min_dist=row[1]\n",
    "        pos=1\n",
    "        for i in range(K):\n",
    "            if row[i+1] < min_dist:\n",
    "                min_dist = row[i+1]\n",
    "                pos=i+1\n",
    "        C.append(pos)\n",
    "    A[\"Cluster\"]=C\n",
    "    Centroids_new = A.groupby([\"Cluster\"]).mean()[[\"Purpose\",\"Housing\"]]\n",
    "    if j == 0:\n",
    "        diff=1\n",
    "        j=j+1\n",
    "    else:\n",
    "        diff = (Centroids_new['Purpose'] - Centroids['Purpose']).sum() + (Centroids_new['Housing'] - Centroids['Housing']).sum()\n",
    "        print(diff.sum())\n",
    "    Centroids = A.groupby([\"Cluster\"]).mean()[[\"Purpose\",\"Housing\"]]"
   ]
  },
  {
   "cell_type": "code",
   "execution_count": 68,
   "metadata": {},
   "outputs": [
    {
     "data": {
      "image/png": "[encoded data removed]",
      "text/plain": [
       "<Figure size 432x288 with 1 Axes>"
      ]
     },
     "metadata": {},
     "output_type": "display_data"
    }
   ],
   "source": [
    "color=['blue','green','cyan']\n",
    "for k in range(K):\n",
    "    ds=A[A[\"Cluster\"]==k+1]\n",
    "    plt.scatter(ds[\"Housing\"],ds[\"Purpose\"],c=color[k])\n",
    "plt.scatter(Centroids[\"Housing\"],Centroids[\"Purpose\"],c='red')\n",
    "plt.xlabel('Housing')\n",
    "plt.ylabel('Purpose')\n",
    "plt.show()"
   ]
  },
  {
   "cell_type": "code",
   "execution_count": 69,
   "metadata": {},
   "outputs": [
    {
     "data": {
      "image/png": "[encoded data removed]",
      "text/plain": [
       "<Figure size 432x288 with 1 Axes>"
      ]
     },
     "metadata": {},
     "output_type": "display_data"
    }
   ],
   "source": [
    "Centroids = (B.sample(n=K))\n",
    "plt.scatter(B[\"Purpose\"],B[\"Job\"],c='black')\n",
    "plt.scatter(Centroids[\"Purpose\"],Centroids[\"Job\"],c='red')\n",
    "plt.xlabel('Job')\n",
    "plt.ylabel('Purpose')\n",
    "plt.show()"
   ]
  },
  {
   "cell_type": "code",
   "execution_count": 70,
   "metadata": {},
   "outputs": [],
   "source": [
    "diff = 1\n",
    "j=0"
   ]
  },
  {
   "cell_type": "code",
   "execution_count": 71,
   "metadata": {},
   "outputs": [
    {
     "name": "stdout",
     "output_type": "stream",
     "text": [
      "0.0\n"
     ]
    }
   ],
   "source": [
    "while(diff!=0):\n",
    "    XD=B\n",
    "    i=1\n",
    "    for index1,row_c in Centroids.iterrows():\n",
    "        ED=[]\n",
    "        for index2,row_d in XD.iterrows():\n",
    "            d1=(row_c[\"Job\"]-row_d[\"Job\"])**2\n",
    "            d2=(row_c[\"Purpose\"]-row_d[\"Purpose\"])**2\n",
    "            d=np.sqrt(d1+d2)\n",
    "            ED.append(d)\n",
    "        B[i]=ED\n",
    "        i=i+1\n",
    "\n",
    "    C=[]\n",
    "    for index,row in B.iterrows():\n",
    "        min_dist=row[1]\n",
    "        pos=1\n",
    "        for i in range(K):\n",
    "            if row[i+1] < min_dist:\n",
    "                min_dist = row[i+1]\n",
    "                pos=i+1\n",
    "        C.append(pos)\n",
    "    B[\"Cluster\"]=C\n",
    "    Centroids_new = B.groupby([\"Cluster\"]).mean()[[\"Purpose\",\"Job\"]]\n",
    "    if j == 0:\n",
    "        diff=1\n",
    "        j=j+1\n",
    "    else:\n",
    "        diff = (Centroids_new['Purpose'] - Centroids['Purpose']).sum() + (Centroids_new['Job'] - Centroids['Job']).sum()\n",
    "        print(diff.sum())\n",
    "    Centroids = B.groupby([\"Cluster\"]).mean()[[\"Purpose\",\"Job\"]]"
   ]
  },
  {
   "cell_type": "code",
   "execution_count": 72,
   "metadata": {},
   "outputs": [
    {
     "data": {
      "image/png": "[encoded data removed]",
      "text/plain": [
       "<Figure size 432x288 with 1 Axes>"
      ]
     },
     "metadata": {},
     "output_type": "display_data"
    }
   ],
   "source": [
    "color=['blue','green','cyan']\n",
    "for k in range(K):\n",
    "    ds=B[B[\"Cluster\"]==k+1]\n",
    "    plt.scatter(ds[\"Job\"],ds[\"Purpose\"],c=color[k])\n",
    "plt.scatter(Centroids[\"Job\"],Centroids[\"Purpose\"],c='red')\n",
    "plt.xlabel('Job')\n",
    "plt.ylabel('Purpose')\n",
    "plt.show()"
   ]
  },
  {
   "cell_type": "code",
   "execution_count": 73,
   "metadata": {},
   "outputs": [],
   "source": [
    "SSE = []"
   ]
  },
  {
   "cell_type": "code",
   "execution_count": 74,
   "metadata": {},
   "outputs": [],
   "source": [
    "for cluster in range(1,20):\n",
    "    kmeans = KMeans(n_jobs = -1, n_clusters = cluster)\n",
    "    kmeans.fit(ds_1)\n",
    "    SSE.append(kmeans.inertia_)"
   ]
  },
  {
   "cell_type": "code",
   "execution_count": 75,
   "metadata": {},
   "outputs": [],
   "source": [
    "frame = pd.DataFrame({'Cluster':range(1,20), 'SSE':SSE})"
   ]
  },
  {
   "cell_type": "code",
   "execution_count": 76,
   "metadata": {},
   "outputs": [
    {
     "data": {
      "text/plain": [
       "Text(0, 0.5, 'Inertia')"
      ]
     },
     "execution_count": 76,
     "metadata": {},
     "output_type": "execute_result"
    },
    {
     "data": {
      "image/png": "[encoded data removed]",
      "text/plain": [
       "<Figure size 864x432 with 1 Axes>"
      ]
     },
     "metadata": {},
     "output_type": "display_data"
    }
   ],
   "source": [
    "plt.figure(figsize=(12,6))\n",
    "plt.plot(frame['Cluster'], frame['SSE'], marker='o')\n",
    "plt.xlabel('Number of clusters')\n",
    "plt.ylabel('Inertia')"
   ]
  },
  {
   "cell_type": "code",
   "execution_count": 77,
   "metadata": {},
   "outputs": [],
   "source": [
    "from sklearn.preprocessing import StandardScaler\n",
    "\n",
    "scaler = StandardScaler()\n",
    "\n",
    "data_scaled = scaler.fit_transform(ds_1)"
   ]
  },
  {
   "cell_type": "code",
   "execution_count": 78,
   "metadata": {},
   "outputs": [
    {
     "data": {
      "text/html": [
       "<div>\n",
       "<style scoped>\n",
       "    .dataframe tbody tr th:only-of-type {\n",
       "        vertical-align: middle;\n",
       "    }\n",
       "\n",
       "    .dataframe tbody tr th {\n",
       "        vertical-align: top;\n",
       "    }\n",
       "\n",
       "    .dataframe thead th {\n",
       "        text-align: right;\n",
       "    }\n",
       "</style>\n",
       "<table border=\"1\" class=\"dataframe\">\n",
       "  <thead>\n",
       "    <tr style=\"text-align: right;\">\n",
       "      <th></th>\n",
       "      <th>Age</th>\n",
       "      <th>Sex</th>\n",
       "      <th>Job</th>\n",
       "      <th>Housing</th>\n",
       "      <th>Saving accounts</th>\n",
       "      <th>Checking account</th>\n",
       "      <th>Credit amount</th>\n",
       "      <th>Duration</th>\n",
       "      <th>Purpose</th>\n",
       "    </tr>\n",
       "  </thead>\n",
       "  <tbody>\n",
       "    <tr>\n",
       "      <td>count</td>\n",
       "      <td>1000.000000</td>\n",
       "      <td>1000.000000</td>\n",
       "      <td>1000.000000</td>\n",
       "      <td>1000.000000</td>\n",
       "      <td>1000.000000</td>\n",
       "      <td>1000.000000</td>\n",
       "      <td>1000.000000</td>\n",
       "      <td>1000.000000</td>\n",
       "      <td>1000.000000</td>\n",
       "    </tr>\n",
       "    <tr>\n",
       "      <td>mean</td>\n",
       "      <td>33.865214</td>\n",
       "      <td>0.690000</td>\n",
       "      <td>1.969912</td>\n",
       "      <td>0.999760</td>\n",
       "      <td>0.119538</td>\n",
       "      <td>0.637000</td>\n",
       "      <td>2438.589442</td>\n",
       "      <td>18.598143</td>\n",
       "      <td>2.878000</td>\n",
       "    </tr>\n",
       "    <tr>\n",
       "      <td>std</td>\n",
       "      <td>8.799675</td>\n",
       "      <td>0.462725</td>\n",
       "      <td>0.039952</td>\n",
       "      <td>0.000405</td>\n",
       "      <td>0.201245</td>\n",
       "      <td>0.640032</td>\n",
       "      <td>1248.518270</td>\n",
       "      <td>8.463538</td>\n",
       "      <td>1.978138</td>\n",
       "    </tr>\n",
       "    <tr>\n",
       "      <td>min</td>\n",
       "      <td>19.000000</td>\n",
       "      <td>0.000000</td>\n",
       "      <td>1.904000</td>\n",
       "      <td>0.998822</td>\n",
       "      <td>0.000000</td>\n",
       "      <td>0.000000</td>\n",
       "      <td>250.000000</td>\n",
       "      <td>4.000000</td>\n",
       "      <td>0.000000</td>\n",
       "    </tr>\n",
       "    <tr>\n",
       "      <td>25%</td>\n",
       "      <td>27.000000</td>\n",
       "      <td>0.000000</td>\n",
       "      <td>1.928470</td>\n",
       "      <td>0.999368</td>\n",
       "      <td>0.000000</td>\n",
       "      <td>0.000000</td>\n",
       "      <td>1365.500000</td>\n",
       "      <td>12.000000</td>\n",
       "      <td>1.000000</td>\n",
       "    </tr>\n",
       "    <tr>\n",
       "      <td>50%</td>\n",
       "      <td>33.000000</td>\n",
       "      <td>1.000000</td>\n",
       "      <td>2.000000</td>\n",
       "      <td>1.000000</td>\n",
       "      <td>0.000000</td>\n",
       "      <td>1.000000</td>\n",
       "      <td>2319.500000</td>\n",
       "      <td>18.000000</td>\n",
       "      <td>3.000000</td>\n",
       "    </tr>\n",
       "    <tr>\n",
       "      <td>75%</td>\n",
       "      <td>39.000000</td>\n",
       "      <td>1.000000</td>\n",
       "      <td>2.000000</td>\n",
       "      <td>1.000000</td>\n",
       "      <td>0.458000</td>\n",
       "      <td>1.000000</td>\n",
       "      <td>3271.258000</td>\n",
       "      <td>24.000000</td>\n",
       "      <td>5.000000</td>\n",
       "    </tr>\n",
       "    <tr>\n",
       "      <td>max</td>\n",
       "      <td>57.000000</td>\n",
       "      <td>1.000000</td>\n",
       "      <td>2.000000</td>\n",
       "      <td>1.000000</td>\n",
       "      <td>0.458000</td>\n",
       "      <td>2.000000</td>\n",
       "      <td>5998.000000</td>\n",
       "      <td>40.000000</td>\n",
       "      <td>7.000000</td>\n",
       "    </tr>\n",
       "  </tbody>\n",
       "</table>\n",
       "</div>"
      ],
      "text/plain": [
       "               Age          Sex          Job      Housing  Saving accounts  \\\n",
       "count  1000.000000  1000.000000  1000.000000  1000.000000      1000.000000   \n",
       "mean     33.865214     0.690000     1.969912     0.999760         0.119538   \n",
       "std       8.799675     0.462725     0.039952     0.000405         0.201245   \n",
       "min      19.000000     0.000000     1.904000     0.998822         0.000000   \n",
       "25%      27.000000     0.000000     1.928470     0.999368         0.000000   \n",
       "50%      33.000000     1.000000     2.000000     1.000000         0.000000   \n",
       "75%      39.000000     1.000000     2.000000     1.000000         0.458000   \n",
       "max      57.000000     1.000000     2.000000     1.000000         0.458000   \n",
       "\n",
       "       Checking account  Credit amount     Duration      Purpose  \n",
       "count       1000.000000    1000.000000  1000.000000  1000.000000  \n",
       "mean           0.637000    2438.589442    18.598143     2.878000  \n",
       "std            0.640032    1248.518270     8.463538     1.978138  \n",
       "min            0.000000     250.000000     4.000000     0.000000  \n",
       "25%            0.000000    1365.500000    12.000000     1.000000  \n",
       "50%            1.000000    2319.500000    18.000000     3.000000  \n",
       "75%            1.000000    3271.258000    24.000000     5.000000  \n",
       "max            2.000000    5998.000000    40.000000     7.000000  "
      ]
     },
     "execution_count": 78,
     "metadata": {},
     "output_type": "execute_result"
    }
   ],
   "source": [
    "pd.DataFrame(ds_1).describe()"
   ]
  },
  {
   "cell_type": "code",
   "execution_count": 79,
   "metadata": {},
   "outputs": [],
   "source": [
    "SSE_scaled = []"
   ]
  },
  {
   "cell_type": "code",
   "execution_count": 80,
   "metadata": {},
   "outputs": [],
   "source": [
    "for cluster in range(1,20):\n",
    "    kmeans = KMeans(n_jobs = -1, n_clusters = cluster)\n",
    "    kmeans.fit(ds_1)\n",
    "    SSE_scaled.append(kmeans.inertia_)"
   ]
  },
  {
   "cell_type": "markdown",
   "metadata": {},
   "source": [
    "## Elbow method to get total no. of clusters"
   ]
  },
  {
   "cell_type": "code",
   "execution_count": 81,
   "metadata": {},
   "outputs": [
    {
     "data": {
      "text/plain": [
       "Text(0, 0.5, 'SSE')"
      ]
     },
     "execution_count": 81,
     "metadata": {},
     "output_type": "execute_result"
    },
    {
     "data": {
      "image/png": "[encoded data removed]",
      "text/plain": [
       "<Figure size 864x432 with 1 Axes>"
      ]
     },
     "metadata": {},
     "output_type": "display_data"
    }
   ],
   "source": [
    "plt.figure(figsize=(12,6))\n",
    "frame_scaled = pd.DataFrame({'Cluster':range(1,20), 'SSE':SSE_scaled})\n",
    "plt.plot(frame_scaled['Cluster'], frame_scaled['SSE'], marker='o')\n",
    "plt.xlabel(\"Clusters\")\n",
    "plt.ylabel(\"SSE\")"
   ]
  },
  {
   "cell_type": "markdown",
   "metadata": {},
   "source": [
    "## K=5"
   ]
  },
  {
   "cell_type": "code",
   "execution_count": 82,
   "metadata": {},
   "outputs": [
    {
     "data": {
      "text/plain": [
       "KMeans(algorithm='auto', copy_x=True, init='k-means++', max_iter=300,\n",
       "       n_clusters=5, n_init=10, n_jobs=-1, precompute_distances='auto',\n",
       "       random_state=None, tol=0.0001, verbose=0)"
      ]
     },
     "execution_count": 82,
     "metadata": {},
     "output_type": "execute_result"
    }
   ],
   "source": [
    "kmeans = KMeans(n_jobs = -1, n_clusters = 5)\n",
    "kmeans.fit(ds_1)\n"
   ]
  },
  {
   "cell_type": "code",
   "execution_count": 83,
   "metadata": {},
   "outputs": [],
   "source": [
    "pred = kmeans.predict(ds_1)"
   ]
  },
  {
   "cell_type": "code",
   "execution_count": 84,
   "metadata": {},
   "outputs": [
    {
     "data": {
      "text/plain": [
       "array([4, 2, 0, 3, 2, 3, 0, 3, 3, 2, 4, 2, 4, 4, 4, 4, 0, 3, 3, 3, 0, 0,\n",
       "       0, 4, 0, 4, 1, 1, 0, 3, 0, 3, 2, 4, 4, 2, 3, 0, 4, 1, 0, 4, 3, 3,\n",
       "       3, 4, 0, 4, 3, 0, 0, 2, 4, 3, 0, 1, 3, 3, 0, 3, 4, 4, 0, 3, 3, 2,\n",
       "       0, 1, 4, 0, 3, 1, 4, 2, 0, 4, 3, 2, 3, 3, 2, 4, 4, 4, 0, 4, 4, 3,\n",
       "       0, 4, 1, 4, 1, 3, 4, 3, 0, 0, 0, 3, 4, 0, 1, 0, 0, 3, 3, 3, 3, 4,\n",
       "       4, 1, 3, 3, 4, 3, 3, 0, 2, 0, 4, 3, 4, 1, 0, 0, 1, 1, 0, 3, 3, 3,\n",
       "       0, 0, 3, 4, 3, 1, 0, 0, 1, 2, 3, 0, 0, 3, 1, 1, 2, 4, 4, 0, 2, 3,\n",
       "       3, 4, 4, 1, 3, 0, 3, 1, 4, 3, 1, 3, 4, 4, 3, 0, 1, 1, 0, 4, 3, 3,\n",
       "       0, 1, 0, 1, 3, 2, 4, 3, 1, 4, 2, 4, 1, 3, 2, 3, 3, 0, 3, 4, 4, 1,\n",
       "       0, 2, 1, 4, 2, 1, 4, 3, 0, 4, 3, 4, 3, 3, 2, 0, 3, 1, 3, 3, 3, 4,\n",
       "       1, 4, 1, 3, 2, 0, 3, 3, 4, 3, 2, 0, 0, 1, 4, 4, 3, 0, 4, 0, 1, 4,\n",
       "       2, 4, 3, 4, 1, 4, 0, 1, 1, 0, 0, 3, 0, 3, 0, 0, 3, 4, 4, 4, 2, 0,\n",
       "       4, 1, 3, 4, 3, 1, 0, 4, 3, 3, 3, 0, 0, 4, 2, 0, 3, 4, 4, 4, 3, 3,\n",
       "       2, 3, 4, 1, 1, 3, 3, 2, 3, 3, 2, 4, 0, 0, 1, 3, 4, 1, 3, 4, 2, 1,\n",
       "       4, 1, 2, 2, 3, 1, 4, 0, 1, 2, 1, 3, 2, 0, 3, 0, 1, 3, 2, 4, 2, 1,\n",
       "       3, 0, 3, 3, 3, 3, 0, 4, 3, 4, 2, 3, 3, 2, 3, 4, 1, 3, 4, 4, 4, 1,\n",
       "       3, 3, 1, 4, 0, 2, 1, 0, 4, 3, 0, 4, 0, 4, 3, 3, 3, 3, 3, 3, 0, 3,\n",
       "       3, 3, 0, 1, 3, 1, 0, 3, 4, 4, 2, 0, 4, 3, 0, 4, 4, 1, 3, 0, 0, 3,\n",
       "       0, 0, 4, 4, 4, 0, 3, 1, 3, 0, 0, 1, 3, 1, 0, 3, 0, 4, 4, 2, 0, 3,\n",
       "       0, 1, 3, 0, 1, 4, 0, 0, 0, 4, 4, 4, 3, 3, 0, 0, 0, 4, 1, 4, 3, 1,\n",
       "       0, 4, 0, 1, 2, 4, 4, 0, 4, 4, 3, 1, 0, 0, 2, 0, 3, 3, 1, 2, 3, 4,\n",
       "       3, 1, 0, 3, 4, 3, 0, 2, 3, 1, 1, 4, 4, 3, 0, 2, 1, 4, 3, 4, 3, 1,\n",
       "       4, 4, 3, 3, 4, 3, 0, 3, 4, 1, 0, 3, 3, 4, 4, 4, 3, 2, 4, 4, 4, 4,\n",
       "       0, 3, 4, 3, 1, 2, 0, 1, 0, 1, 4, 3, 4, 1, 2, 3, 3, 3, 4, 3, 4, 4,\n",
       "       0, 1, 0, 0, 4, 4, 3, 0, 4, 3, 3, 3, 4, 0, 3, 3, 4, 4, 0, 4, 1, 3,\n",
       "       1, 4, 3, 0, 4, 4, 0, 2, 3, 0, 3, 4, 1, 3, 2, 4, 4, 0, 3, 3, 3, 2,\n",
       "       2, 1, 1, 0, 3, 0, 0, 1, 1, 3, 4, 0, 0, 0, 0, 4, 4, 0, 1, 0, 4, 0,\n",
       "       4, 1, 4, 2, 0, 3, 0, 1, 4, 3, 4, 0, 2, 0, 0, 4, 1, 4, 3, 3, 4, 3,\n",
       "       3, 3, 3, 1, 3, 4, 3, 4, 0, 0, 0, 4, 3, 3, 3, 4, 4, 0, 4, 4, 4, 3,\n",
       "       4, 2, 1, 4, 2, 4, 0, 3, 2, 4, 1, 1, 3, 0, 0, 3, 0, 3, 1, 3, 2, 3,\n",
       "       4, 1, 0, 1, 1, 3, 3, 3, 2, 3, 3, 2, 3, 0, 0, 2, 2, 2, 0, 4, 4, 0,\n",
       "       4, 2, 3, 3, 4, 3, 0, 3, 1, 0, 3, 2, 0, 4, 4, 1, 4, 0, 4, 3, 4, 0,\n",
       "       0, 2, 3, 3, 4, 0, 1, 4, 0, 4, 3, 3, 3, 4, 3, 3, 4, 1, 4, 1, 0, 1,\n",
       "       4, 0, 3, 4, 3, 0, 1, 0, 3, 3, 3, 2, 3, 2, 0, 1, 3, 0, 3, 4, 0, 4,\n",
       "       2, 3, 1, 1, 1, 2, 4, 4, 4, 4, 4, 1, 2, 0, 0, 3, 0, 4, 3, 3, 3, 4,\n",
       "       0, 3, 3, 0, 4, 4, 3, 3, 2, 3, 2, 0, 4, 1, 3, 0, 0, 0, 3, 2, 4, 3,\n",
       "       4, 3, 3, 0, 3, 4, 1, 4, 4, 4, 2, 1, 3, 3, 1, 1, 3, 4, 1, 1, 3, 3,\n",
       "       3, 3, 4, 4, 3, 4, 4, 3, 0, 1, 3, 4, 3, 3, 3, 3, 0, 4, 3, 2, 0, 1,\n",
       "       1, 1, 3, 0, 2, 3, 0, 4, 3, 3, 3, 4, 4, 1, 0, 3, 4, 4, 3, 4, 1, 3,\n",
       "       3, 3, 2, 0, 0, 2, 0, 0, 0, 3, 3, 1, 3, 4, 4, 1, 3, 4, 0, 3, 4, 3,\n",
       "       3, 3, 0, 4, 3, 1, 0, 3, 3, 3, 0, 4, 0, 2, 4, 3, 0, 4, 0, 3, 0, 3,\n",
       "       3, 4, 4, 4, 3, 3, 3, 3, 2, 2, 3, 0, 3, 3, 3, 3, 0, 3, 4, 3, 4, 0,\n",
       "       3, 1, 1, 3, 0, 4, 4, 4, 4, 1, 4, 0, 1, 0, 3, 3, 3, 4, 1, 4, 4, 3,\n",
       "       3, 3, 4, 3, 3, 0, 3, 3, 0, 4, 3, 4, 3, 3, 4, 0, 3, 0, 1, 4, 0, 3,\n",
       "       3, 3, 4, 3, 4, 3, 0, 4, 1, 0, 0, 4, 3, 2, 3, 3, 0, 4, 3, 4, 3, 4,\n",
       "       3, 4, 0, 3, 0, 4, 3, 1, 4, 2])"
      ]
     },
     "execution_count": 84,
     "metadata": {},
     "output_type": "execute_result"
    }
   ],
   "source": [
    "pred"
   ]
  },
  {
   "cell_type": "code",
   "execution_count": 85,
   "metadata": {},
   "outputs": [
    {
     "data": {
      "text/plain": [
       "83655141.07796207"
      ]
     },
     "execution_count": 85,
     "metadata": {},
     "output_type": "execute_result"
    }
   ],
   "source": [
    "kmeans.inertia_"
   ]
  },
  {
   "cell_type": "markdown",
   "metadata": {},
   "source": [
    "kmeans.cluster_centers_"
   ]
  },
  {
   "cell_type": "code",
   "execution_count": 86,
   "metadata": {},
   "outputs": [],
   "source": [
    "frame = pd.DataFrame(ds_1)"
   ]
  },
  {
   "cell_type": "code",
   "execution_count": 87,
   "metadata": {},
   "outputs": [
    {
     "data": {
      "text/html": [
       "<div>\n",
       "<style scoped>\n",
       "    .dataframe tbody tr th:only-of-type {\n",
       "        vertical-align: middle;\n",
       "    }\n",
       "\n",
       "    .dataframe tbody tr th {\n",
       "        vertical-align: top;\n",
       "    }\n",
       "\n",
       "    .dataframe thead th {\n",
       "        text-align: right;\n",
       "    }\n",
       "</style>\n",
       "<table border=\"1\" class=\"dataframe\">\n",
       "  <thead>\n",
       "    <tr style=\"text-align: right;\">\n",
       "      <th></th>\n",
       "      <th>Age</th>\n",
       "      <th>Sex</th>\n",
       "      <th>Job</th>\n",
       "      <th>Housing</th>\n",
       "      <th>Saving accounts</th>\n",
       "      <th>Checking account</th>\n",
       "      <th>Credit amount</th>\n",
       "      <th>Duration</th>\n",
       "      <th>Purpose</th>\n",
       "    </tr>\n",
       "  </thead>\n",
       "  <tbody>\n",
       "    <tr>\n",
       "      <td>0</td>\n",
       "      <td>35.546</td>\n",
       "      <td>1</td>\n",
       "      <td>2.00000</td>\n",
       "      <td>1.000000</td>\n",
       "      <td>0.000</td>\n",
       "      <td>0</td>\n",
       "      <td>1169.000</td>\n",
       "      <td>6.000</td>\n",
       "      <td>5</td>\n",
       "    </tr>\n",
       "    <tr>\n",
       "      <td>1</td>\n",
       "      <td>22.000</td>\n",
       "      <td>0</td>\n",
       "      <td>2.00000</td>\n",
       "      <td>1.000000</td>\n",
       "      <td>0.000</td>\n",
       "      <td>1</td>\n",
       "      <td>5951.000</td>\n",
       "      <td>20.903</td>\n",
       "      <td>5</td>\n",
       "    </tr>\n",
       "    <tr>\n",
       "      <td>2</td>\n",
       "      <td>49.000</td>\n",
       "      <td>1</td>\n",
       "      <td>1.92847</td>\n",
       "      <td>1.000000</td>\n",
       "      <td>0.000</td>\n",
       "      <td>1</td>\n",
       "      <td>2096.000</td>\n",
       "      <td>12.000</td>\n",
       "      <td>3</td>\n",
       "    </tr>\n",
       "    <tr>\n",
       "      <td>3</td>\n",
       "      <td>45.000</td>\n",
       "      <td>1</td>\n",
       "      <td>2.00000</td>\n",
       "      <td>0.998822</td>\n",
       "      <td>0.000</td>\n",
       "      <td>0</td>\n",
       "      <td>3271.258</td>\n",
       "      <td>20.903</td>\n",
       "      <td>4</td>\n",
       "    </tr>\n",
       "    <tr>\n",
       "      <td>4</td>\n",
       "      <td>53.000</td>\n",
       "      <td>1</td>\n",
       "      <td>2.00000</td>\n",
       "      <td>0.998822</td>\n",
       "      <td>0.000</td>\n",
       "      <td>0</td>\n",
       "      <td>4870.000</td>\n",
       "      <td>24.000</td>\n",
       "      <td>1</td>\n",
       "    </tr>\n",
       "    <tr>\n",
       "      <td>...</td>\n",
       "      <td>...</td>\n",
       "      <td>...</td>\n",
       "      <td>...</td>\n",
       "      <td>...</td>\n",
       "      <td>...</td>\n",
       "      <td>...</td>\n",
       "      <td>...</td>\n",
       "      <td>...</td>\n",
       "      <td>...</td>\n",
       "    </tr>\n",
       "    <tr>\n",
       "      <td>995</td>\n",
       "      <td>31.000</td>\n",
       "      <td>0</td>\n",
       "      <td>1.92847</td>\n",
       "      <td>1.000000</td>\n",
       "      <td>0.000</td>\n",
       "      <td>0</td>\n",
       "      <td>1736.000</td>\n",
       "      <td>12.000</td>\n",
       "      <td>4</td>\n",
       "    </tr>\n",
       "    <tr>\n",
       "      <td>996</td>\n",
       "      <td>40.000</td>\n",
       "      <td>1</td>\n",
       "      <td>1.90400</td>\n",
       "      <td>1.000000</td>\n",
       "      <td>0.000</td>\n",
       "      <td>0</td>\n",
       "      <td>3857.000</td>\n",
       "      <td>30.000</td>\n",
       "      <td>1</td>\n",
       "    </tr>\n",
       "    <tr>\n",
       "      <td>997</td>\n",
       "      <td>38.000</td>\n",
       "      <td>1</td>\n",
       "      <td>2.00000</td>\n",
       "      <td>1.000000</td>\n",
       "      <td>0.000</td>\n",
       "      <td>0</td>\n",
       "      <td>804.000</td>\n",
       "      <td>12.000</td>\n",
       "      <td>5</td>\n",
       "    </tr>\n",
       "    <tr>\n",
       "      <td>998</td>\n",
       "      <td>23.000</td>\n",
       "      <td>1</td>\n",
       "      <td>2.00000</td>\n",
       "      <td>0.998822</td>\n",
       "      <td>0.000</td>\n",
       "      <td>0</td>\n",
       "      <td>1845.000</td>\n",
       "      <td>20.903</td>\n",
       "      <td>5</td>\n",
       "    </tr>\n",
       "    <tr>\n",
       "      <td>999</td>\n",
       "      <td>27.000</td>\n",
       "      <td>1</td>\n",
       "      <td>2.00000</td>\n",
       "      <td>1.000000</td>\n",
       "      <td>0.458</td>\n",
       "      <td>1</td>\n",
       "      <td>4576.000</td>\n",
       "      <td>20.903</td>\n",
       "      <td>1</td>\n",
       "    </tr>\n",
       "  </tbody>\n",
       "</table>\n",
       "<p>1000 rows × 9 columns</p>\n",
       "</div>"
      ],
      "text/plain": [
       "        Age  Sex      Job   Housing  Saving accounts  Checking account  \\\n",
       "0    35.546    1  2.00000  1.000000            0.000                 0   \n",
       "1    22.000    0  2.00000  1.000000            0.000                 1   \n",
       "2    49.000    1  1.92847  1.000000            0.000                 1   \n",
       "3    45.000    1  2.00000  0.998822            0.000                 0   \n",
       "4    53.000    1  2.00000  0.998822            0.000                 0   \n",
       "..      ...  ...      ...       ...              ...               ...   \n",
       "995  31.000    0  1.92847  1.000000            0.000                 0   \n",
       "996  40.000    1  1.90400  1.000000            0.000                 0   \n",
       "997  38.000    1  2.00000  1.000000            0.000                 0   \n",
       "998  23.000    1  2.00000  0.998822            0.000                 0   \n",
       "999  27.000    1  2.00000  1.000000            0.458                 1   \n",
       "\n",
       "     Credit amount  Duration  Purpose  \n",
       "0         1169.000     6.000        5  \n",
       "1         5951.000    20.903        5  \n",
       "2         2096.000    12.000        3  \n",
       "3         3271.258    20.903        4  \n",
       "4         4870.000    24.000        1  \n",
       "..             ...       ...      ...  \n",
       "995       1736.000    12.000        4  \n",
       "996       3857.000    30.000        1  \n",
       "997        804.000    12.000        5  \n",
       "998       1845.000    20.903        5  \n",
       "999       4576.000    20.903        1  \n",
       "\n",
       "[1000 rows x 9 columns]"
      ]
     },
     "execution_count": 87,
     "metadata": {},
     "output_type": "execute_result"
    }
   ],
   "source": [
    "frame"
   ]
  },
  {
   "cell_type": "code",
   "execution_count": 88,
   "metadata": {},
   "outputs": [
    {
     "data": {
      "text/plain": [
       "(1000, 9)"
      ]
     },
     "execution_count": 88,
     "metadata": {},
     "output_type": "execute_result"
    }
   ],
   "source": [
    "ds_1.shape"
   ]
  },
  {
   "cell_type": "code",
   "execution_count": 89,
   "metadata": {},
   "outputs": [
    {
     "data": {
      "text/plain": [
       "Index(['Age', 'Sex', 'Job', 'Housing', 'Saving accounts', 'Checking account',\n",
       "       'Credit amount', 'Duration', 'Purpose'],\n",
       "      dtype='object')"
      ]
     },
     "execution_count": 89,
     "metadata": {},
     "output_type": "execute_result"
    }
   ],
   "source": [
    "ds_1.columns"
   ]
  },
  {
   "cell_type": "code",
   "execution_count": 91,
   "metadata": {},
   "outputs": [],
   "source": [
    "K1=5"
   ]
  },
  {
   "cell_type": "code",
   "execution_count": 92,
   "metadata": {},
   "outputs": [],
   "source": [
    "X1 = ds_1[[\"Purpose\",\"Credit amount\"]]\n",
    "Y1 = ds_1[[\"Purpose\",\"Checking account\"]]\n",
    "Z1 = ds_1[[\"Purpose\",\"Saving accounts\"]]\n",
    "A1 = ds_1[[\"Purpose\",\"Housing\"]]\n",
    "B1 = ds_1[[\"Purpose\",\"Job\"]]"
   ]
  },
  {
   "cell_type": "code",
   "execution_count": 93,
   "metadata": {},
   "outputs": [
    {
     "data": {
      "image/png": "[encoded data removed]",
      "text/plain": [
       "<Figure size 432x288 with 1 Axes>"
      ]
     },
     "metadata": {},
     "output_type": "display_data"
    }
   ],
   "source": [
    "Centroids = (X1.sample(n=K1))\n",
    "plt.scatter(X1[\"Purpose\"],X1[\"Credit amount\"],c='black')\n",
    "plt.scatter(Centroids[\"Purpose\"],Centroids[\"Credit amount\"],c='red')\n",
    "plt.xlabel('Credit amount')\n",
    "plt.ylabel('Purpose')\n",
    "plt.show()"
   ]
  },
  {
   "cell_type": "code",
   "execution_count": 94,
   "metadata": {},
   "outputs": [],
   "source": [
    "diff = 1\n",
    "j=0"
   ]
  },
  {
   "cell_type": "code",
   "execution_count": 95,
   "metadata": {},
   "outputs": [
    {
     "name": "stderr",
     "output_type": "stream",
     "text": [
      "C:\\Users\\kumar\\Anaconda3\\lib\\site-packages\\ipykernel_launcher.py:11: SettingWithCopyWarning: \n",
      "A value is trying to be set on a copy of a slice from a DataFrame.\n",
      "Try using .loc[row_indexer,col_indexer] = value instead\n",
      "\n",
      "See the caveats in the documentation: http://pandas.pydata.org/pandas-docs/stable/user_guide/indexing.html#returning-a-view-versus-a-copy\n",
      "  # This is added back by InteractiveShellApp.init_path()\n",
      "C:\\Users\\kumar\\Anaconda3\\lib\\site-packages\\ipykernel_launcher.py:23: SettingWithCopyWarning: \n",
      "A value is trying to be set on a copy of a slice from a DataFrame.\n",
      "Try using .loc[row_indexer,col_indexer] = value instead\n",
      "\n",
      "See the caveats in the documentation: http://pandas.pydata.org/pandas-docs/stable/user_guide/indexing.html#returning-a-view-versus-a-copy\n"
     ]
    },
    {
     "name": "stdout",
     "output_type": "stream",
     "text": [
      "382.6473675196982\n",
      "375.0242727181682\n",
      "344.15558569470636\n",
      "190.22691317685806\n",
      "183.53795337060973\n",
      "146.3450309877285\n",
      "152.85502616599894\n",
      "207.6077067121697\n",
      "192.04188215035938\n",
      "176.12549416776525\n",
      "153.61965548561776\n",
      "177.0551816810138\n",
      "162.44521975468356\n",
      "168.93276612022783\n",
      "156.0182188783475\n",
      "805.022808165064\n",
      "528.4643318854835\n",
      "302.30035723818656\n",
      "241.5026026220699\n",
      "120.18058924307408\n",
      "75.9030672361292\n",
      "47.27648408078326\n",
      "30.930212611931672\n",
      "19.40600575036566\n",
      "19.862726649564102\n",
      "15.878431775431416\n",
      "8.05460446774224\n",
      "0.0\n"
     ]
    }
   ],
   "source": [
    "while(diff!=0):\n",
    "    XD=X1\n",
    "    i=1\n",
    "    for index1,row_c in Centroids.iterrows():\n",
    "        ED=[]\n",
    "        for index2,row_d in XD.iterrows():\n",
    "            d1=(row_c[\"Credit amount\"]-row_d[\"Credit amount\"])**2\n",
    "            d2=(row_c[\"Purpose\"]-row_d[\"Purpose\"])**2\n",
    "            d=np.sqrt(d1+d2)\n",
    "            ED.append(d)\n",
    "        X1[i]=ED\n",
    "        i=i+1\n",
    "\n",
    "    C=[]\n",
    "    for index,row in X1.iterrows():\n",
    "        min_dist=row[1]\n",
    "        pos=1\n",
    "        for i in range(K1):\n",
    "            if row[i+1] < min_dist:\n",
    "                min_dist = row[i+1]\n",
    "                pos=i+1\n",
    "        C.append(pos)\n",
    "    X1[\"Cluster\"]=C\n",
    "    Centroids_new = X1.groupby([\"Cluster\"]).mean()[[\"Purpose\",\"Credit amount\"]]\n",
    "    if j == 0:\n",
    "        diff=1\n",
    "        j=j+1\n",
    "    else:\n",
    "        diff = (Centroids_new['Purpose'] - Centroids['Purpose']).sum() + (Centroids_new['Credit amount'] - Centroids['Credit amount']).sum()\n",
    "        print(diff.sum())\n",
    "    Centroids = X1.groupby([\"Cluster\"]).mean()[[\"Purpose\",\"Credit amount\"]]"
   ]
  },
  {
   "cell_type": "code",
   "execution_count": 96,
   "metadata": {},
   "outputs": [
    {
     "data": {
      "image/png": "[encoded data removed]",
      "text/plain": [
       "<Figure size 432x288 with 1 Axes>"
      ]
     },
     "metadata": {},
     "output_type": "display_data"
    }
   ],
   "source": [
    "color=['blue','green','cyan','grey','maroon']\n",
    "for k in range(K1):\n",
    "    ds_1=X1[X1[\"Cluster\"]==k+1]\n",
    "    plt.scatter(ds_1[\"Credit amount\"],ds_1[\"Purpose\"],c=color[k])\n",
    "plt.scatter(Centroids[\"Credit amount\"],Centroids[\"Purpose\"],c='red')\n",
    "plt.xlabel('Credit amount')\n",
    "plt.ylabel('Purpose')\n",
    "plt.show()"
   ]
  },
  {
   "cell_type": "code",
   "execution_count": 97,
   "metadata": {},
   "outputs": [
    {
     "data": {
      "image/png": "[encoded data removed]",
      "text/plain": [
       "<Figure size 432x288 with 1 Axes>"
      ]
     },
     "metadata": {},
     "output_type": "display_data"
    }
   ],
   "source": [
    "Centroids = (Y1.sample(n=K1))\n",
    "plt.scatter(Y1[\"Purpose\"],Y1[\"Checking account\"],c='black')\n",
    "plt.scatter(Centroids[\"Purpose\"],Centroids[\"Checking account\"],c='red')\n",
    "plt.xlabel('Checking account')\n",
    "plt.ylabel('Purpose')\n",
    "plt.show()"
   ]
  },
  {
   "cell_type": "code",
   "execution_count": 98,
   "metadata": {},
   "outputs": [],
   "source": [
    "diff = 1\n",
    "j=0"
   ]
  },
  {
   "cell_type": "code",
   "execution_count": 99,
   "metadata": {},
   "outputs": [
    {
     "name": "stdout",
     "output_type": "stream",
     "text": [
      "-0.06565656565656586\n",
      "-0.2686426788887333\n",
      "-0.4227542304958971\n",
      "0.0\n"
     ]
    }
   ],
   "source": [
    "while(diff!=0):\n",
    "    XD=Y1\n",
    "    i=1\n",
    "    for index1,row_c in Centroids.iterrows():\n",
    "        ED=[]\n",
    "        for index2,row_d in XD.iterrows():\n",
    "            d1=(row_c[\"Checking account\"]-row_d[\"Checking account\"])**2\n",
    "            d2=(row_c[\"Purpose\"]-row_d[\"Purpose\"])**2\n",
    "            d=np.sqrt(d1+d2)\n",
    "            ED.append(d)\n",
    "        Y1[i]=ED\n",
    "        i=i+1\n",
    "\n",
    "    C=[]\n",
    "    for index,row in Y1.iterrows():\n",
    "        min_dist=row[1]\n",
    "        pos=1\n",
    "        for i in range(K1):\n",
    "            if row[i+1] < min_dist:\n",
    "                min_dist = row[i+1]\n",
    "                pos=i+1\n",
    "        C.append(pos)\n",
    "    Y1[\"Cluster\"]=C\n",
    "    Centroids_new = Y1.groupby([\"Cluster\"]).mean()[[\"Purpose\",\"Checking account\"]]\n",
    "    if j == 0:\n",
    "        diff=1\n",
    "        j=j+1\n",
    "    else:\n",
    "        diff = (Centroids_new['Purpose'] - Centroids['Purpose']).sum() + (Centroids_new['Checking account'] - Centroids['Checking account']).sum()\n",
    "        print(diff.sum())\n",
    "    Centroids = Y1.groupby([\"Cluster\"]).mean()[[\"Purpose\",\"Checking account\"]]"
   ]
  },
  {
   "cell_type": "code",
   "execution_count": 100,
   "metadata": {},
   "outputs": [
    {
     "data": {
      "image/png": "[encoded data removed]",
      "text/plain": [
       "<Figure size 432x288 with 1 Axes>"
      ]
     },
     "metadata": {},
     "output_type": "display_data"
    }
   ],
   "source": [
    "color=['blue','green','cyan','grey','maroon']\n",
    "for k in range(K1):\n",
    "    ds_1=Y1[Y1[\"Cluster\"]==k+1]\n",
    "    plt.scatter(ds_1[\"Checking account\"],ds_1[\"Purpose\"],c=color[k])\n",
    "plt.scatter(Centroids[\"Checking account\"],Centroids[\"Purpose\"],c='red')\n",
    "plt.xlabel('Checking account')\n",
    "plt.ylabel('Purpose')\n",
    "plt.show()"
   ]
  },
  {
   "cell_type": "code",
   "execution_count": 101,
   "metadata": {},
   "outputs": [
    {
     "data": {
      "image/png": "[encoded data removed]",
      "text/plain": [
       "<Figure size 432x288 with 1 Axes>"
      ]
     },
     "metadata": {},
     "output_type": "display_data"
    }
   ],
   "source": [
    "Centroids = (Z1.sample(n=K1))\n",
    "plt.scatter(Z1[\"Purpose\"],Z1[\"Saving accounts\"],c='black')\n",
    "plt.scatter(Centroids[\"Purpose\"],Centroids[\"Saving accounts\"],c='red')\n",
    "plt.xlabel('Saving accounts')\n",
    "plt.ylabel('Purpose')\n",
    "plt.show()"
   ]
  },
  {
   "cell_type": "code",
   "execution_count": 102,
   "metadata": {},
   "outputs": [],
   "source": [
    "diff = 1\n",
    "j=0"
   ]
  },
  {
   "cell_type": "code",
   "execution_count": 103,
   "metadata": {},
   "outputs": [
    {
     "name": "stdout",
     "output_type": "stream",
     "text": [
      "-0.5928606130990731\n",
      "0.1038331048518913\n",
      "0.0\n"
     ]
    }
   ],
   "source": [
    "while(diff!=0):\n",
    "    XD=Z1\n",
    "    i=1\n",
    "    for index1,row_c in Centroids.iterrows():\n",
    "        ED=[]\n",
    "        for index2,row_d in XD.iterrows():\n",
    "            d1=(row_c[\"Saving accounts\"]-row_d[\"Saving accounts\"])**2\n",
    "            d2=(row_c[\"Purpose\"]-row_d[\"Purpose\"])**2\n",
    "            d=np.sqrt(d1+d2)\n",
    "            ED.append(d)\n",
    "        Z1[i]=ED\n",
    "        i=i+1\n",
    "\n",
    "    C=[]\n",
    "    for index,row in Z1.iterrows():\n",
    "        min_dist=row[1]\n",
    "        pos=1\n",
    "        for i in range(K1):\n",
    "            if row[i+1] < min_dist:\n",
    "                min_dist = row[i+1]\n",
    "                pos=i+1\n",
    "        C.append(pos)\n",
    "    Z1[\"Cluster\"]=C\n",
    "    Centroids_new = Z1.groupby([\"Cluster\"]).mean()[[\"Purpose\",\"Saving accounts\"]]\n",
    "    if j == 0:\n",
    "        diff=1\n",
    "        j=j+1\n",
    "    else:\n",
    "        diff = (Centroids_new['Purpose'] - Centroids['Purpose']).sum() + (Centroids_new['Saving accounts'] - Centroids['Saving accounts']).sum()\n",
    "        print(diff.sum())\n",
    "    Centroids = Z1.groupby([\"Cluster\"]).mean()[[\"Purpose\",\"Saving accounts\"]]"
   ]
  },
  {
   "cell_type": "code",
   "execution_count": 104,
   "metadata": {},
   "outputs": [
    {
     "data": {
      "image/png": "[encoded data removed]",
      "text/plain": [
       "<Figure size 432x288 with 1 Axes>"
      ]
     },
     "metadata": {},
     "output_type": "display_data"
    }
   ],
   "source": [
    "color=['blue','green','cyan','grey','maroon']\n",
    "for k in range(K1):\n",
    "    ds_1=Z1[Z1[\"Cluster\"]==k+1]\n",
    "    plt.scatter(ds_1[\"Saving accounts\"],ds_1[\"Purpose\"],c=color[k])\n",
    "plt.scatter(Centroids[\"Saving accounts\"],Centroids[\"Purpose\"],c='red')\n",
    "plt.xlabel('Saving accounts')\n",
    "plt.ylabel('Purpose')\n",
    "plt.show()"
   ]
  },
  {
   "cell_type": "code",
   "execution_count": 105,
   "metadata": {},
   "outputs": [
    {
     "data": {
      "image/png": "[encoded data removed]",
      "text/plain": [
       "<Figure size 432x288 with 1 Axes>"
      ]
     },
     "metadata": {},
     "output_type": "display_data"
    }
   ],
   "source": [
    "Centroids = (A1.sample(n=K1))\n",
    "plt.scatter(A1[\"Purpose\"],A1[\"Housing\"],c='black')\n",
    "plt.scatter(Centroids[\"Purpose\"],Centroids[\"Housing\"],c='red')\n",
    "plt.xlabel('Housing')\n",
    "plt.ylabel('Purpose')\n",
    "plt.show()"
   ]
  },
  {
   "cell_type": "code",
   "execution_count": 106,
   "metadata": {},
   "outputs": [],
   "source": [
    "diff = 1\n",
    "j=0"
   ]
  },
  {
   "cell_type": "code",
   "execution_count": 107,
   "metadata": {},
   "outputs": [
    {
     "name": "stdout",
     "output_type": "stream",
     "text": [
      "-0.6707051026736774\n",
      "-1.900865871872183\n",
      "0.0\n"
     ]
    }
   ],
   "source": [
    "while(diff!=0):\n",
    "    XD=A1\n",
    "    i=1\n",
    "    for index1,row_c in Centroids.iterrows():\n",
    "        ED=[]\n",
    "        for index2,row_d in XD.iterrows():\n",
    "            d1=(row_c[\"Housing\"]-row_d[\"Housing\"])**2\n",
    "            d2=(row_c[\"Purpose\"]-row_d[\"Purpose\"])**2\n",
    "            d=np.sqrt(d1+d2)\n",
    "            ED.append(d)\n",
    "        A1[i]=ED\n",
    "        i=i+1\n",
    "\n",
    "    C=[]\n",
    "    for index,row in A1.iterrows():\n",
    "        min_dist=row[1]\n",
    "        pos=1\n",
    "        for i in range(K1):\n",
    "            if row[i+1] < min_dist:\n",
    "                min_dist = row[i+1]\n",
    "                pos=i+1\n",
    "        C.append(pos)\n",
    "    A1[\"Cluster\"]=C\n",
    "    Centroids_new = A1.groupby([\"Cluster\"]).mean()[[\"Purpose\",\"Housing\"]]\n",
    "    if j == 0:\n",
    "        diff=1\n",
    "        j=j+1\n",
    "    else:\n",
    "        diff = (Centroids_new['Purpose'] - Centroids['Purpose']).sum() + (Centroids_new['Housing'] - Centroids['Housing']).sum()\n",
    "        print(diff.sum())\n",
    "    Centroids = A1.groupby([\"Cluster\"]).mean()[[\"Purpose\",\"Housing\"]]"
   ]
  },
  {
   "cell_type": "code",
   "execution_count": 108,
   "metadata": {},
   "outputs": [
    {
     "data": {
      "image/png": "[encoded data removed]",
      "text/plain": [
       "<Figure size 432x288 with 1 Axes>"
      ]
     },
     "metadata": {},
     "output_type": "display_data"
    }
   ],
   "source": [
    "color=['blue','green','cyan','grey','maroon']\n",
    "for k in range(K1):\n",
    "    ds_1=A1[A1[\"Cluster\"]==k+1]\n",
    "    plt.scatter(ds_1[\"Housing\"],ds_1[\"Purpose\"],c=color[k])\n",
    "plt.scatter(Centroids[\"Housing\"],Centroids[\"Purpose\"],c='red')\n",
    "plt.xlabel('Housing')\n",
    "plt.ylabel('Purpose')\n",
    "plt.show()"
   ]
  },
  {
   "cell_type": "code",
   "execution_count": null,
   "metadata": {},
   "outputs": [],
   "source": []
  },
  {
   "cell_type": "code",
   "execution_count": 109,
   "metadata": {},
   "outputs": [
    {
     "data": {
      "image/png": "[encoded data removed]",
      "text/plain": [
       "<Figure size 432x288 with 1 Axes>"
      ]
     },
     "metadata": {},
     "output_type": "display_data"
    }
   ],
   "source": [
    "Centroids = (B1.sample(n=K1))\n",
    "plt.scatter(B1[\"Purpose\"],B1[\"Job\"],c='black')\n",
    "plt.scatter(Centroids[\"Purpose\"],Centroids[\"Job\"],c='red')\n",
    "plt.xlabel('Job')\n",
    "plt.ylabel('Purpose')\n",
    "plt.show()"
   ]
  },
  {
   "cell_type": "markdown",
   "metadata": {},
   "source": [
    "plt.figure(figsize=(10,6))\n",
    "plt.title(\"Ages Frequency\")\n",
    "sns.axes_style(\"dark\")\n",
    "sns.violinplot(y=df[\"Age\"])\n",
    "plt.show()"
   ]
  },
  {
   "cell_type": "code",
   "execution_count": 110,
   "metadata": {},
   "outputs": [],
   "source": [
    "diff = 1\n",
    "j=0"
   ]
  },
  {
   "cell_type": "code",
   "execution_count": 111,
   "metadata": {},
   "outputs": [
    {
     "name": "stdout",
     "output_type": "stream",
     "text": [
      "0.6031128147715503\n",
      "-0.7600795096497162\n",
      "0.0\n"
     ]
    }
   ],
   "source": [
    "while(diff!=0):\n",
    "    XD=B1\n",
    "    i=1\n",
    "    for index1,row_c in Centroids.iterrows():\n",
    "        ED=[]\n",
    "        for index2,row_d in XD.iterrows():\n",
    "            d1=(row_c[\"Job\"]-row_d[\"Job\"])**2\n",
    "            d2=(row_c[\"Purpose\"]-row_d[\"Purpose\"])**2\n",
    "            d=np.sqrt(d1+d2)\n",
    "            ED.append(d)\n",
    "        B1[i]=ED\n",
    "        i=i+1\n",
    "\n",
    "    C=[]\n",
    "    for index,row in B1.iterrows():\n",
    "        min_dist=row[1]\n",
    "        pos=1\n",
    "        for i in range(K1):\n",
    "            if row[i+1] < min_dist:\n",
    "                min_dist = row[i+1]\n",
    "                pos=i+1\n",
    "        C.append(pos)\n",
    "    B1[\"Cluster\"]=C\n",
    "    Centroids_new = B1.groupby([\"Cluster\"]).mean()[[\"Purpose\",\"Job\"]]\n",
    "    if j == 0:\n",
    "        diff=1\n",
    "        j=j+1\n",
    "    else:\n",
    "        diff = (Centroids_new['Purpose'] - Centroids['Purpose']).sum() + (Centroids_new['Job'] - Centroids['Job']).sum()\n",
    "        print(diff.sum())\n",
    "    Centroids = B1.groupby([\"Cluster\"]).mean()[[\"Purpose\",\"Job\"]]"
   ]
  },
  {
   "cell_type": "code",
   "execution_count": 112,
   "metadata": {},
   "outputs": [
    {
     "data": {
      "image/png": "[encoded data removed]",
      "text/plain": [
       "<Figure size 432x288 with 1 Axes>"
      ]
     },
     "metadata": {},
     "output_type": "display_data"
    }
   ],
   "source": [
    "color=['blue','green','cyan','grey','maroon']\n",
    "for k in range(K1):\n",
    "    ds_1=B1[B1[\"Cluster\"]==k+1]\n",
    "    plt.scatter(ds_1[\"Job\"],ds_1[\"Purpose\"],c=color[k])\n",
    "plt.scatter(Centroids[\"Job\"],Centroids[\"Purpose\"],c='red')\n",
    "plt.xlabel('Job')\n",
    "plt.ylabel('Purpose')\n",
    "plt.show()"
   ]
  },
  {
   "cell_type": "code",
   "execution_count": null,
   "metadata": {},
   "outputs": [],
   "source": []
  }
 ],
 "metadata": {
  "kernelspec": {
   "display_name": "Python 3",
   "language": "python",
   "name": "python3"
  },
  "language_info": {
   "codemirror_mode": {
    "name": "ipython",
    "version": 3
   },
   "file_extension": ".py",
   "mimetype": "text/x-python",
   "name": "python",
   "nbconvert_exporter": "python",
   "pygments_lexer": "ipython3",
   "version": "3.7.4"
  }
 },
 "nbformat": 4,
 "nbformat_minor": 2
}
