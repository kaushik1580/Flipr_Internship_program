{
 "cells": [
  {
   "cell_type": "markdown",
   "metadata": {},
   "source": [
    "- <b>Classification algorithms</b>\n",
    "\n",
    "- <b>Submitted by Kaushik </b>\n",
    "- <b>email- kumarkaushik1580@gmail.com</b>\n",
    "\n",
    "# Artificial Neural Network\n",
    "- <b>M=1, S=0 </b>"
   ]
  },
  {
   "cell_type": "code",
   "execution_count": 1,
   "metadata": {},
   "outputs": [],
   "source": [
    "import numpy as np\n",
    "import pandas as pd\n",
    "import matplotlib.pyplot as plt\n",
    "import seaborn as sns\n",
    "%matplotlib inline"
   ]
  },
  {
   "cell_type": "code",
   "execution_count": 2,
   "metadata": {},
   "outputs": [],
   "source": [
    "ds = pd.read_csv(\"Train_Dataset-01.csv\")\n",
    "ds1 = pd.read_csv(\"Test_Dataset-01.csv\")"
   ]
  },
  {
   "cell_type": "code",
   "execution_count": 3,
   "metadata": {},
   "outputs": [
    {
     "data": {
      "text/html": [
       "<div>\n",
       "<style scoped>\n",
       "    .dataframe tbody tr th:only-of-type {\n",
       "        vertical-align: middle;\n",
       "    }\n",
       "\n",
       "    .dataframe tbody tr th {\n",
       "        vertical-align: top;\n",
       "    }\n",
       "\n",
       "    .dataframe thead th {\n",
       "        text-align: right;\n",
       "    }\n",
       "</style>\n",
       "<table border=\"1\" class=\"dataframe\">\n",
       "  <thead>\n",
       "    <tr style=\"text-align: right;\">\n",
       "      <th></th>\n",
       "      <th>id</th>\n",
       "      <th>diagnosis</th>\n",
       "      <th>radius_mean</th>\n",
       "      <th>texture_mean</th>\n",
       "      <th>perimeter_mean</th>\n",
       "      <th>area_mean</th>\n",
       "      <th>smoothness_mean</th>\n",
       "      <th>compactness_mean</th>\n",
       "      <th>concavity_mean</th>\n",
       "      <th>concave points_mean</th>\n",
       "      <th>...</th>\n",
       "      <th>radius_worst</th>\n",
       "      <th>texture_worst</th>\n",
       "      <th>perimeter_worst</th>\n",
       "      <th>area_worst</th>\n",
       "      <th>smoothness_worst</th>\n",
       "      <th>compactness_worst</th>\n",
       "      <th>concavity_worst</th>\n",
       "      <th>concave points_worst</th>\n",
       "      <th>symmetry_worst</th>\n",
       "      <th>fractal_dimension_worst</th>\n",
       "    </tr>\n",
       "  </thead>\n",
       "  <tbody>\n",
       "    <tr>\n",
       "      <td>0</td>\n",
       "      <td>842302</td>\n",
       "      <td>M</td>\n",
       "      <td>17.99</td>\n",
       "      <td>10.38</td>\n",
       "      <td>122.80</td>\n",
       "      <td>1001.0</td>\n",
       "      <td>0.11840</td>\n",
       "      <td>0.27760</td>\n",
       "      <td>0.3001</td>\n",
       "      <td>0.14710</td>\n",
       "      <td>...</td>\n",
       "      <td>25.38</td>\n",
       "      <td>17.33</td>\n",
       "      <td>184.60</td>\n",
       "      <td>2019.0</td>\n",
       "      <td>0.1622</td>\n",
       "      <td>0.6656</td>\n",
       "      <td>0.7119</td>\n",
       "      <td>0.2654</td>\n",
       "      <td>0.4601</td>\n",
       "      <td>0.11890</td>\n",
       "    </tr>\n",
       "    <tr>\n",
       "      <td>1</td>\n",
       "      <td>842517</td>\n",
       "      <td>M</td>\n",
       "      <td>20.57</td>\n",
       "      <td>17.77</td>\n",
       "      <td>132.90</td>\n",
       "      <td>1326.0</td>\n",
       "      <td>0.08474</td>\n",
       "      <td>0.07864</td>\n",
       "      <td>0.0869</td>\n",
       "      <td>0.07017</td>\n",
       "      <td>...</td>\n",
       "      <td>24.99</td>\n",
       "      <td>23.41</td>\n",
       "      <td>158.80</td>\n",
       "      <td>1956.0</td>\n",
       "      <td>0.1238</td>\n",
       "      <td>0.1866</td>\n",
       "      <td>0.2416</td>\n",
       "      <td>0.1860</td>\n",
       "      <td>0.2750</td>\n",
       "      <td>0.08902</td>\n",
       "    </tr>\n",
       "    <tr>\n",
       "      <td>2</td>\n",
       "      <td>84300903</td>\n",
       "      <td>M</td>\n",
       "      <td>19.69</td>\n",
       "      <td>21.25</td>\n",
       "      <td>130.00</td>\n",
       "      <td>1203.0</td>\n",
       "      <td>0.10960</td>\n",
       "      <td>0.15990</td>\n",
       "      <td>0.1974</td>\n",
       "      <td>0.12790</td>\n",
       "      <td>...</td>\n",
       "      <td>23.57</td>\n",
       "      <td>25.53</td>\n",
       "      <td>152.50</td>\n",
       "      <td>1709.0</td>\n",
       "      <td>0.1444</td>\n",
       "      <td>0.4245</td>\n",
       "      <td>0.4504</td>\n",
       "      <td>0.2430</td>\n",
       "      <td>0.3613</td>\n",
       "      <td>0.08758</td>\n",
       "    </tr>\n",
       "    <tr>\n",
       "      <td>3</td>\n",
       "      <td>84348301</td>\n",
       "      <td>M</td>\n",
       "      <td>11.42</td>\n",
       "      <td>20.38</td>\n",
       "      <td>77.58</td>\n",
       "      <td>386.1</td>\n",
       "      <td>0.14250</td>\n",
       "      <td>0.28390</td>\n",
       "      <td>0.2414</td>\n",
       "      <td>0.10520</td>\n",
       "      <td>...</td>\n",
       "      <td>14.91</td>\n",
       "      <td>26.50</td>\n",
       "      <td>98.87</td>\n",
       "      <td>567.7</td>\n",
       "      <td>0.2098</td>\n",
       "      <td>0.8663</td>\n",
       "      <td>0.6869</td>\n",
       "      <td>0.2575</td>\n",
       "      <td>0.6638</td>\n",
       "      <td>0.17300</td>\n",
       "    </tr>\n",
       "    <tr>\n",
       "      <td>4</td>\n",
       "      <td>84358402</td>\n",
       "      <td>M</td>\n",
       "      <td>20.29</td>\n",
       "      <td>14.34</td>\n",
       "      <td>135.10</td>\n",
       "      <td>1297.0</td>\n",
       "      <td>NaN</td>\n",
       "      <td>0.13280</td>\n",
       "      <td>0.1980</td>\n",
       "      <td>0.10430</td>\n",
       "      <td>...</td>\n",
       "      <td>22.54</td>\n",
       "      <td>16.67</td>\n",
       "      <td>152.20</td>\n",
       "      <td>1575.0</td>\n",
       "      <td>0.1374</td>\n",
       "      <td>0.2050</td>\n",
       "      <td>0.4000</td>\n",
       "      <td>0.1625</td>\n",
       "      <td>0.2364</td>\n",
       "      <td>0.07678</td>\n",
       "    </tr>\n",
       "  </tbody>\n",
       "</table>\n",
       "<p>5 rows × 32 columns</p>\n",
       "</div>"
      ],
      "text/plain": [
       "         id diagnosis  radius_mean  texture_mean  perimeter_mean  area_mean  \\\n",
       "0    842302         M        17.99         10.38          122.80     1001.0   \n",
       "1    842517         M        20.57         17.77          132.90     1326.0   \n",
       "2  84300903         M        19.69         21.25          130.00     1203.0   \n",
       "3  84348301         M        11.42         20.38           77.58      386.1   \n",
       "4  84358402         M        20.29         14.34          135.10     1297.0   \n",
       "\n",
       "   smoothness_mean  compactness_mean  concavity_mean  concave points_mean  \\\n",
       "0          0.11840           0.27760          0.3001              0.14710   \n",
       "1          0.08474           0.07864          0.0869              0.07017   \n",
       "2          0.10960           0.15990          0.1974              0.12790   \n",
       "3          0.14250           0.28390          0.2414              0.10520   \n",
       "4              NaN           0.13280          0.1980              0.10430   \n",
       "\n",
       "   ...  radius_worst  texture_worst  perimeter_worst  area_worst  \\\n",
       "0  ...         25.38          17.33           184.60      2019.0   \n",
       "1  ...         24.99          23.41           158.80      1956.0   \n",
       "2  ...         23.57          25.53           152.50      1709.0   \n",
       "3  ...         14.91          26.50            98.87       567.7   \n",
       "4  ...         22.54          16.67           152.20      1575.0   \n",
       "\n",
       "   smoothness_worst  compactness_worst  concavity_worst  concave points_worst  \\\n",
       "0            0.1622             0.6656           0.7119                0.2654   \n",
       "1            0.1238             0.1866           0.2416                0.1860   \n",
       "2            0.1444             0.4245           0.4504                0.2430   \n",
       "3            0.2098             0.8663           0.6869                0.2575   \n",
       "4            0.1374             0.2050           0.4000                0.1625   \n",
       "\n",
       "   symmetry_worst  fractal_dimension_worst  \n",
       "0          0.4601                  0.11890  \n",
       "1          0.2750                  0.08902  \n",
       "2          0.3613                  0.08758  \n",
       "3          0.6638                  0.17300  \n",
       "4          0.2364                  0.07678  \n",
       "\n",
       "[5 rows x 32 columns]"
      ]
     },
     "execution_count": 3,
     "metadata": {},
     "output_type": "execute_result"
    }
   ],
   "source": [
    "ds.head()"
   ]
  },
  {
   "cell_type": "markdown",
   "metadata": {},
   "source": [
    "# Data preprocessing"
   ]
  },
  {
   "cell_type": "code",
   "execution_count": 4,
   "metadata": {},
   "outputs": [
    {
     "data": {
      "text/plain": [
       "Index(['id', 'diagnosis', 'radius_mean', 'texture_mean', 'perimeter_mean',\n",
       "       'area_mean', 'smoothness_mean', 'compactness_mean', 'concavity_mean',\n",
       "       'concave points_mean', 'symmetry_mean', 'fractal_dimension_mean',\n",
       "       'radius_se', 'texture_se', 'perimeter_se', 'area_se', 'smoothness_se',\n",
       "       'compactness_se', 'concavity_se', 'concave points_se', 'symmetry_se',\n",
       "       'fractal_dimension_se', 'radius_worst', 'texture_worst',\n",
       "       'perimeter_worst', 'area_worst', 'smoothness_worst',\n",
       "       'compactness_worst', 'concavity_worst', 'concave points_worst',\n",
       "       'symmetry_worst', 'fractal_dimension_worst'],\n",
       "      dtype='object')"
      ]
     },
     "execution_count": 4,
     "metadata": {},
     "output_type": "execute_result"
    }
   ],
   "source": [
    "ds.columns"
   ]
  },
  {
   "cell_type": "code",
   "execution_count": 5,
   "metadata": {},
   "outputs": [
    {
     "data": {
      "text/html": [
       "<div>\n",
       "<style scoped>\n",
       "    .dataframe tbody tr th:only-of-type {\n",
       "        vertical-align: middle;\n",
       "    }\n",
       "\n",
       "    .dataframe tbody tr th {\n",
       "        vertical-align: top;\n",
       "    }\n",
       "\n",
       "    .dataframe thead th {\n",
       "        text-align: right;\n",
       "    }\n",
       "</style>\n",
       "<table border=\"1\" class=\"dataframe\">\n",
       "  <thead>\n",
       "    <tr style=\"text-align: right;\">\n",
       "      <th></th>\n",
       "      <th>diagnosis</th>\n",
       "      <th>radius_mean</th>\n",
       "      <th>texture_mean</th>\n",
       "      <th>perimeter_mean</th>\n",
       "      <th>area_mean</th>\n",
       "      <th>smoothness_mean</th>\n",
       "      <th>compactness_mean</th>\n",
       "      <th>concavity_mean</th>\n",
       "      <th>concave points_mean</th>\n",
       "      <th>symmetry_mean</th>\n",
       "      <th>...</th>\n",
       "      <th>radius_worst</th>\n",
       "      <th>texture_worst</th>\n",
       "      <th>perimeter_worst</th>\n",
       "      <th>area_worst</th>\n",
       "      <th>smoothness_worst</th>\n",
       "      <th>compactness_worst</th>\n",
       "      <th>concavity_worst</th>\n",
       "      <th>concave points_worst</th>\n",
       "      <th>symmetry_worst</th>\n",
       "      <th>fractal_dimension_worst</th>\n",
       "    </tr>\n",
       "  </thead>\n",
       "  <tbody>\n",
       "    <tr>\n",
       "      <td>0</td>\n",
       "      <td>M</td>\n",
       "      <td>17.99</td>\n",
       "      <td>10.38</td>\n",
       "      <td>122.80</td>\n",
       "      <td>1001.0</td>\n",
       "      <td>0.11840</td>\n",
       "      <td>0.27760</td>\n",
       "      <td>0.3001</td>\n",
       "      <td>0.14710</td>\n",
       "      <td>0.2419</td>\n",
       "      <td>...</td>\n",
       "      <td>25.38</td>\n",
       "      <td>17.33</td>\n",
       "      <td>184.60</td>\n",
       "      <td>2019.0</td>\n",
       "      <td>0.1622</td>\n",
       "      <td>0.6656</td>\n",
       "      <td>0.7119</td>\n",
       "      <td>0.2654</td>\n",
       "      <td>0.4601</td>\n",
       "      <td>0.11890</td>\n",
       "    </tr>\n",
       "    <tr>\n",
       "      <td>1</td>\n",
       "      <td>M</td>\n",
       "      <td>20.57</td>\n",
       "      <td>17.77</td>\n",
       "      <td>132.90</td>\n",
       "      <td>1326.0</td>\n",
       "      <td>0.08474</td>\n",
       "      <td>0.07864</td>\n",
       "      <td>0.0869</td>\n",
       "      <td>0.07017</td>\n",
       "      <td>0.1812</td>\n",
       "      <td>...</td>\n",
       "      <td>24.99</td>\n",
       "      <td>23.41</td>\n",
       "      <td>158.80</td>\n",
       "      <td>1956.0</td>\n",
       "      <td>0.1238</td>\n",
       "      <td>0.1866</td>\n",
       "      <td>0.2416</td>\n",
       "      <td>0.1860</td>\n",
       "      <td>0.2750</td>\n",
       "      <td>0.08902</td>\n",
       "    </tr>\n",
       "    <tr>\n",
       "      <td>2</td>\n",
       "      <td>M</td>\n",
       "      <td>19.69</td>\n",
       "      <td>21.25</td>\n",
       "      <td>130.00</td>\n",
       "      <td>1203.0</td>\n",
       "      <td>0.10960</td>\n",
       "      <td>0.15990</td>\n",
       "      <td>0.1974</td>\n",
       "      <td>0.12790</td>\n",
       "      <td>0.2069</td>\n",
       "      <td>...</td>\n",
       "      <td>23.57</td>\n",
       "      <td>25.53</td>\n",
       "      <td>152.50</td>\n",
       "      <td>1709.0</td>\n",
       "      <td>0.1444</td>\n",
       "      <td>0.4245</td>\n",
       "      <td>0.4504</td>\n",
       "      <td>0.2430</td>\n",
       "      <td>0.3613</td>\n",
       "      <td>0.08758</td>\n",
       "    </tr>\n",
       "    <tr>\n",
       "      <td>3</td>\n",
       "      <td>M</td>\n",
       "      <td>11.42</td>\n",
       "      <td>20.38</td>\n",
       "      <td>77.58</td>\n",
       "      <td>386.1</td>\n",
       "      <td>0.14250</td>\n",
       "      <td>0.28390</td>\n",
       "      <td>0.2414</td>\n",
       "      <td>0.10520</td>\n",
       "      <td>0.2597</td>\n",
       "      <td>...</td>\n",
       "      <td>14.91</td>\n",
       "      <td>26.50</td>\n",
       "      <td>98.87</td>\n",
       "      <td>567.7</td>\n",
       "      <td>0.2098</td>\n",
       "      <td>0.8663</td>\n",
       "      <td>0.6869</td>\n",
       "      <td>0.2575</td>\n",
       "      <td>0.6638</td>\n",
       "      <td>0.17300</td>\n",
       "    </tr>\n",
       "    <tr>\n",
       "      <td>4</td>\n",
       "      <td>M</td>\n",
       "      <td>20.29</td>\n",
       "      <td>14.34</td>\n",
       "      <td>135.10</td>\n",
       "      <td>1297.0</td>\n",
       "      <td>NaN</td>\n",
       "      <td>0.13280</td>\n",
       "      <td>0.1980</td>\n",
       "      <td>0.10430</td>\n",
       "      <td>0.1809</td>\n",
       "      <td>...</td>\n",
       "      <td>22.54</td>\n",
       "      <td>16.67</td>\n",
       "      <td>152.20</td>\n",
       "      <td>1575.0</td>\n",
       "      <td>0.1374</td>\n",
       "      <td>0.2050</td>\n",
       "      <td>0.4000</td>\n",
       "      <td>0.1625</td>\n",
       "      <td>0.2364</td>\n",
       "      <td>0.07678</td>\n",
       "    </tr>\n",
       "  </tbody>\n",
       "</table>\n",
       "<p>5 rows × 31 columns</p>\n",
       "</div>"
      ],
      "text/plain": [
       "  diagnosis  radius_mean  texture_mean  perimeter_mean  area_mean  \\\n",
       "0         M        17.99         10.38          122.80     1001.0   \n",
       "1         M        20.57         17.77          132.90     1326.0   \n",
       "2         M        19.69         21.25          130.00     1203.0   \n",
       "3         M        11.42         20.38           77.58      386.1   \n",
       "4         M        20.29         14.34          135.10     1297.0   \n",
       "\n",
       "   smoothness_mean  compactness_mean  concavity_mean  concave points_mean  \\\n",
       "0          0.11840           0.27760          0.3001              0.14710   \n",
       "1          0.08474           0.07864          0.0869              0.07017   \n",
       "2          0.10960           0.15990          0.1974              0.12790   \n",
       "3          0.14250           0.28390          0.2414              0.10520   \n",
       "4              NaN           0.13280          0.1980              0.10430   \n",
       "\n",
       "   symmetry_mean  ...  radius_worst  texture_worst  perimeter_worst  \\\n",
       "0         0.2419  ...         25.38          17.33           184.60   \n",
       "1         0.1812  ...         24.99          23.41           158.80   \n",
       "2         0.2069  ...         23.57          25.53           152.50   \n",
       "3         0.2597  ...         14.91          26.50            98.87   \n",
       "4         0.1809  ...         22.54          16.67           152.20   \n",
       "\n",
       "   area_worst  smoothness_worst  compactness_worst  concavity_worst  \\\n",
       "0      2019.0            0.1622             0.6656           0.7119   \n",
       "1      1956.0            0.1238             0.1866           0.2416   \n",
       "2      1709.0            0.1444             0.4245           0.4504   \n",
       "3       567.7            0.2098             0.8663           0.6869   \n",
       "4      1575.0            0.1374             0.2050           0.4000   \n",
       "\n",
       "   concave points_worst  symmetry_worst  fractal_dimension_worst  \n",
       "0                0.2654          0.4601                  0.11890  \n",
       "1                0.1860          0.2750                  0.08902  \n",
       "2                0.2430          0.3613                  0.08758  \n",
       "3                0.2575          0.6638                  0.17300  \n",
       "4                0.1625          0.2364                  0.07678  \n",
       "\n",
       "[5 rows x 31 columns]"
      ]
     },
     "execution_count": 5,
     "metadata": {},
     "output_type": "execute_result"
    }
   ],
   "source": [
    "ds.drop([\"id\"],axis=1,inplace=True)\n",
    "ds.head()"
   ]
  },
  {
   "cell_type": "code",
   "execution_count": 6,
   "metadata": {
    "scrolled": true
   },
   "outputs": [
    {
     "data": {
      "text/plain": [
       "texture_mean               12\n",
       "smoothness_mean             1\n",
       "compactness_mean            6\n",
       "symmetry_mean               1\n",
       "fractal_dimension_mean      2\n",
       "radius_se                  14\n",
       "smoothness_se               3\n",
       "compactness_se              2\n",
       "concavity_se                1\n",
       "concave points_se           1\n",
       "symmetry_se                 1\n",
       "fractal_dimension_se       13\n",
       "perimeter_worst             1\n",
       "area_worst                 13\n",
       "smoothness_worst            3\n",
       "concavity_worst             6\n",
       "concave points_worst        5\n",
       "symmetry_worst              5\n",
       "fractal_dimension_worst     3\n",
       "dtype: int64"
      ]
     },
     "execution_count": 6,
     "metadata": {},
     "output_type": "execute_result"
    }
   ],
   "source": [
    "ds_null=ds.columns[ds.isnull().any()]\n",
    "ds[ds_null].isnull().sum()"
   ]
  },
  {
   "cell_type": "code",
   "execution_count": 7,
   "metadata": {},
   "outputs": [],
   "source": [
    "ds[\"texture_mean\"].fillna(method='ffill',inplace=True)\n",
    "ds[\"smoothness_mean\"].fillna(method='ffill',inplace=True)\n",
    "ds[\"compactness_mean\"].fillna(method='ffill',inplace=True)\n",
    "ds[\"symmetry_mean\"].fillna(method='ffill',inplace=True)\n",
    "ds[\"fractal_dimension_mean\"].fillna(method='ffill',inplace=True)\n",
    "ds[\"radius_se\"].fillna(method='ffill',inplace=True)\n",
    "ds[\"smoothness_se\"].fillna(method='ffill',inplace=True)\n",
    "ds[\"compactness_se\"].fillna(method='ffill',inplace=True)\n",
    "ds[\"concavity_se\"].fillna(method='ffill',inplace=True)\n",
    "ds[\"concave points_se\"].fillna(method='ffill',inplace=True)\n",
    "ds[\"symmetry_se\"].fillna(method='ffill',inplace=True)\n",
    "ds[\"fractal_dimension_se\"].fillna(method='ffill',inplace=True)\n",
    "ds[\"perimeter_worst\"].fillna(method='ffill',inplace=True)\n",
    "ds[\"area_worst\"].fillna(method='ffill',inplace=True)\n",
    "ds[\"smoothness_worst\"].fillna(method='ffill',inplace=True)\n",
    "ds[\"concavity_worst\"].fillna(method='ffill',inplace=True)\n",
    "ds[\"concave points_worst\"].fillna(method='ffill',inplace=True)\n",
    "ds[\"symmetry_worst\"].fillna(method='ffill',inplace=True)\n",
    "ds[\"fractal_dimension_worst\"].fillna(method='ffill',inplace=True)"
   ]
  },
  {
   "cell_type": "code",
   "execution_count": 8,
   "metadata": {},
   "outputs": [
    {
     "data": {
      "text/plain": [
       "diagnosis                   object\n",
       "radius_mean                float64\n",
       "texture_mean               float64\n",
       "perimeter_mean             float64\n",
       "area_mean                  float64\n",
       "smoothness_mean            float64\n",
       "compactness_mean           float64\n",
       "concavity_mean             float64\n",
       "concave points_mean        float64\n",
       "symmetry_mean              float64\n",
       "fractal_dimension_mean     float64\n",
       "radius_se                  float64\n",
       "texture_se                 float64\n",
       "perimeter_se               float64\n",
       "area_se                    float64\n",
       "smoothness_se              float64\n",
       "compactness_se             float64\n",
       "concavity_se               float64\n",
       "concave points_se          float64\n",
       "symmetry_se                float64\n",
       "fractal_dimension_se       float64\n",
       "radius_worst               float64\n",
       "texture_worst              float64\n",
       "perimeter_worst            float64\n",
       "area_worst                 float64\n",
       "smoothness_worst           float64\n",
       "compactness_worst          float64\n",
       "concavity_worst            float64\n",
       "concave points_worst       float64\n",
       "symmetry_worst             float64\n",
       "fractal_dimension_worst    float64\n",
       "dtype: object"
      ]
     },
     "execution_count": 8,
     "metadata": {},
     "output_type": "execute_result"
    }
   ],
   "source": [
    "ds.dtypes"
   ]
  },
  {
   "cell_type": "code",
   "execution_count": 9,
   "metadata": {},
   "outputs": [
    {
     "data": {
      "text/plain": [
       "['diagnosis']"
      ]
     },
     "execution_count": 9,
     "metadata": {},
     "output_type": "execute_result"
    }
   ],
   "source": [
    "ds_categ = list(ds.select_dtypes(exclude = [\"number\"]).columns)\n",
    "ds_categ"
   ]
  },
  {
   "cell_type": "code",
   "execution_count": 10,
   "metadata": {},
   "outputs": [
    {
     "name": "stdout",
     "output_type": "stream",
     "text": [
      "['M' 'B']\n"
     ]
    }
   ],
   "source": [
    "from sklearn.preprocessing import LabelEncoder\n",
    "le = LabelEncoder()\n",
    "for i in ds_categ:\n",
    "    print(ds[i].unique())\n",
    "    ds[i] = le.fit_transform(ds[i])"
   ]
  },
  {
   "cell_type": "code",
   "execution_count": 11,
   "metadata": {},
   "outputs": [
    {
     "data": {
      "text/html": [
       "<div>\n",
       "<style scoped>\n",
       "    .dataframe tbody tr th:only-of-type {\n",
       "        vertical-align: middle;\n",
       "    }\n",
       "\n",
       "    .dataframe tbody tr th {\n",
       "        vertical-align: top;\n",
       "    }\n",
       "\n",
       "    .dataframe thead th {\n",
       "        text-align: right;\n",
       "    }\n",
       "</style>\n",
       "<table border=\"1\" class=\"dataframe\">\n",
       "  <thead>\n",
       "    <tr style=\"text-align: right;\">\n",
       "      <th></th>\n",
       "      <th>diagnosis</th>\n",
       "      <th>radius_mean</th>\n",
       "      <th>texture_mean</th>\n",
       "      <th>perimeter_mean</th>\n",
       "      <th>area_mean</th>\n",
       "      <th>smoothness_mean</th>\n",
       "      <th>compactness_mean</th>\n",
       "      <th>concavity_mean</th>\n",
       "      <th>concave points_mean</th>\n",
       "      <th>symmetry_mean</th>\n",
       "      <th>...</th>\n",
       "      <th>radius_worst</th>\n",
       "      <th>texture_worst</th>\n",
       "      <th>perimeter_worst</th>\n",
       "      <th>area_worst</th>\n",
       "      <th>smoothness_worst</th>\n",
       "      <th>compactness_worst</th>\n",
       "      <th>concavity_worst</th>\n",
       "      <th>concave points_worst</th>\n",
       "      <th>symmetry_worst</th>\n",
       "      <th>fractal_dimension_worst</th>\n",
       "    </tr>\n",
       "  </thead>\n",
       "  <tbody>\n",
       "    <tr>\n",
       "      <td>0</td>\n",
       "      <td>1</td>\n",
       "      <td>17.99</td>\n",
       "      <td>10.38</td>\n",
       "      <td>122.80</td>\n",
       "      <td>1001.0</td>\n",
       "      <td>0.11840</td>\n",
       "      <td>0.27760</td>\n",
       "      <td>0.3001</td>\n",
       "      <td>0.14710</td>\n",
       "      <td>0.2419</td>\n",
       "      <td>...</td>\n",
       "      <td>25.38</td>\n",
       "      <td>17.33</td>\n",
       "      <td>184.60</td>\n",
       "      <td>2019.0</td>\n",
       "      <td>0.1622</td>\n",
       "      <td>0.6656</td>\n",
       "      <td>0.7119</td>\n",
       "      <td>0.2654</td>\n",
       "      <td>0.4601</td>\n",
       "      <td>0.11890</td>\n",
       "    </tr>\n",
       "    <tr>\n",
       "      <td>1</td>\n",
       "      <td>1</td>\n",
       "      <td>20.57</td>\n",
       "      <td>17.77</td>\n",
       "      <td>132.90</td>\n",
       "      <td>1326.0</td>\n",
       "      <td>0.08474</td>\n",
       "      <td>0.07864</td>\n",
       "      <td>0.0869</td>\n",
       "      <td>0.07017</td>\n",
       "      <td>0.1812</td>\n",
       "      <td>...</td>\n",
       "      <td>24.99</td>\n",
       "      <td>23.41</td>\n",
       "      <td>158.80</td>\n",
       "      <td>1956.0</td>\n",
       "      <td>0.1238</td>\n",
       "      <td>0.1866</td>\n",
       "      <td>0.2416</td>\n",
       "      <td>0.1860</td>\n",
       "      <td>0.2750</td>\n",
       "      <td>0.08902</td>\n",
       "    </tr>\n",
       "    <tr>\n",
       "      <td>2</td>\n",
       "      <td>1</td>\n",
       "      <td>19.69</td>\n",
       "      <td>21.25</td>\n",
       "      <td>130.00</td>\n",
       "      <td>1203.0</td>\n",
       "      <td>0.10960</td>\n",
       "      <td>0.15990</td>\n",
       "      <td>0.1974</td>\n",
       "      <td>0.12790</td>\n",
       "      <td>0.2069</td>\n",
       "      <td>...</td>\n",
       "      <td>23.57</td>\n",
       "      <td>25.53</td>\n",
       "      <td>152.50</td>\n",
       "      <td>1709.0</td>\n",
       "      <td>0.1444</td>\n",
       "      <td>0.4245</td>\n",
       "      <td>0.4504</td>\n",
       "      <td>0.2430</td>\n",
       "      <td>0.3613</td>\n",
       "      <td>0.08758</td>\n",
       "    </tr>\n",
       "    <tr>\n",
       "      <td>3</td>\n",
       "      <td>1</td>\n",
       "      <td>11.42</td>\n",
       "      <td>20.38</td>\n",
       "      <td>77.58</td>\n",
       "      <td>386.1</td>\n",
       "      <td>0.14250</td>\n",
       "      <td>0.28390</td>\n",
       "      <td>0.2414</td>\n",
       "      <td>0.10520</td>\n",
       "      <td>0.2597</td>\n",
       "      <td>...</td>\n",
       "      <td>14.91</td>\n",
       "      <td>26.50</td>\n",
       "      <td>98.87</td>\n",
       "      <td>567.7</td>\n",
       "      <td>0.2098</td>\n",
       "      <td>0.8663</td>\n",
       "      <td>0.6869</td>\n",
       "      <td>0.2575</td>\n",
       "      <td>0.6638</td>\n",
       "      <td>0.17300</td>\n",
       "    </tr>\n",
       "    <tr>\n",
       "      <td>4</td>\n",
       "      <td>1</td>\n",
       "      <td>20.29</td>\n",
       "      <td>14.34</td>\n",
       "      <td>135.10</td>\n",
       "      <td>1297.0</td>\n",
       "      <td>0.14250</td>\n",
       "      <td>0.13280</td>\n",
       "      <td>0.1980</td>\n",
       "      <td>0.10430</td>\n",
       "      <td>0.1809</td>\n",
       "      <td>...</td>\n",
       "      <td>22.54</td>\n",
       "      <td>16.67</td>\n",
       "      <td>152.20</td>\n",
       "      <td>1575.0</td>\n",
       "      <td>0.1374</td>\n",
       "      <td>0.2050</td>\n",
       "      <td>0.4000</td>\n",
       "      <td>0.1625</td>\n",
       "      <td>0.2364</td>\n",
       "      <td>0.07678</td>\n",
       "    </tr>\n",
       "  </tbody>\n",
       "</table>\n",
       "<p>5 rows × 31 columns</p>\n",
       "</div>"
      ],
      "text/plain": [
       "   diagnosis  radius_mean  texture_mean  perimeter_mean  area_mean  \\\n",
       "0          1        17.99         10.38          122.80     1001.0   \n",
       "1          1        20.57         17.77          132.90     1326.0   \n",
       "2          1        19.69         21.25          130.00     1203.0   \n",
       "3          1        11.42         20.38           77.58      386.1   \n",
       "4          1        20.29         14.34          135.10     1297.0   \n",
       "\n",
       "   smoothness_mean  compactness_mean  concavity_mean  concave points_mean  \\\n",
       "0          0.11840           0.27760          0.3001              0.14710   \n",
       "1          0.08474           0.07864          0.0869              0.07017   \n",
       "2          0.10960           0.15990          0.1974              0.12790   \n",
       "3          0.14250           0.28390          0.2414              0.10520   \n",
       "4          0.14250           0.13280          0.1980              0.10430   \n",
       "\n",
       "   symmetry_mean  ...  radius_worst  texture_worst  perimeter_worst  \\\n",
       "0         0.2419  ...         25.38          17.33           184.60   \n",
       "1         0.1812  ...         24.99          23.41           158.80   \n",
       "2         0.2069  ...         23.57          25.53           152.50   \n",
       "3         0.2597  ...         14.91          26.50            98.87   \n",
       "4         0.1809  ...         22.54          16.67           152.20   \n",
       "\n",
       "   area_worst  smoothness_worst  compactness_worst  concavity_worst  \\\n",
       "0      2019.0            0.1622             0.6656           0.7119   \n",
       "1      1956.0            0.1238             0.1866           0.2416   \n",
       "2      1709.0            0.1444             0.4245           0.4504   \n",
       "3       567.7            0.2098             0.8663           0.6869   \n",
       "4      1575.0            0.1374             0.2050           0.4000   \n",
       "\n",
       "   concave points_worst  symmetry_worst  fractal_dimension_worst  \n",
       "0                0.2654          0.4601                  0.11890  \n",
       "1                0.1860          0.2750                  0.08902  \n",
       "2                0.2430          0.3613                  0.08758  \n",
       "3                0.2575          0.6638                  0.17300  \n",
       "4                0.1625          0.2364                  0.07678  \n",
       "\n",
       "[5 rows x 31 columns]"
      ]
     },
     "execution_count": 11,
     "metadata": {},
     "output_type": "execute_result"
    }
   ],
   "source": [
    "ds.head()"
   ]
  },
  {
   "cell_type": "markdown",
   "metadata": {},
   "source": [
    "# Feature Engineering\n",
    "## Outlier Detection and treatment"
   ]
  },
  {
   "cell_type": "code",
   "execution_count": 12,
   "metadata": {},
   "outputs": [
    {
     "data": {
      "text/plain": [
       "<matplotlib.axes._subplots.AxesSubplot at 0x18f94fd7f88>"
      ]
     },
     "execution_count": 12,
     "metadata": {},
     "output_type": "execute_result"
    },
    {
     "data": {
      "image/png": "[encoded data removed]",
      "text/plain": [
       "<Figure size 432x288 with 1 Axes>"
      ]
     },
     "metadata": {
      "needs_background": "light"
     },
     "output_type": "display_data"
    }
   ],
   "source": [
    "ds['diagnosis'].plot.box()"
   ]
  },
  {
   "cell_type": "code",
   "execution_count": 13,
   "metadata": {},
   "outputs": [
    {
     "data": {
      "text/plain": [
       "<matplotlib.axes._subplots.AxesSubplot at 0x18f952d8288>"
      ]
     },
     "execution_count": 13,
     "metadata": {},
     "output_type": "execute_result"
    },
    {
     "data": {
      "image/png": "[encoded data removed]",
      "text/plain": [
       "<Figure size 432x288 with 1 Axes>"
      ]
     },
     "metadata": {
      "needs_background": "light"
     },
     "output_type": "display_data"
    }
   ],
   "source": [
    "ds['radius_mean'].plot.box()"
   ]
  },
  {
   "cell_type": "code",
   "execution_count": 14,
   "metadata": {},
   "outputs": [
    {
     "data": {
      "text/plain": [
       "<matplotlib.axes._subplots.AxesSubplot at 0x18f95371488>"
      ]
     },
     "execution_count": 14,
     "metadata": {},
     "output_type": "execute_result"
    },
    {
     "data": {
      "image/png": "[encoded data removed]",
      "text/plain": [
       "<Figure size 432x288 with 1 Axes>"
      ]
     },
     "metadata": {
      "needs_background": "light"
     },
     "output_type": "display_data"
    }
   ],
   "source": [
    "ds.loc[ds['radius_mean']>23,'radius_mean']=np.mean(ds['radius_mean'])\n",
    "ds['radius_mean'].plot.box()"
   ]
  },
  {
   "cell_type": "code",
   "execution_count": null,
   "metadata": {},
   "outputs": [],
   "source": []
  },
  {
   "cell_type": "code",
   "execution_count": 15,
   "metadata": {},
   "outputs": [
    {
     "data": {
      "text/plain": [
       "<matplotlib.axes._subplots.AxesSubplot at 0x18f953eb748>"
      ]
     },
     "execution_count": 15,
     "metadata": {},
     "output_type": "execute_result"
    },
    {
     "data": {
      "image/png": "[encoded data removed]",
      "text/plain": [
       "<Figure size 432x288 with 1 Axes>"
      ]
     },
     "metadata": {
      "needs_background": "light"
     },
     "output_type": "display_data"
    }
   ],
   "source": [
    "ds['texture_mean'].plot.box()"
   ]
  },
  {
   "cell_type": "code",
   "execution_count": 16,
   "metadata": {},
   "outputs": [
    {
     "data": {
      "text/plain": [
       "<matplotlib.axes._subplots.AxesSubplot at 0x18f9545fbc8>"
      ]
     },
     "execution_count": 16,
     "metadata": {},
     "output_type": "execute_result"
    },
    {
     "data": {
      "image/png": "[encoded data removed]",
      "text/plain": [
       "<Figure size 432x288 with 1 Axes>"
      ]
     },
     "metadata": {
      "needs_background": "light"
     },
     "output_type": "display_data"
    }
   ],
   "source": [
    "ds.loc[ds['texture_mean']>28,'texture_mean']=np.mean(ds['texture_mean'])\n",
    "ds['texture_mean'].plot.box()"
   ]
  },
  {
   "cell_type": "code",
   "execution_count": 17,
   "metadata": {},
   "outputs": [
    {
     "data": {
      "text/plain": [
       "<matplotlib.axes._subplots.AxesSubplot at 0x18f954b8d08>"
      ]
     },
     "execution_count": 17,
     "metadata": {},
     "output_type": "execute_result"
    },
    {
     "data": {
      "image/png": "[encoded data removed]",
      "text/plain": [
       "<Figure size 432x288 with 1 Axes>"
      ]
     },
     "metadata": {
      "needs_background": "light"
     },
     "output_type": "display_data"
    }
   ],
   "source": [
    "ds['area_mean'].plot.box()"
   ]
  },
  {
   "cell_type": "code",
   "execution_count": 18,
   "metadata": {},
   "outputs": [
    {
     "data": {
      "text/plain": [
       "<matplotlib.axes._subplots.AxesSubplot at 0x18f95537248>"
      ]
     },
     "execution_count": 18,
     "metadata": {},
     "output_type": "execute_result"
    },
    {
     "data": {
      "image/png": "[encoded data removed]",
      "text/plain": [
       "<Figure size 432x288 with 1 Axes>"
      ]
     },
     "metadata": {
      "needs_background": "light"
     },
     "output_type": "display_data"
    }
   ],
   "source": [
    "ds.loc[ds['area_mean']>900,'area_mean']=np.mean(ds['area_mean'])\n",
    "ds['area_mean'].plot.box()"
   ]
  },
  {
   "cell_type": "code",
   "execution_count": 19,
   "metadata": {},
   "outputs": [
    {
     "data": {
      "text/plain": [
       "<matplotlib.axes._subplots.AxesSubplot at 0x18f95591a48>"
      ]
     },
     "execution_count": 19,
     "metadata": {},
     "output_type": "execute_result"
    },
    {
     "data": {
      "image/png": "[encoded data removed]",
      "text/plain": [
       "<Figure size 432x288 with 1 Axes>"
      ]
     },
     "metadata": {
      "needs_background": "light"
     },
     "output_type": "display_data"
    }
   ],
   "source": [
    "ds['smoothness_mean'].plot.box()"
   ]
  },
  {
   "cell_type": "code",
   "execution_count": 20,
   "metadata": {},
   "outputs": [
    {
     "data": {
      "text/plain": [
       "<matplotlib.axes._subplots.AxesSubplot at 0x18f95609d88>"
      ]
     },
     "execution_count": 20,
     "metadata": {},
     "output_type": "execute_result"
    },
    {
     "data": {
      "image/png": "[encoded data removed]",
      "text/plain": [
       "<Figure size 432x288 with 1 Axes>"
      ]
     },
     "metadata": {
      "needs_background": "light"
     },
     "output_type": "display_data"
    }
   ],
   "source": [
    "ds.loc[ds['smoothness_mean']>0.13,'smoothness_mean']=np.mean(ds['smoothness_mean'])\n",
    "ds['smoothness_mean'].plot.box()"
   ]
  },
  {
   "cell_type": "code",
   "execution_count": 21,
   "metadata": {},
   "outputs": [
    {
     "data": {
      "text/plain": [
       "<matplotlib.axes._subplots.AxesSubplot at 0x18f9566e388>"
      ]
     },
     "execution_count": 21,
     "metadata": {},
     "output_type": "execute_result"
    },
    {
     "data": {
      "image/png": "[encoded data removed]",
      "text/plain": [
       "<Figure size 432x288 with 1 Axes>"
      ]
     },
     "metadata": {
      "needs_background": "light"
     },
     "output_type": "display_data"
    }
   ],
   "source": [
    "ds['compactness_mean'].plot.box()"
   ]
  },
  {
   "cell_type": "code",
   "execution_count": 22,
   "metadata": {},
   "outputs": [
    {
     "data": {
      "text/plain": [
       "<matplotlib.axes._subplots.AxesSubplot at 0x18f956dc7c8>"
      ]
     },
     "execution_count": 22,
     "metadata": {},
     "output_type": "execute_result"
    },
    {
     "data": {
      "image/png": "[encoded data removed]",
      "text/plain": [
       "<Figure size 432x288 with 1 Axes>"
      ]
     },
     "metadata": {
      "needs_background": "light"
     },
     "output_type": "display_data"
    }
   ],
   "source": [
    "ds.loc[ds['compactness_mean']>0.22,'compactness_mean']=np.mean(ds['compactness_mean'])\n",
    "ds['compactness_mean'].plot.box()"
   ]
  },
  {
   "cell_type": "code",
   "execution_count": 23,
   "metadata": {},
   "outputs": [
    {
     "data": {
      "text/plain": [
       "<matplotlib.axes._subplots.AxesSubplot at 0x18f955fc288>"
      ]
     },
     "execution_count": 23,
     "metadata": {},
     "output_type": "execute_result"
    },
    {
     "data": {
      "image/png": "[encoded data removed]",
      "text/plain": [
       "<Figure size 432x288 with 1 Axes>"
      ]
     },
     "metadata": {
      "needs_background": "light"
     },
     "output_type": "display_data"
    }
   ],
   "source": [
    "ds['concavity_mean'].plot.box()"
   ]
  },
  {
   "cell_type": "code",
   "execution_count": 24,
   "metadata": {},
   "outputs": [
    {
     "data": {
      "text/plain": [
       "<matplotlib.axes._subplots.AxesSubplot at 0x18f957bdf08>"
      ]
     },
     "execution_count": 24,
     "metadata": {},
     "output_type": "execute_result"
    },
    {
     "data": {
      "image/png": "[encoded data removed]",
      "text/plain": [
       "<Figure size 432x288 with 1 Axes>"
      ]
     },
     "metadata": {
      "needs_background": "light"
     },
     "output_type": "display_data"
    }
   ],
   "source": [
    "ds.loc[ds['concavity_mean']>0.27,'concavity_mean']=np.mean(ds['concavity_mean'])\n",
    "ds['concavity_mean'].plot.box()"
   ]
  },
  {
   "cell_type": "code",
   "execution_count": 25,
   "metadata": {
    "scrolled": true
   },
   "outputs": [
    {
     "data": {
      "text/plain": [
       "<matplotlib.axes._subplots.AxesSubplot at 0x18f9581c308>"
      ]
     },
     "execution_count": 25,
     "metadata": {},
     "output_type": "execute_result"
    },
    {
     "data": {
      "image/png": "[encoded data removed]",
      "text/plain": [
       "<Figure size 432x288 with 1 Axes>"
      ]
     },
     "metadata": {
      "needs_background": "light"
     },
     "output_type": "display_data"
    }
   ],
   "source": [
    "ds['concave points_mean'].plot.box()"
   ]
  },
  {
   "cell_type": "code",
   "execution_count": 26,
   "metadata": {},
   "outputs": [
    {
     "data": {
      "text/plain": [
       "<matplotlib.axes._subplots.AxesSubplot at 0x18f9588f848>"
      ]
     },
     "execution_count": 26,
     "metadata": {},
     "output_type": "execute_result"
    },
    {
     "data": {
      "image/png": "[encoded data removed]",
      "text/plain": [
       "<Figure size 432x288 with 1 Axes>"
      ]
     },
     "metadata": {
      "needs_background": "light"
     },
     "output_type": "display_data"
    }
   ],
   "source": [
    "ds.loc[ds['concave points_mean']>0.160,'concave points_mean']=np.mean(ds['concave points_mean'])\n",
    "ds['concave points_mean'].plot.box()"
   ]
  },
  {
   "cell_type": "code",
   "execution_count": 27,
   "metadata": {
    "scrolled": true
   },
   "outputs": [
    {
     "data": {
      "text/plain": [
       "<matplotlib.axes._subplots.AxesSubplot at 0x18f958fe5c8>"
      ]
     },
     "execution_count": 27,
     "metadata": {},
     "output_type": "execute_result"
    },
    {
     "data": {
      "image/png": "[encoded data removed]",
      "text/plain": [
       "<Figure size 432x288 with 1 Axes>"
      ]
     },
     "metadata": {
      "needs_background": "light"
     },
     "output_type": "display_data"
    }
   ],
   "source": [
    "ds['symmetry_mean'].plot.box()"
   ]
  },
  {
   "cell_type": "code",
   "execution_count": 28,
   "metadata": {},
   "outputs": [
    {
     "data": {
      "text/plain": [
       "<matplotlib.axes._subplots.AxesSubplot at 0x18f95971e88>"
      ]
     },
     "execution_count": 28,
     "metadata": {},
     "output_type": "execute_result"
    },
    {
     "data": {
      "image/png": "[encoded data removed]",
      "text/plain": [
       "<Figure size 432x288 with 1 Axes>"
      ]
     },
     "metadata": {
      "needs_background": "light"
     },
     "output_type": "display_data"
    }
   ],
   "source": [
    "ds.loc[ds['symmetry_mean']>0.240,'symmetry_mean']=np.mean(ds['symmetry_mean'])\n",
    "ds.loc[ds['symmetry_mean']<0.12,'symmetry_mean']=np.mean(ds['symmetry_mean'])\n",
    "\n",
    "ds['symmetry_mean'].plot.box()"
   ]
  },
  {
   "cell_type": "code",
   "execution_count": null,
   "metadata": {},
   "outputs": [],
   "source": []
  },
  {
   "cell_type": "code",
   "execution_count": 29,
   "metadata": {
    "scrolled": true
   },
   "outputs": [
    {
     "data": {
      "text/plain": [
       "<matplotlib.axes._subplots.AxesSubplot at 0x18f959c4088>"
      ]
     },
     "execution_count": 29,
     "metadata": {},
     "output_type": "execute_result"
    },
    {
     "data": {
      "image/png": "[encoded data removed]",
      "text/plain": [
       "<Figure size 432x288 with 1 Axes>"
      ]
     },
     "metadata": {
      "needs_background": "light"
     },
     "output_type": "display_data"
    }
   ],
   "source": [
    "ds['fractal_dimension_mean'].plot.box()"
   ]
  },
  {
   "cell_type": "code",
   "execution_count": 30,
   "metadata": {},
   "outputs": [
    {
     "data": {
      "text/plain": [
       "<matplotlib.axes._subplots.AxesSubplot at 0x18f95a40648>"
      ]
     },
     "execution_count": 30,
     "metadata": {},
     "output_type": "execute_result"
    },
    {
     "data": {
      "image/png": "[encoded data removed]",
      "text/plain": [
       "<Figure size 432x288 with 1 Axes>"
      ]
     },
     "metadata": {
      "needs_background": "light"
     },
     "output_type": "display_data"
    }
   ],
   "source": [
    "ds.loc[ds['fractal_dimension_mean']>0.075,'fractal_dimension_mean']=np.mean(ds['fractal_dimension_mean'])\n",
    "ds['fractal_dimension_mean'].plot.box()"
   ]
  },
  {
   "cell_type": "code",
   "execution_count": 31,
   "metadata": {
    "scrolled": true
   },
   "outputs": [
    {
     "data": {
      "text/plain": [
       "<matplotlib.axes._subplots.AxesSubplot at 0x18f95a9b648>"
      ]
     },
     "execution_count": 31,
     "metadata": {},
     "output_type": "execute_result"
    },
    {
     "data": {
      "image/png": "[encoded data removed]",
      "text/plain": [
       "<Figure size 432x288 with 1 Axes>"
      ]
     },
     "metadata": {
      "needs_background": "light"
     },
     "output_type": "display_data"
    }
   ],
   "source": [
    "ds['radius_se'].plot.box()"
   ]
  },
  {
   "cell_type": "code",
   "execution_count": 32,
   "metadata": {},
   "outputs": [
    {
     "data": {
      "text/plain": [
       "<matplotlib.axes._subplots.AxesSubplot at 0x18f95b05348>"
      ]
     },
     "execution_count": 32,
     "metadata": {},
     "output_type": "execute_result"
    },
    {
     "data": {
      "image/png": "[encoded data removed]",
      "text/plain": [
       "<Figure size 432x288 with 1 Axes>"
      ]
     },
     "metadata": {
      "needs_background": "light"
     },
     "output_type": "display_data"
    }
   ],
   "source": [
    "ds.loc[ds['radius_se']>0.76,'radius_se']=np.mean(ds['radius_se'])\n",
    "ds['radius_se'].plot.box()"
   ]
  },
  {
   "cell_type": "code",
   "execution_count": null,
   "metadata": {},
   "outputs": [],
   "source": []
  },
  {
   "cell_type": "code",
   "execution_count": 33,
   "metadata": {
    "scrolled": false
   },
   "outputs": [
    {
     "data": {
      "text/plain": [
       "<matplotlib.axes._subplots.AxesSubplot at 0x18f95b74d08>"
      ]
     },
     "execution_count": 33,
     "metadata": {},
     "output_type": "execute_result"
    },
    {
     "data": {
      "image/png": "[encoded data removed]",
      "text/plain": [
       "<Figure size 432x288 with 1 Axes>"
      ]
     },
     "metadata": {
      "needs_background": "light"
     },
     "output_type": "display_data"
    }
   ],
   "source": [
    "ds['texture_se'].plot.box()"
   ]
  },
  {
   "cell_type": "code",
   "execution_count": 34,
   "metadata": {},
   "outputs": [
    {
     "data": {
      "text/plain": [
       "<matplotlib.axes._subplots.AxesSubplot at 0x18f96bb3f48>"
      ]
     },
     "execution_count": 34,
     "metadata": {},
     "output_type": "execute_result"
    },
    {
     "data": {
      "image/png": "[encoded data removed]",
      "text/plain": [
       "<Figure size 432x288 with 1 Axes>"
      ]
     },
     "metadata": {
      "needs_background": "light"
     },
     "output_type": "display_data"
    }
   ],
   "source": [
    "ds.loc[ds['texture_se']>2.2,'texture_se']=np.mean(ds['texture_se'])\n",
    "ds['texture_se'].plot.box()"
   ]
  },
  {
   "cell_type": "code",
   "execution_count": 35,
   "metadata": {
    "scrolled": true
   },
   "outputs": [
    {
     "data": {
      "text/plain": [
       "<matplotlib.axes._subplots.AxesSubplot at 0x18f96c0b8c8>"
      ]
     },
     "execution_count": 35,
     "metadata": {},
     "output_type": "execute_result"
    },
    {
     "data": {
      "image/png": "[encoded data removed]",
      "text/plain": [
       "<Figure size 432x288 with 1 Axes>"
      ]
     },
     "metadata": {
      "needs_background": "light"
     },
     "output_type": "display_data"
    }
   ],
   "source": [
    "ds['perimeter_se'].plot.box()"
   ]
  },
  {
   "cell_type": "code",
   "execution_count": 36,
   "metadata": {},
   "outputs": [
    {
     "data": {
      "text/plain": [
       "<matplotlib.axes._subplots.AxesSubplot at 0x18f96c828c8>"
      ]
     },
     "execution_count": 36,
     "metadata": {},
     "output_type": "execute_result"
    },
    {
     "data": {
      "image/png": "[encoded data removed]",
      "text/plain": [
       "<Figure size 432x288 with 1 Axes>"
      ]
     },
     "metadata": {
      "needs_background": "light"
     },
     "output_type": "display_data"
    }
   ],
   "source": [
    "ds.loc[ds['perimeter_se']>4.7,'perimeter_se']=np.mean(ds['perimeter_se'])\n",
    "ds['perimeter_se'].plot.box()"
   ]
  },
  {
   "cell_type": "code",
   "execution_count": 37,
   "metadata": {
    "scrolled": true
   },
   "outputs": [
    {
     "data": {
      "text/plain": [
       "<matplotlib.axes._subplots.AxesSubplot at 0x18f96ce5e08>"
      ]
     },
     "execution_count": 37,
     "metadata": {},
     "output_type": "execute_result"
    },
    {
     "data": {
      "image/png": "[encoded data removed]",
      "text/plain": [
       "<Figure size 432x288 with 1 Axes>"
      ]
     },
     "metadata": {
      "needs_background": "light"
     },
     "output_type": "display_data"
    }
   ],
   "source": [
    "ds['area_se'].plot.box()"
   ]
  },
  {
   "cell_type": "code",
   "execution_count": 38,
   "metadata": {},
   "outputs": [
    {
     "data": {
      "text/plain": [
       "<matplotlib.axes._subplots.AxesSubplot at 0x18f96d55948>"
      ]
     },
     "execution_count": 38,
     "metadata": {},
     "output_type": "execute_result"
    },
    {
     "data": {
      "image/png": "[encoded data removed]",
      "text/plain": [
       "<Figure size 432x288 with 1 Axes>"
      ]
     },
     "metadata": {
      "needs_background": "light"
     },
     "output_type": "display_data"
    }
   ],
   "source": [
    "ds.loc[ds['area_se']>80,'area_se']=np.mean(ds['area_se'])\n",
    "ds['area_se'].plot.box()"
   ]
  },
  {
   "cell_type": "code",
   "execution_count": 39,
   "metadata": {},
   "outputs": [
    {
     "data": {
      "text/plain": [
       "<matplotlib.axes._subplots.AxesSubplot at 0x18f96db8a88>"
      ]
     },
     "execution_count": 39,
     "metadata": {},
     "output_type": "execute_result"
    },
    {
     "data": {
      "image/png": "[encoded data removed]",
      "text/plain": [
       "<Figure size 432x288 with 1 Axes>"
      ]
     },
     "metadata": {
      "needs_background": "light"
     },
     "output_type": "display_data"
    }
   ],
   "source": [
    "ds['smoothness_se'].plot.box()"
   ]
  },
  {
   "cell_type": "code",
   "execution_count": 40,
   "metadata": {},
   "outputs": [
    {
     "data": {
      "text/plain": [
       "<matplotlib.axes._subplots.AxesSubplot at 0x18f96e2fd88>"
      ]
     },
     "execution_count": 40,
     "metadata": {},
     "output_type": "execute_result"
    },
    {
     "data": {
      "image/png": "[encoded data removed]",
      "text/plain": [
       "<Figure size 432x288 with 1 Axes>"
      ]
     },
     "metadata": {
      "needs_background": "light"
     },
     "output_type": "display_data"
    }
   ],
   "source": [
    "ds.loc[ds['smoothness_se']>0.009,'smoothness_se']=np.mean(ds['smoothness_se'])\n",
    "ds.loc[ds['smoothness_se']<0.003,'smoothness_se']=np.mean(ds['smoothness_se'])\n",
    "ds['smoothness_se'].plot.box()"
   ]
  },
  {
   "cell_type": "code",
   "execution_count": 41,
   "metadata": {},
   "outputs": [
    {
     "data": {
      "text/plain": [
       "<matplotlib.axes._subplots.AxesSubplot at 0x18f96e7f1c8>"
      ]
     },
     "execution_count": 41,
     "metadata": {},
     "output_type": "execute_result"
    },
    {
     "data": {
      "image/png": "[encoded data removed]",
      "text/plain": [
       "<Figure size 432x288 with 1 Axes>"
      ]
     },
     "metadata": {
      "needs_background": "light"
     },
     "output_type": "display_data"
    }
   ],
   "source": [
    "ds['compactness_se'].plot.box()"
   ]
  },
  {
   "cell_type": "code",
   "execution_count": 42,
   "metadata": {},
   "outputs": [
    {
     "data": {
      "text/plain": [
       "<matplotlib.axes._subplots.AxesSubplot at 0x18f96f01748>"
      ]
     },
     "execution_count": 42,
     "metadata": {},
     "output_type": "execute_result"
    },
    {
     "data": {
      "image/png": "[encoded data removed]",
      "text/plain": [
       "<Figure size 432x288 with 1 Axes>"
      ]
     },
     "metadata": {
      "needs_background": "light"
     },
     "output_type": "display_data"
    }
   ],
   "source": [
    "ds.loc[ds['compactness_se']>0.054,'compactness_se']=np.mean(ds['compactness_se'])\n",
    "ds['compactness_se'].plot.box()"
   ]
  },
  {
   "cell_type": "code",
   "execution_count": 43,
   "metadata": {},
   "outputs": [
    {
     "data": {
      "text/plain": [
       "<matplotlib.axes._subplots.AxesSubplot at 0x18f96f5e348>"
      ]
     },
     "execution_count": 43,
     "metadata": {},
     "output_type": "execute_result"
    },
    {
     "data": {
      "image/png": "[encoded data removed]",
      "text/plain": [
       "<Figure size 432x288 with 1 Axes>"
      ]
     },
     "metadata": {
      "needs_background": "light"
     },
     "output_type": "display_data"
    }
   ],
   "source": [
    "ds['concavity_se'].plot.box()"
   ]
  },
  {
   "cell_type": "code",
   "execution_count": 44,
   "metadata": {},
   "outputs": [
    {
     "data": {
      "text/plain": [
       "<matplotlib.axes._subplots.AxesSubplot at 0x18f96fd3d88>"
      ]
     },
     "execution_count": 44,
     "metadata": {},
     "output_type": "execute_result"
    },
    {
     "data": {
      "image/png": "[encoded data removed]",
      "text/plain": [
       "<Figure size 432x288 with 1 Axes>"
      ]
     },
     "metadata": {
      "needs_background": "light"
     },
     "output_type": "display_data"
    }
   ],
   "source": [
    "ds.loc[ds['concavity_se']>0.055,'concavity_se']=np.mean(ds['concavity_se'])\n",
    "ds['concavity_se'].plot.box()"
   ]
  },
  {
   "cell_type": "code",
   "execution_count": 45,
   "metadata": {},
   "outputs": [
    {
     "data": {
      "text/plain": [
       "<matplotlib.axes._subplots.AxesSubplot at 0x18f97034808>"
      ]
     },
     "execution_count": 45,
     "metadata": {},
     "output_type": "execute_result"
    },
    {
     "data": {
      "image/png": "[encoded data removed]",
      "text/plain": [
       "<Figure size 432x288 with 1 Axes>"
      ]
     },
     "metadata": {
      "needs_background": "light"
     },
     "output_type": "display_data"
    }
   ],
   "source": [
    "ds['concave points_se'].plot.box()"
   ]
  },
  {
   "cell_type": "code",
   "execution_count": 46,
   "metadata": {},
   "outputs": [
    {
     "data": {
      "text/plain": [
       "<matplotlib.axes._subplots.AxesSubplot at 0x18f970980c8>"
      ]
     },
     "execution_count": 46,
     "metadata": {},
     "output_type": "execute_result"
    },
    {
     "data": {
      "image/png": "[encoded data removed]",
      "text/plain": [
       "<Figure size 432x288 with 1 Axes>"
      ]
     },
     "metadata": {
      "needs_background": "light"
     },
     "output_type": "display_data"
    }
   ],
   "source": [
    "ds.loc[ds['concave points_se']>0.020,'concave points_se']=np.mean(ds['concave points_se'])\n",
    "ds['concave points_se'].plot.box()"
   ]
  },
  {
   "cell_type": "code",
   "execution_count": 47,
   "metadata": {},
   "outputs": [
    {
     "data": {
      "text/plain": [
       "<matplotlib.axes._subplots.AxesSubplot at 0x18f9710f808>"
      ]
     },
     "execution_count": 47,
     "metadata": {},
     "output_type": "execute_result"
    },
    {
     "data": {
      "image/png": "[encoded data removed]",
      "text/plain": [
       "<Figure size 432x288 with 1 Axes>"
      ]
     },
     "metadata": {
      "needs_background": "light"
     },
     "output_type": "display_data"
    }
   ],
   "source": [
    "ds['symmetry_se'].plot.box()"
   ]
  },
  {
   "cell_type": "code",
   "execution_count": 48,
   "metadata": {},
   "outputs": [
    {
     "data": {
      "text/plain": [
       "<matplotlib.axes._subplots.AxesSubplot at 0x18f9717bec8>"
      ]
     },
     "execution_count": 48,
     "metadata": {},
     "output_type": "execute_result"
    },
    {
     "data": {
      "image/png": "[encoded data removed]",
      "text/plain": [
       "<Figure size 432x288 with 1 Axes>"
      ]
     },
     "metadata": {
      "needs_background": "light"
     },
     "output_type": "display_data"
    }
   ],
   "source": [
    "ds.loc[ds['symmetry_se']>0.0307,'symmetry_se']=np.mean(ds['symmetry_se'])\n",
    "ds['symmetry_se'].plot.box()"
   ]
  },
  {
   "cell_type": "code",
   "execution_count": null,
   "metadata": {},
   "outputs": [],
   "source": []
  },
  {
   "cell_type": "code",
   "execution_count": 49,
   "metadata": {},
   "outputs": [
    {
     "data": {
      "text/plain": [
       "<matplotlib.axes._subplots.AxesSubplot at 0x18f971dc248>"
      ]
     },
     "execution_count": 49,
     "metadata": {},
     "output_type": "execute_result"
    },
    {
     "data": {
      "image/png": "[encoded data removed]",
      "text/plain": [
       "<Figure size 432x288 with 1 Axes>"
      ]
     },
     "metadata": {
      "needs_background": "light"
     },
     "output_type": "display_data"
    }
   ],
   "source": [
    "ds['fractal_dimension_se'].plot.box()"
   ]
  },
  {
   "cell_type": "code",
   "execution_count": 50,
   "metadata": {},
   "outputs": [
    {
     "data": {
      "text/plain": [
       "<matplotlib.axes._subplots.AxesSubplot at 0x18f972588c8>"
      ]
     },
     "execution_count": 50,
     "metadata": {},
     "output_type": "execute_result"
    },
    {
     "data": {
      "image/png": "[encoded data removed]",
      "text/plain": [
       "<Figure size 432x288 with 1 Axes>"
      ]
     },
     "metadata": {
      "needs_background": "light"
     },
     "output_type": "display_data"
    }
   ],
   "source": [
    "ds.loc[ds['fractal_dimension_se']>0.0057,'fractal_dimension_se']=np.mean(ds['fractal_dimension_se'])\n",
    "ds['fractal_dimension_se'].plot.box()"
   ]
  },
  {
   "cell_type": "code",
   "execution_count": 51,
   "metadata": {},
   "outputs": [
    {
     "data": {
      "text/plain": [
       "diagnosis                    int32\n",
       "radius_mean                float64\n",
       "texture_mean               float64\n",
       "perimeter_mean             float64\n",
       "area_mean                  float64\n",
       "smoothness_mean            float64\n",
       "compactness_mean           float64\n",
       "concavity_mean             float64\n",
       "concave points_mean        float64\n",
       "symmetry_mean              float64\n",
       "fractal_dimension_mean     float64\n",
       "radius_se                  float64\n",
       "texture_se                 float64\n",
       "perimeter_se               float64\n",
       "area_se                    float64\n",
       "smoothness_se              float64\n",
       "compactness_se             float64\n",
       "concavity_se               float64\n",
       "concave points_se          float64\n",
       "symmetry_se                float64\n",
       "fractal_dimension_se       float64\n",
       "radius_worst               float64\n",
       "texture_worst              float64\n",
       "perimeter_worst            float64\n",
       "area_worst                 float64\n",
       "smoothness_worst           float64\n",
       "compactness_worst          float64\n",
       "concavity_worst            float64\n",
       "concave points_worst       float64\n",
       "symmetry_worst             float64\n",
       "fractal_dimension_worst    float64\n",
       "dtype: object"
      ]
     },
     "execution_count": 51,
     "metadata": {},
     "output_type": "execute_result"
    }
   ],
   "source": [
    "ds.dtypes"
   ]
  },
  {
   "cell_type": "code",
   "execution_count": 52,
   "metadata": {
    "scrolled": true
   },
   "outputs": [
    {
     "data": {
      "text/plain": [
       "<matplotlib.axes._subplots.AxesSubplot at 0x18f972b3c88>"
      ]
     },
     "execution_count": 52,
     "metadata": {},
     "output_type": "execute_result"
    },
    {
     "data": {
      "image/png": "[encoded data removed]",
      "text/plain": [
       "<Figure size 432x288 with 1 Axes>"
      ]
     },
     "metadata": {
      "needs_background": "light"
     },
     "output_type": "display_data"
    }
   ],
   "source": [
    "ds['radius_worst'].plot.box()"
   ]
  },
  {
   "cell_type": "code",
   "execution_count": 53,
   "metadata": {},
   "outputs": [
    {
     "data": {
      "text/plain": [
       "<matplotlib.axes._subplots.AxesSubplot at 0x18f97320448>"
      ]
     },
     "execution_count": 53,
     "metadata": {},
     "output_type": "execute_result"
    },
    {
     "data": {
      "image/png": "[encoded data removed]",
      "text/plain": [
       "<Figure size 432x288 with 1 Axes>"
      ]
     },
     "metadata": {
      "needs_background": "light"
     },
     "output_type": "display_data"
    }
   ],
   "source": [
    "ds.loc[ds['radius_worst']>27,'radius_worst']=np.mean(ds['radius_worst'])\n",
    "ds['radius_worst'].plot.box()"
   ]
  },
  {
   "cell_type": "code",
   "execution_count": 54,
   "metadata": {},
   "outputs": [
    {
     "data": {
      "text/plain": [
       "<matplotlib.axes._subplots.AxesSubplot at 0x18f9737dec8>"
      ]
     },
     "execution_count": 54,
     "metadata": {},
     "output_type": "execute_result"
    },
    {
     "data": {
      "image/png": "[encoded data removed]",
      "text/plain": [
       "<Figure size 432x288 with 1 Axes>"
      ]
     },
     "metadata": {
      "needs_background": "light"
     },
     "output_type": "display_data"
    }
   ],
   "source": [
    "ds['texture_worst'].plot.box()"
   ]
  },
  {
   "cell_type": "markdown",
   "metadata": {},
   "source": [
    "df.loc[ds['radius_mean']>23,'price']=np.mean(ds['price'])"
   ]
  },
  {
   "cell_type": "code",
   "execution_count": 55,
   "metadata": {},
   "outputs": [
    {
     "data": {
      "text/plain": [
       "<matplotlib.axes._subplots.AxesSubplot at 0x18f973fbd88>"
      ]
     },
     "execution_count": 55,
     "metadata": {},
     "output_type": "execute_result"
    },
    {
     "data": {
      "image/png": "[encoded data removed]",
      "text/plain": [
       "<Figure size 432x288 with 1 Axes>"
      ]
     },
     "metadata": {
      "needs_background": "light"
     },
     "output_type": "display_data"
    }
   ],
   "source": [
    "ds.loc[ds['texture_worst']>40,'texture_worst']=np.mean(ds['texture_worst'])\n",
    "ds['texture_worst'].plot.box()"
   ]
  },
  {
   "cell_type": "code",
   "execution_count": null,
   "metadata": {},
   "outputs": [],
   "source": []
  },
  {
   "cell_type": "code",
   "execution_count": 56,
   "metadata": {},
   "outputs": [
    {
     "data": {
      "text/plain": [
       "<matplotlib.axes._subplots.AxesSubplot at 0x18f97454c08>"
      ]
     },
     "execution_count": 56,
     "metadata": {},
     "output_type": "execute_result"
    },
    {
     "data": {
      "image/png": "[encoded data removed]",
      "text/plain": [
       "<Figure size 432x288 with 1 Axes>"
      ]
     },
     "metadata": {
      "needs_background": "light"
     },
     "output_type": "display_data"
    }
   ],
   "source": [
    "ds['perimeter_worst'].plot.box()"
   ]
  },
  {
   "cell_type": "code",
   "execution_count": 57,
   "metadata": {},
   "outputs": [
    {
     "data": {
      "text/plain": [
       "<matplotlib.axes._subplots.AxesSubplot at 0x18f974cee08>"
      ]
     },
     "execution_count": 57,
     "metadata": {},
     "output_type": "execute_result"
    },
    {
     "data": {
      "image/png": "[encoded data removed]",
      "text/plain": [
       "<Figure size 432x288 with 1 Axes>"
      ]
     },
     "metadata": {
      "needs_background": "light"
     },
     "output_type": "display_data"
    }
   ],
   "source": [
    "ds.loc[ds['perimeter_worst']>190,'perimeter_worst']=np.mean(ds['perimeter_worst'])\n",
    "ds['perimeter_worst'].plot.box()"
   ]
  },
  {
   "cell_type": "code",
   "execution_count": 58,
   "metadata": {},
   "outputs": [
    {
     "data": {
      "text/plain": [
       "<matplotlib.axes._subplots.AxesSubplot at 0x18f97529988>"
      ]
     },
     "execution_count": 58,
     "metadata": {},
     "output_type": "execute_result"
    },
    {
     "data": {
      "image/png": "[encoded data removed]",
      "text/plain": [
       "<Figure size 432x288 with 1 Axes>"
      ]
     },
     "metadata": {
      "needs_background": "light"
     },
     "output_type": "display_data"
    }
   ],
   "source": [
    "ds['area_worst'].plot.box()"
   ]
  },
  {
   "cell_type": "code",
   "execution_count": 59,
   "metadata": {},
   "outputs": [
    {
     "data": {
      "text/plain": [
       "<matplotlib.axes._subplots.AxesSubplot at 0x18f975a6408>"
      ]
     },
     "execution_count": 59,
     "metadata": {},
     "output_type": "execute_result"
    },
    {
     "data": {
      "image/png": "[encoded data removed]",
      "text/plain": [
       "<Figure size 432x288 with 1 Axes>"
      ]
     },
     "metadata": {
      "needs_background": "light"
     },
     "output_type": "display_data"
    }
   ],
   "source": [
    "ds.loc[ds['area_worst']>1300,'area_worst']=np.mean(ds['area_worst'])\n",
    "ds['area_worst'].plot.box()"
   ]
  },
  {
   "cell_type": "code",
   "execution_count": 60,
   "metadata": {},
   "outputs": [
    {
     "data": {
      "text/plain": [
       "<matplotlib.axes._subplots.AxesSubplot at 0x18f985d1708>"
      ]
     },
     "execution_count": 60,
     "metadata": {},
     "output_type": "execute_result"
    },
    {
     "data": {
      "image/png": "[encoded data removed]",
      "text/plain": [
       "<Figure size 432x288 with 1 Axes>"
      ]
     },
     "metadata": {
      "needs_background": "light"
     },
     "output_type": "display_data"
    }
   ],
   "source": [
    "ds['smoothness_worst'].plot.box()"
   ]
  },
  {
   "cell_type": "code",
   "execution_count": 61,
   "metadata": {},
   "outputs": [
    {
     "data": {
      "text/plain": [
       "<matplotlib.axes._subplots.AxesSubplot at 0x18f9864af88>"
      ]
     },
     "execution_count": 61,
     "metadata": {},
     "output_type": "execute_result"
    },
    {
     "data": {
      "image/png": "[encoded data removed]",
      "text/plain": [
       "<Figure size 432x288 with 1 Axes>"
      ]
     },
     "metadata": {
      "needs_background": "light"
     },
     "output_type": "display_data"
    }
   ],
   "source": [
    "ds.loc[ds['smoothness_worst']>0.19,'smoothness_worst']=np.mean(ds['smoothness_worst'])\n",
    "ds.loc[ds['smoothness_worst']<0.08,'smoothness_worst']=np.mean(ds['smoothness_worst'])\n",
    "ds['smoothness_worst'].plot.box()"
   ]
  },
  {
   "cell_type": "code",
   "execution_count": 62,
   "metadata": {},
   "outputs": [
    {
     "data": {
      "text/plain": [
       "<matplotlib.axes._subplots.AxesSubplot at 0x18f9869af88>"
      ]
     },
     "execution_count": 62,
     "metadata": {},
     "output_type": "execute_result"
    },
    {
     "data": {
      "image/png": "[encoded data removed]",
      "text/plain": [
       "<Figure size 432x288 with 1 Axes>"
      ]
     },
     "metadata": {
      "needs_background": "light"
     },
     "output_type": "display_data"
    }
   ],
   "source": [
    "ds['compactness_worst'].plot.box()"
   ]
  },
  {
   "cell_type": "code",
   "execution_count": 63,
   "metadata": {},
   "outputs": [
    {
     "data": {
      "text/plain": [
       "<matplotlib.axes._subplots.AxesSubplot at 0x18f98716808>"
      ]
     },
     "execution_count": 63,
     "metadata": {},
     "output_type": "execute_result"
    },
    {
     "data": {
      "image/png": "[encoded data removed]",
      "text/plain": [
       "<Figure size 432x288 with 1 Axes>"
      ]
     },
     "metadata": {
      "needs_background": "light"
     },
     "output_type": "display_data"
    }
   ],
   "source": [
    "ds.loc[ds['compactness_worst']>0.62,'compactness_worst']=np.mean(ds['compactness_worst'])\n",
    "ds['compactness_worst'].plot.box()"
   ]
  },
  {
   "cell_type": "code",
   "execution_count": 64,
   "metadata": {},
   "outputs": [
    {
     "data": {
      "text/plain": [
       "<matplotlib.axes._subplots.AxesSubplot at 0x18f98770d48>"
      ]
     },
     "execution_count": 64,
     "metadata": {},
     "output_type": "execute_result"
    },
    {
     "data": {
      "image/png": "[encoded data removed]",
      "text/plain": [
       "<Figure size 432x288 with 1 Axes>"
      ]
     },
     "metadata": {
      "needs_background": "light"
     },
     "output_type": "display_data"
    }
   ],
   "source": [
    "ds['concavity_worst'].plot.box()"
   ]
  },
  {
   "cell_type": "code",
   "execution_count": 65,
   "metadata": {},
   "outputs": [
    {
     "data": {
      "text/plain": [
       "<matplotlib.axes._subplots.AxesSubplot at 0x18f987e4548>"
      ]
     },
     "execution_count": 65,
     "metadata": {},
     "output_type": "execute_result"
    },
    {
     "data": {
      "image/png": "[encoded data removed]",
      "text/plain": [
       "<Figure size 432x288 with 1 Axes>"
      ]
     },
     "metadata": {
      "needs_background": "light"
     },
     "output_type": "display_data"
    }
   ],
   "source": [
    "ds.loc[ds['concavity_worst']>0.8,'concavity_worst']=np.mean(ds['concavity_worst'])\n",
    "ds['concavity_worst'].plot.box()"
   ]
  },
  {
   "cell_type": "code",
   "execution_count": 66,
   "metadata": {},
   "outputs": [
    {
     "data": {
      "text/plain": [
       "<matplotlib.axes._subplots.AxesSubplot at 0x18f98852a08>"
      ]
     },
     "execution_count": 66,
     "metadata": {},
     "output_type": "execute_result"
    },
    {
     "data": {
      "image/png": "[encoded data removed]",
      "text/plain": [
       "<Figure size 432x288 with 1 Axes>"
      ]
     },
     "metadata": {
      "needs_background": "light"
     },
     "output_type": "display_data"
    }
   ],
   "source": [
    "ds['concave points_worst'].plot.box()"
   ]
  },
  {
   "cell_type": "code",
   "execution_count": null,
   "metadata": {},
   "outputs": [],
   "source": []
  },
  {
   "cell_type": "code",
   "execution_count": 67,
   "metadata": {},
   "outputs": [
    {
     "data": {
      "text/plain": [
       "<matplotlib.axes._subplots.AxesSubplot at 0x18f988b51c8>"
      ]
     },
     "execution_count": 67,
     "metadata": {},
     "output_type": "execute_result"
    },
    {
     "data": {
      "image/png": "[encoded data removed]",
      "text/plain": [
       "<Figure size 432x288 with 1 Axes>"
      ]
     },
     "metadata": {
      "needs_background": "light"
     },
     "output_type": "display_data"
    }
   ],
   "source": [
    "ds['symmetry_worst'].plot.box()"
   ]
  },
  {
   "cell_type": "code",
   "execution_count": 68,
   "metadata": {},
   "outputs": [
    {
     "data": {
      "text/plain": [
       "<matplotlib.axes._subplots.AxesSubplot at 0x18f98922348>"
      ]
     },
     "execution_count": 68,
     "metadata": {},
     "output_type": "execute_result"
    },
    {
     "data": {
      "image/png": "[encoded data removed]",
      "text/plain": [
       "<Figure size 432x288 with 1 Axes>"
      ]
     },
     "metadata": {
      "needs_background": "light"
     },
     "output_type": "display_data"
    }
   ],
   "source": [
    "ds.loc[ds['symmetry_worst']>0.3751,'symmetry_worst']=np.mean(ds['symmetry_worst'])\n",
    "ds.loc[ds['symmetry_worst']<0.20,'symmetry_worst']=np.mean(ds['symmetry_worst'])\n",
    "ds['symmetry_worst'].plot.box()"
   ]
  },
  {
   "cell_type": "code",
   "execution_count": 69,
   "metadata": {},
   "outputs": [
    {
     "data": {
      "text/plain": [
       "<matplotlib.axes._subplots.AxesSubplot at 0x18f9898f2c8>"
      ]
     },
     "execution_count": 69,
     "metadata": {},
     "output_type": "execute_result"
    },
    {
     "data": {
      "image/png": "[encoded data removed]",
      "text/plain": [
       "<Figure size 432x288 with 1 Axes>"
      ]
     },
     "metadata": {
      "needs_background": "light"
     },
     "output_type": "display_data"
    }
   ],
   "source": [
    "ds['fractal_dimension_worst'].plot.box()"
   ]
  },
  {
   "cell_type": "code",
   "execution_count": 70,
   "metadata": {},
   "outputs": [
    {
     "data": {
      "text/plain": [
       "<matplotlib.axes._subplots.AxesSubplot at 0x18f989e5a48>"
      ]
     },
     "execution_count": 70,
     "metadata": {},
     "output_type": "execute_result"
    },
    {
     "data": {
      "image/png": "[encoded data removed]",
      "text/plain": [
       "<Figure size 432x288 with 1 Axes>"
      ]
     },
     "metadata": {
      "needs_background": "light"
     },
     "output_type": "display_data"
    }
   ],
   "source": [
    "ds.loc[ds['fractal_dimension_worst']>0.11,'fractal_dimension_worst']=np.mean(ds['fractal_dimension_worst'])\n",
    "ds['fractal_dimension_worst'].plot.box()"
   ]
  },
  {
   "cell_type": "code",
   "execution_count": 71,
   "metadata": {},
   "outputs": [
    {
     "data": {
      "text/html": [
       "<div>\n",
       "<style scoped>\n",
       "    .dataframe tbody tr th:only-of-type {\n",
       "        vertical-align: middle;\n",
       "    }\n",
       "\n",
       "    .dataframe tbody tr th {\n",
       "        vertical-align: top;\n",
       "    }\n",
       "\n",
       "    .dataframe thead th {\n",
       "        text-align: right;\n",
       "    }\n",
       "</style>\n",
       "<table border=\"1\" class=\"dataframe\">\n",
       "  <thead>\n",
       "    <tr style=\"text-align: right;\">\n",
       "      <th></th>\n",
       "      <th>diagnosis</th>\n",
       "      <th>radius_mean</th>\n",
       "      <th>texture_mean</th>\n",
       "      <th>perimeter_mean</th>\n",
       "      <th>area_mean</th>\n",
       "      <th>smoothness_mean</th>\n",
       "      <th>compactness_mean</th>\n",
       "      <th>concavity_mean</th>\n",
       "      <th>concave points_mean</th>\n",
       "      <th>symmetry_mean</th>\n",
       "      <th>...</th>\n",
       "      <th>radius_worst</th>\n",
       "      <th>texture_worst</th>\n",
       "      <th>perimeter_worst</th>\n",
       "      <th>area_worst</th>\n",
       "      <th>smoothness_worst</th>\n",
       "      <th>compactness_worst</th>\n",
       "      <th>concavity_worst</th>\n",
       "      <th>concave points_worst</th>\n",
       "      <th>symmetry_worst</th>\n",
       "      <th>fractal_dimension_worst</th>\n",
       "    </tr>\n",
       "  </thead>\n",
       "  <tbody>\n",
       "    <tr>\n",
       "      <td>count</td>\n",
       "      <td>377.000000</td>\n",
       "      <td>377.000000</td>\n",
       "      <td>377.000000</td>\n",
       "      <td>377.000000</td>\n",
       "      <td>377.000000</td>\n",
       "      <td>377.000000</td>\n",
       "      <td>377.000000</td>\n",
       "      <td>377.000000</td>\n",
       "      <td>377.000000</td>\n",
       "      <td>377.000000</td>\n",
       "      <td>...</td>\n",
       "      <td>377.000000</td>\n",
       "      <td>377.000000</td>\n",
       "      <td>377.000000</td>\n",
       "      <td>377.000000</td>\n",
       "      <td>377.000000</td>\n",
       "      <td>377.000000</td>\n",
       "      <td>377.000000</td>\n",
       "      <td>377.000000</td>\n",
       "      <td>377.000000</td>\n",
       "      <td>377.000000</td>\n",
       "    </tr>\n",
       "    <tr>\n",
       "      <td>mean</td>\n",
       "      <td>0.445623</td>\n",
       "      <td>14.146100</td>\n",
       "      <td>18.888254</td>\n",
       "      <td>93.836472</td>\n",
       "      <td>553.133126</td>\n",
       "      <td>0.096528</td>\n",
       "      <td>0.099622</td>\n",
       "      <td>0.085563</td>\n",
       "      <td>0.050161</td>\n",
       "      <td>0.180257</td>\n",
       "      <td>...</td>\n",
       "      <td>16.196581</td>\n",
       "      <td>24.990722</td>\n",
       "      <td>107.607459</td>\n",
       "      <td>721.988612</td>\n",
       "      <td>0.133155</td>\n",
       "      <td>0.244987</td>\n",
       "      <td>0.270139</td>\n",
       "      <td>0.119263</td>\n",
       "      <td>0.287609</td>\n",
       "      <td>0.080742</td>\n",
       "    </tr>\n",
       "    <tr>\n",
       "      <td>std</td>\n",
       "      <td>0.497695</td>\n",
       "      <td>3.203637</td>\n",
       "      <td>3.700647</td>\n",
       "      <td>24.865873</td>\n",
       "      <td>156.790865</td>\n",
       "      <td>0.012717</td>\n",
       "      <td>0.043776</td>\n",
       "      <td>0.065838</td>\n",
       "      <td>0.035968</td>\n",
       "      <td>0.022975</td>\n",
       "      <td>...</td>\n",
       "      <td>4.240722</td>\n",
       "      <td>5.500399</td>\n",
       "      <td>30.757083</td>\n",
       "      <td>258.053129</td>\n",
       "      <td>0.021888</td>\n",
       "      <td>0.134771</td>\n",
       "      <td>0.193517</td>\n",
       "      <td>0.068215</td>\n",
       "      <td>0.037463</td>\n",
       "      <td>0.012014</td>\n",
       "    </tr>\n",
       "    <tr>\n",
       "      <td>min</td>\n",
       "      <td>0.000000</td>\n",
       "      <td>6.981000</td>\n",
       "      <td>9.710000</td>\n",
       "      <td>43.790000</td>\n",
       "      <td>143.500000</td>\n",
       "      <td>0.062510</td>\n",
       "      <td>0.019380</td>\n",
       "      <td>0.000000</td>\n",
       "      <td>0.000000</td>\n",
       "      <td>0.121500</td>\n",
       "      <td>...</td>\n",
       "      <td>7.930000</td>\n",
       "      <td>12.020000</td>\n",
       "      <td>50.410000</td>\n",
       "      <td>185.200000</td>\n",
       "      <td>0.081250</td>\n",
       "      <td>0.027290</td>\n",
       "      <td>0.000000</td>\n",
       "      <td>0.000000</td>\n",
       "      <td>0.202700</td>\n",
       "      <td>0.055040</td>\n",
       "    </tr>\n",
       "    <tr>\n",
       "      <td>25%</td>\n",
       "      <td>0.000000</td>\n",
       "      <td>11.840000</td>\n",
       "      <td>16.020000</td>\n",
       "      <td>76.090000</td>\n",
       "      <td>431.100000</td>\n",
       "      <td>0.087570</td>\n",
       "      <td>0.064920</td>\n",
       "      <td>0.030000</td>\n",
       "      <td>0.020690</td>\n",
       "      <td>0.163800</td>\n",
       "      <td>...</td>\n",
       "      <td>13.140000</td>\n",
       "      <td>20.880000</td>\n",
       "      <td>84.480000</td>\n",
       "      <td>515.900000</td>\n",
       "      <td>0.117900</td>\n",
       "      <td>0.144000</td>\n",
       "      <td>0.114400</td>\n",
       "      <td>0.062030</td>\n",
       "      <td>0.263600</td>\n",
       "      <td>0.071470</td>\n",
       "    </tr>\n",
       "    <tr>\n",
       "      <td>50%</td>\n",
       "      <td>0.000000</td>\n",
       "      <td>13.560000</td>\n",
       "      <td>18.840000</td>\n",
       "      <td>87.460000</td>\n",
       "      <td>566.200000</td>\n",
       "      <td>0.096990</td>\n",
       "      <td>0.095090</td>\n",
       "      <td>0.070700</td>\n",
       "      <td>0.038210</td>\n",
       "      <td>0.181300</td>\n",
       "      <td>...</td>\n",
       "      <td>15.340000</td>\n",
       "      <td>25.090000</td>\n",
       "      <td>100.300000</td>\n",
       "      <td>708.800000</td>\n",
       "      <td>0.132991</td>\n",
       "      <td>0.218600</td>\n",
       "      <td>0.232200</td>\n",
       "      <td>0.108700</td>\n",
       "      <td>0.285300</td>\n",
       "      <td>0.080200</td>\n",
       "    </tr>\n",
       "    <tr>\n",
       "      <td>75%</td>\n",
       "      <td>1.000000</td>\n",
       "      <td>16.110000</td>\n",
       "      <td>21.600000</td>\n",
       "      <td>109.000000</td>\n",
       "      <td>680.749867</td>\n",
       "      <td>0.105400</td>\n",
       "      <td>0.128300</td>\n",
       "      <td>0.127200</td>\n",
       "      <td>0.077520</td>\n",
       "      <td>0.194300</td>\n",
       "      <td>...</td>\n",
       "      <td>18.790000</td>\n",
       "      <td>29.020000</td>\n",
       "      <td>127.100000</td>\n",
       "      <td>921.164191</td>\n",
       "      <td>0.147800</td>\n",
       "      <td>0.333100</td>\n",
       "      <td>0.387900</td>\n",
       "      <td>0.173200</td>\n",
       "      <td>0.310500</td>\n",
       "      <td>0.087180</td>\n",
       "    </tr>\n",
       "    <tr>\n",
       "      <td>max</td>\n",
       "      <td>1.000000</td>\n",
       "      <td>22.270000</td>\n",
       "      <td>27.850000</td>\n",
       "      <td>188.500000</td>\n",
       "      <td>899.300000</td>\n",
       "      <td>0.129100</td>\n",
       "      <td>0.219000</td>\n",
       "      <td>0.256500</td>\n",
       "      <td>0.159500</td>\n",
       "      <td>0.239800</td>\n",
       "      <td>...</td>\n",
       "      <td>26.730000</td>\n",
       "      <td>39.340000</td>\n",
       "      <td>188.500000</td>\n",
       "      <td>1299.000000</td>\n",
       "      <td>0.188300</td>\n",
       "      <td>0.616400</td>\n",
       "      <td>0.789200</td>\n",
       "      <td>0.291000</td>\n",
       "      <td>0.375100</td>\n",
       "      <td>0.109400</td>\n",
       "    </tr>\n",
       "  </tbody>\n",
       "</table>\n",
       "<p>8 rows × 31 columns</p>\n",
       "</div>"
      ],
      "text/plain": [
       "        diagnosis  radius_mean  texture_mean  perimeter_mean   area_mean  \\\n",
       "count  377.000000   377.000000    377.000000      377.000000  377.000000   \n",
       "mean     0.445623    14.146100     18.888254       93.836472  553.133126   \n",
       "std      0.497695     3.203637      3.700647       24.865873  156.790865   \n",
       "min      0.000000     6.981000      9.710000       43.790000  143.500000   \n",
       "25%      0.000000    11.840000     16.020000       76.090000  431.100000   \n",
       "50%      0.000000    13.560000     18.840000       87.460000  566.200000   \n",
       "75%      1.000000    16.110000     21.600000      109.000000  680.749867   \n",
       "max      1.000000    22.270000     27.850000      188.500000  899.300000   \n",
       "\n",
       "       smoothness_mean  compactness_mean  concavity_mean  concave points_mean  \\\n",
       "count       377.000000        377.000000      377.000000           377.000000   \n",
       "mean          0.096528          0.099622        0.085563             0.050161   \n",
       "std           0.012717          0.043776        0.065838             0.035968   \n",
       "min           0.062510          0.019380        0.000000             0.000000   \n",
       "25%           0.087570          0.064920        0.030000             0.020690   \n",
       "50%           0.096990          0.095090        0.070700             0.038210   \n",
       "75%           0.105400          0.128300        0.127200             0.077520   \n",
       "max           0.129100          0.219000        0.256500             0.159500   \n",
       "\n",
       "       symmetry_mean  ...  radius_worst  texture_worst  perimeter_worst  \\\n",
       "count     377.000000  ...    377.000000     377.000000       377.000000   \n",
       "mean        0.180257  ...     16.196581      24.990722       107.607459   \n",
       "std         0.022975  ...      4.240722       5.500399        30.757083   \n",
       "min         0.121500  ...      7.930000      12.020000        50.410000   \n",
       "25%         0.163800  ...     13.140000      20.880000        84.480000   \n",
       "50%         0.181300  ...     15.340000      25.090000       100.300000   \n",
       "75%         0.194300  ...     18.790000      29.020000       127.100000   \n",
       "max         0.239800  ...     26.730000      39.340000       188.500000   \n",
       "\n",
       "        area_worst  smoothness_worst  compactness_worst  concavity_worst  \\\n",
       "count   377.000000        377.000000         377.000000       377.000000   \n",
       "mean    721.988612          0.133155           0.244987         0.270139   \n",
       "std     258.053129          0.021888           0.134771         0.193517   \n",
       "min     185.200000          0.081250           0.027290         0.000000   \n",
       "25%     515.900000          0.117900           0.144000         0.114400   \n",
       "50%     708.800000          0.132991           0.218600         0.232200   \n",
       "75%     921.164191          0.147800           0.333100         0.387900   \n",
       "max    1299.000000          0.188300           0.616400         0.789200   \n",
       "\n",
       "       concave points_worst  symmetry_worst  fractal_dimension_worst  \n",
       "count            377.000000      377.000000               377.000000  \n",
       "mean               0.119263        0.287609                 0.080742  \n",
       "std                0.068215        0.037463                 0.012014  \n",
       "min                0.000000        0.202700                 0.055040  \n",
       "25%                0.062030        0.263600                 0.071470  \n",
       "50%                0.108700        0.285300                 0.080200  \n",
       "75%                0.173200        0.310500                 0.087180  \n",
       "max                0.291000        0.375100                 0.109400  \n",
       "\n",
       "[8 rows x 31 columns]"
      ]
     },
     "execution_count": 71,
     "metadata": {},
     "output_type": "execute_result"
    }
   ],
   "source": [
    "ds.describe()"
   ]
  },
  {
   "cell_type": "code",
   "execution_count": 72,
   "metadata": {},
   "outputs": [
    {
     "data": {
      "text/html": [
       "<div>\n",
       "<style scoped>\n",
       "    .dataframe tbody tr th:only-of-type {\n",
       "        vertical-align: middle;\n",
       "    }\n",
       "\n",
       "    .dataframe tbody tr th {\n",
       "        vertical-align: top;\n",
       "    }\n",
       "\n",
       "    .dataframe thead th {\n",
       "        text-align: right;\n",
       "    }\n",
       "</style>\n",
       "<table border=\"1\" class=\"dataframe\">\n",
       "  <thead>\n",
       "    <tr style=\"text-align: right;\">\n",
       "      <th></th>\n",
       "      <th>diagnosis</th>\n",
       "      <th>radius_mean</th>\n",
       "      <th>texture_mean</th>\n",
       "      <th>perimeter_mean</th>\n",
       "      <th>area_mean</th>\n",
       "      <th>smoothness_mean</th>\n",
       "      <th>compactness_mean</th>\n",
       "      <th>concavity_mean</th>\n",
       "      <th>concave points_mean</th>\n",
       "      <th>symmetry_mean</th>\n",
       "      <th>...</th>\n",
       "      <th>radius_worst</th>\n",
       "      <th>texture_worst</th>\n",
       "      <th>perimeter_worst</th>\n",
       "      <th>area_worst</th>\n",
       "      <th>smoothness_worst</th>\n",
       "      <th>compactness_worst</th>\n",
       "      <th>concavity_worst</th>\n",
       "      <th>concave points_worst</th>\n",
       "      <th>symmetry_worst</th>\n",
       "      <th>fractal_dimension_worst</th>\n",
       "    </tr>\n",
       "  </thead>\n",
       "  <tbody>\n",
       "    <tr>\n",
       "      <td>0</td>\n",
       "      <td>1</td>\n",
       "      <td>17.99</td>\n",
       "      <td>10.38</td>\n",
       "      <td>122.80</td>\n",
       "      <td>680.749867</td>\n",
       "      <td>0.118400</td>\n",
       "      <td>0.106592</td>\n",
       "      <td>0.095205</td>\n",
       "      <td>0.14710</td>\n",
       "      <td>0.183374</td>\n",
       "      <td>...</td>\n",
       "      <td>25.38</td>\n",
       "      <td>17.33</td>\n",
       "      <td>184.60</td>\n",
       "      <td>921.164191</td>\n",
       "      <td>0.162200</td>\n",
       "      <td>0.262059</td>\n",
       "      <td>0.7119</td>\n",
       "      <td>0.2654</td>\n",
       "      <td>0.29766</td>\n",
       "      <td>0.084542</td>\n",
       "    </tr>\n",
       "    <tr>\n",
       "      <td>1</td>\n",
       "      <td>1</td>\n",
       "      <td>20.57</td>\n",
       "      <td>17.77</td>\n",
       "      <td>132.90</td>\n",
       "      <td>680.749867</td>\n",
       "      <td>0.084740</td>\n",
       "      <td>0.078640</td>\n",
       "      <td>0.086900</td>\n",
       "      <td>0.07017</td>\n",
       "      <td>0.181200</td>\n",
       "      <td>...</td>\n",
       "      <td>24.99</td>\n",
       "      <td>23.41</td>\n",
       "      <td>158.80</td>\n",
       "      <td>921.164191</td>\n",
       "      <td>0.123800</td>\n",
       "      <td>0.186600</td>\n",
       "      <td>0.2416</td>\n",
       "      <td>0.1860</td>\n",
       "      <td>0.27500</td>\n",
       "      <td>0.089020</td>\n",
       "    </tr>\n",
       "    <tr>\n",
       "      <td>2</td>\n",
       "      <td>1</td>\n",
       "      <td>19.69</td>\n",
       "      <td>21.25</td>\n",
       "      <td>130.00</td>\n",
       "      <td>680.749867</td>\n",
       "      <td>0.109600</td>\n",
       "      <td>0.159900</td>\n",
       "      <td>0.197400</td>\n",
       "      <td>0.12790</td>\n",
       "      <td>0.206900</td>\n",
       "      <td>...</td>\n",
       "      <td>23.57</td>\n",
       "      <td>25.53</td>\n",
       "      <td>152.50</td>\n",
       "      <td>921.164191</td>\n",
       "      <td>0.144400</td>\n",
       "      <td>0.424500</td>\n",
       "      <td>0.4504</td>\n",
       "      <td>0.2430</td>\n",
       "      <td>0.36130</td>\n",
       "      <td>0.087580</td>\n",
       "    </tr>\n",
       "    <tr>\n",
       "      <td>3</td>\n",
       "      <td>1</td>\n",
       "      <td>11.42</td>\n",
       "      <td>20.38</td>\n",
       "      <td>77.58</td>\n",
       "      <td>386.100000</td>\n",
       "      <td>0.097289</td>\n",
       "      <td>0.106592</td>\n",
       "      <td>0.241400</td>\n",
       "      <td>0.10520</td>\n",
       "      <td>0.183374</td>\n",
       "      <td>...</td>\n",
       "      <td>14.91</td>\n",
       "      <td>26.50</td>\n",
       "      <td>98.87</td>\n",
       "      <td>567.700000</td>\n",
       "      <td>0.133581</td>\n",
       "      <td>0.262059</td>\n",
       "      <td>0.6869</td>\n",
       "      <td>0.2575</td>\n",
       "      <td>0.29766</td>\n",
       "      <td>0.084542</td>\n",
       "    </tr>\n",
       "    <tr>\n",
       "      <td>4</td>\n",
       "      <td>1</td>\n",
       "      <td>20.29</td>\n",
       "      <td>14.34</td>\n",
       "      <td>135.10</td>\n",
       "      <td>680.749867</td>\n",
       "      <td>0.097289</td>\n",
       "      <td>0.132800</td>\n",
       "      <td>0.198000</td>\n",
       "      <td>0.10430</td>\n",
       "      <td>0.180900</td>\n",
       "      <td>...</td>\n",
       "      <td>22.54</td>\n",
       "      <td>16.67</td>\n",
       "      <td>152.20</td>\n",
       "      <td>921.164191</td>\n",
       "      <td>0.137400</td>\n",
       "      <td>0.205000</td>\n",
       "      <td>0.4000</td>\n",
       "      <td>0.1625</td>\n",
       "      <td>0.23640</td>\n",
       "      <td>0.076780</td>\n",
       "    </tr>\n",
       "  </tbody>\n",
       "</table>\n",
       "<p>5 rows × 31 columns</p>\n",
       "</div>"
      ],
      "text/plain": [
       "   diagnosis  radius_mean  texture_mean  perimeter_mean   area_mean  \\\n",
       "0          1        17.99         10.38          122.80  680.749867   \n",
       "1          1        20.57         17.77          132.90  680.749867   \n",
       "2          1        19.69         21.25          130.00  680.749867   \n",
       "3          1        11.42         20.38           77.58  386.100000   \n",
       "4          1        20.29         14.34          135.10  680.749867   \n",
       "\n",
       "   smoothness_mean  compactness_mean  concavity_mean  concave points_mean  \\\n",
       "0         0.118400          0.106592        0.095205              0.14710   \n",
       "1         0.084740          0.078640        0.086900              0.07017   \n",
       "2         0.109600          0.159900        0.197400              0.12790   \n",
       "3         0.097289          0.106592        0.241400              0.10520   \n",
       "4         0.097289          0.132800        0.198000              0.10430   \n",
       "\n",
       "   symmetry_mean  ...  radius_worst  texture_worst  perimeter_worst  \\\n",
       "0       0.183374  ...         25.38          17.33           184.60   \n",
       "1       0.181200  ...         24.99          23.41           158.80   \n",
       "2       0.206900  ...         23.57          25.53           152.50   \n",
       "3       0.183374  ...         14.91          26.50            98.87   \n",
       "4       0.180900  ...         22.54          16.67           152.20   \n",
       "\n",
       "   area_worst  smoothness_worst  compactness_worst  concavity_worst  \\\n",
       "0  921.164191          0.162200           0.262059           0.7119   \n",
       "1  921.164191          0.123800           0.186600           0.2416   \n",
       "2  921.164191          0.144400           0.424500           0.4504   \n",
       "3  567.700000          0.133581           0.262059           0.6869   \n",
       "4  921.164191          0.137400           0.205000           0.4000   \n",
       "\n",
       "   concave points_worst  symmetry_worst  fractal_dimension_worst  \n",
       "0                0.2654         0.29766                 0.084542  \n",
       "1                0.1860         0.27500                 0.089020  \n",
       "2                0.2430         0.36130                 0.087580  \n",
       "3                0.2575         0.29766                 0.084542  \n",
       "4                0.1625         0.23640                 0.076780  \n",
       "\n",
       "[5 rows x 31 columns]"
      ]
     },
     "execution_count": 72,
     "metadata": {},
     "output_type": "execute_result"
    }
   ],
   "source": [
    "ds.head()"
   ]
  },
  {
   "cell_type": "code",
   "execution_count": 73,
   "metadata": {},
   "outputs": [],
   "source": [
    "X = ds.iloc[:377,0:30]\n",
    "y = ds.iloc[:377,[0]]"
   ]
  },
  {
   "cell_type": "code",
   "execution_count": 74,
   "metadata": {},
   "outputs": [
    {
     "name": "stderr",
     "output_type": "stream",
     "text": [
      "Using TensorFlow backend.\n"
     ]
    }
   ],
   "source": [
    "from keras.callbacks import ModelCheckpoint\n",
    "from keras.models import Sequential\n",
    "from keras.layers import Dense, Activation, Flatten\n",
    "from sklearn.model_selection import train_test_split\n",
    "from matplotlib import pyplot as plt\n",
    "import seaborn as sb\n",
    "import matplotlib.pyplot as plt\n",
    "import pandas as pd\n",
    "import numpy as np\n",
    "import warnings \n",
    "warnings.filterwarnings('ignore')\n",
    "warnings.filterwarnings('ignore', category=DeprecationWarning)"
   ]
  },
  {
   "cell_type": "code",
   "execution_count": 75,
   "metadata": {},
   "outputs": [
    {
     "data": {
      "text/plain": [
       "diagnosis                    int32\n",
       "radius_mean                float64\n",
       "texture_mean               float64\n",
       "perimeter_mean             float64\n",
       "area_mean                  float64\n",
       "smoothness_mean            float64\n",
       "compactness_mean           float64\n",
       "concavity_mean             float64\n",
       "concave points_mean        float64\n",
       "symmetry_mean              float64\n",
       "fractal_dimension_mean     float64\n",
       "radius_se                  float64\n",
       "texture_se                 float64\n",
       "perimeter_se               float64\n",
       "area_se                    float64\n",
       "smoothness_se              float64\n",
       "compactness_se             float64\n",
       "concavity_se               float64\n",
       "concave points_se          float64\n",
       "symmetry_se                float64\n",
       "fractal_dimension_se       float64\n",
       "radius_worst               float64\n",
       "texture_worst              float64\n",
       "perimeter_worst            float64\n",
       "area_worst                 float64\n",
       "smoothness_worst           float64\n",
       "compactness_worst          float64\n",
       "concavity_worst            float64\n",
       "concave points_worst       float64\n",
       "symmetry_worst             float64\n",
       "fractal_dimension_worst    float64\n",
       "dtype: object"
      ]
     },
     "execution_count": 75,
     "metadata": {},
     "output_type": "execute_result"
    }
   ],
   "source": [
    "ds.dtypes"
   ]
  },
  {
   "cell_type": "code",
   "execution_count": 76,
   "metadata": {},
   "outputs": [],
   "source": [
    "from sklearn.preprocessing import MinMaxScaler\n",
    "scaler = MinMaxScaler()\n",
    "scaler2=MinMaxScaler()\n",
    "X_train = scaler.fit_transform(X)\n",
    "y = np.reshape(np.array(y), (-1,1))\n",
    "y_train = scaler2.fit_transform(y)"
   ]
  },
  {
   "cell_type": "markdown",
   "metadata": {},
   "source": [
    "X_train.shape"
   ]
  },
  {
   "cell_type": "markdown",
   "metadata": {},
   "source": [
    "y_train.shape"
   ]
  },
  {
   "cell_type": "code",
   "execution_count": 77,
   "metadata": {},
   "outputs": [],
   "source": [
    "from sklearn.model_selection import train_test_split"
   ]
  },
  {
   "cell_type": "code",
   "execution_count": 78,
   "metadata": {},
   "outputs": [],
   "source": [
    "X_train, X_test, y_train, y_test = train_test_split(X_train,y_train, test_size=0.20, random_state=101, stratify=y)"
   ]
  },
  {
   "cell_type": "code",
   "execution_count": 79,
   "metadata": {},
   "outputs": [
    {
     "data": {
      "text/plain": [
       "((301, 30), (301, 1))"
      ]
     },
     "execution_count": 79,
     "metadata": {},
     "output_type": "execute_result"
    }
   ],
   "source": [
    "X_train.shape,y_train.shape"
   ]
  },
  {
   "cell_type": "code",
   "execution_count": 80,
   "metadata": {},
   "outputs": [
    {
     "data": {
      "text/plain": [
       "30"
      ]
     },
     "execution_count": 80,
     "metadata": {},
     "output_type": "execute_result"
    }
   ],
   "source": [
    "X_train.shape[1]"
   ]
  },
  {
   "cell_type": "code",
   "execution_count": 81,
   "metadata": {},
   "outputs": [],
   "source": [
    "classifier = Sequential()"
   ]
  },
  {
   "cell_type": "code",
   "execution_count": 82,
   "metadata": {},
   "outputs": [],
   "source": [
    "classifier.add(Dense(output_dim = 16, init = 'uniform', activation = 'relu', input_dim = 30))"
   ]
  },
  {
   "cell_type": "code",
   "execution_count": 83,
   "metadata": {},
   "outputs": [],
   "source": [
    "classifier.add(Dense(output_dim = 16, init = 'uniform', activation = 'relu'))"
   ]
  },
  {
   "cell_type": "code",
   "execution_count": 84,
   "metadata": {},
   "outputs": [],
   "source": [
    "classifier.add(Dense(output_dim = 1, init = 'uniform', activation = 'sigmoid'))"
   ]
  },
  {
   "cell_type": "code",
   "execution_count": 85,
   "metadata": {},
   "outputs": [],
   "source": [
    "classifier.compile(optimizer = 'adam', loss = 'binary_crossentropy', metrics = ['accuracy'])"
   ]
  },
  {
   "cell_type": "code",
   "execution_count": 86,
   "metadata": {},
   "outputs": [
    {
     "name": "stdout",
     "output_type": "stream",
     "text": [
      "Epoch 1/100\n",
      "301/301 [==============================] - 1s 2ms/step - loss: 0.6915 - accuracy: 0.8073\n",
      "Epoch 2/100\n",
      "301/301 [==============================] - 0s 123us/step - loss: 0.6778 - accuracy: 0.9502\n",
      "Epoch 3/100\n",
      "301/301 [==============================] - 0s 192us/step - loss: 0.6281 - accuracy: 0.9269\n",
      "Epoch 4/100\n",
      "301/301 [==============================] - 0s 153us/step - loss: 0.5299 - accuracy: 0.9236\n",
      "Epoch 5/100\n",
      "301/301 [==============================] - 0s 192us/step - loss: 0.3934 - accuracy: 0.9568\n",
      "Epoch 6/100\n",
      "301/301 [==============================] - 0s 172us/step - loss: 0.2600 - accuracy: 0.9867\n",
      "Epoch 7/100\n",
      "301/301 [==============================] - 0s 212us/step - loss: 0.1678 - accuracy: 0.9900\n",
      "Epoch 8/100\n",
      "301/301 [==============================] - 0s 192us/step - loss: 0.1106 - accuracy: 0.9934\n",
      "Epoch 9/100\n",
      "301/301 [==============================] - 0s 133us/step - loss: 0.0791 - accuracy: 0.9967\n",
      "Epoch 10/100\n",
      "301/301 [==============================] - 0s 139us/step - loss: 0.0627 - accuracy: 1.0000\n",
      "Epoch 11/100\n",
      "301/301 [==============================] - 0s 133us/step - loss: 0.0451 - accuracy: 0.9967\n",
      "Epoch 12/100\n",
      "301/301 [==============================] - 0s 192us/step - loss: 0.0344 - accuracy: 1.0000\n",
      "Epoch 13/100\n",
      "301/301 [==============================] - 0s 136us/step - loss: 0.0282 - accuracy: 1.0000\n",
      "Epoch 14/100\n",
      "301/301 [==============================] - 0s 126us/step - loss: 0.0231 - accuracy: 1.0000\n",
      "Epoch 15/100\n",
      "301/301 [==============================] - 0s 209us/step - loss: 0.0186 - accuracy: 1.0000\n",
      "Epoch 16/100\n",
      "301/301 [==============================] - 0s 192us/step - loss: 0.0165 - accuracy: 1.0000\n",
      "Epoch 17/100\n",
      "301/301 [==============================] - 0s 139us/step - loss: 0.0135 - accuracy: 1.0000\n",
      "Epoch 18/100\n",
      "301/301 [==============================] - 0s 229us/step - loss: 0.0115 - accuracy: 1.0000\n",
      "Epoch 19/100\n",
      "301/301 [==============================] - 0s 242us/step - loss: 0.0099 - accuracy: 1.0000\n",
      "Epoch 20/100\n",
      "301/301 [==============================] - 0s 232us/step - loss: 0.0090 - accuracy: 1.0000\n",
      "Epoch 21/100\n",
      "301/301 [==============================] - 0s 209us/step - loss: 0.0074 - accuracy: 1.0000\n",
      "Epoch 22/100\n",
      "301/301 [==============================] - 0s 199us/step - loss: 0.0066 - accuracy: 1.0000\n",
      "Epoch 23/100\n",
      "301/301 [==============================] - 0s 242us/step - loss: 0.0059 - accuracy: 1.0000\n",
      "Epoch 24/100\n",
      "301/301 [==============================] - 0s 245us/step - loss: 0.0053 - accuracy: 1.0000\n",
      "Epoch 25/100\n",
      "301/301 [==============================] - 0s 245us/step - loss: 0.0048 - accuracy: 1.0000\n",
      "Epoch 26/100\n",
      "301/301 [==============================] - 0s 258us/step - loss: 0.0044 - accuracy: 1.0000\n",
      "Epoch 27/100\n",
      "301/301 [==============================] - 0s 146us/step - loss: 0.0040 - accuracy: 1.0000\n",
      "Epoch 28/100\n",
      "301/301 [==============================] - 0s 146us/step - loss: 0.0037 - accuracy: 1.0000\n",
      "Epoch 29/100\n",
      "301/301 [==============================] - 0s 222us/step - loss: 0.0033 - accuracy: 1.0000\n",
      "Epoch 30/100\n",
      "301/301 [==============================] - 0s 212us/step - loss: 0.0031 - accuracy: 1.0000\n",
      "Epoch 31/100\n",
      "301/301 [==============================] - 0s 222us/step - loss: 0.0028 - accuracy: 1.0000\n",
      "Epoch 32/100\n",
      "301/301 [==============================] - 0s 298us/step - loss: 0.0026 - accuracy: 1.0000\n",
      "Epoch 33/100\n",
      "301/301 [==============================] - 0s 123us/step - loss: 0.0024 - accuracy: 1.0000\n",
      "Epoch 34/100\n",
      "301/301 [==============================] - 0s 113us/step - loss: 0.0022 - accuracy: 1.0000\n",
      "Epoch 35/100\n",
      "301/301 [==============================] - 0s 146us/step - loss: 0.0021 - accuracy: 1.0000\n",
      "Epoch 36/100\n",
      "301/301 [==============================] - 0s 245us/step - loss: 0.0019 - accuracy: 1.0000\n",
      "Epoch 37/100\n",
      "301/301 [==============================] - 0s 249us/step - loss: 0.0018 - accuracy: 1.0000\n",
      "Epoch 38/100\n",
      "301/301 [==============================] - 0s 199us/step - loss: 0.0018 - accuracy: 1.0000\n",
      "Epoch 39/100\n",
      "301/301 [==============================] - 0s 245us/step - loss: 0.0016 - accuracy: 1.0000\n",
      "Epoch 40/100\n",
      "301/301 [==============================] - 0s 139us/step - loss: 0.0015 - accuracy: 1.0000\n",
      "Epoch 41/100\n",
      "301/301 [==============================] - 0s 239us/step - loss: 0.0014 - accuracy: 1.0000\n",
      "Epoch 42/100\n",
      "301/301 [==============================] - 0s 248us/step - loss: 0.0013 - accuracy: 1.0000\n",
      "Epoch 43/100\n",
      "301/301 [==============================] - 0s 139us/step - loss: 0.0012 - accuracy: 1.0000\n",
      "Epoch 44/100\n",
      "301/301 [==============================] - 0s 124us/step - loss: 0.0012 - accuracy: 1.0000\n",
      "Epoch 45/100\n",
      "301/301 [==============================] - 0s 208us/step - loss: 0.0011 - accuracy: 1.0000\n",
      "Epoch 46/100\n",
      "301/301 [==============================] - 0s 123us/step - loss: 0.0011 - accuracy: 1.0000\n",
      "Epoch 47/100\n",
      "301/301 [==============================] - 0s 176us/step - loss: 0.0010 - accuracy: 1.0000\n",
      "Epoch 48/100\n",
      "301/301 [==============================] - 0s 146us/step - loss: 9.6106e-04 - accuracy: 1.0000\n",
      "Epoch 49/100\n",
      "301/301 [==============================] - 0s 166us/step - loss: 9.2320e-04 - accuracy: 1.0000\n",
      "Epoch 50/100\n",
      "301/301 [==============================] - 0s 139us/step - loss: 8.7675e-04 - accuracy: 1.0000\n",
      "Epoch 51/100\n",
      "301/301 [==============================] - 0s 248us/step - loss: 8.3343e-04 - accuracy: 1.0000\n",
      "Epoch 52/100\n",
      "301/301 [==============================] - 0s 126us/step - loss: 7.9624e-04 - accuracy: 1.0000\n",
      "Epoch 53/100\n",
      "301/301 [==============================] - 0s 242us/step - loss: 7.5838e-04 - accuracy: 1.0000\n",
      "Epoch 54/100\n",
      "301/301 [==============================] - 0s 255us/step - loss: 7.2692e-04 - accuracy: 1.0000\n",
      "Epoch 55/100\n",
      "301/301 [==============================] - 0s 232us/step - loss: 6.8275e-04 - accuracy: 1.0000\n",
      "Epoch 56/100\n",
      "301/301 [==============================] - 0s 179us/step - loss: 6.5268e-04 - accuracy: 1.0000\n",
      "Epoch 57/100\n",
      "301/301 [==============================] - 0s 235us/step - loss: 6.2697e-04 - accuracy: 1.0000\n",
      "Epoch 58/100\n",
      "301/301 [==============================] - 0s 179us/step - loss: 6.0072e-04 - accuracy: 1.0000\n",
      "Epoch 59/100\n",
      "301/301 [==============================] - 0s 176us/step - loss: 5.7857e-04 - accuracy: 1.0000\n",
      "Epoch 60/100\n",
      "301/301 [==============================] - 0s 239us/step - loss: 5.5261e-04 - accuracy: 1.0000\n",
      "Epoch 61/100\n",
      "301/301 [==============================] - 0s 222us/step - loss: 5.3034e-04 - accuracy: 1.0000\n",
      "Epoch 62/100\n",
      "301/301 [==============================] - 0s 189us/step - loss: 5.1199e-04 - accuracy: 1.0000\n",
      "Epoch 63/100\n",
      "301/301 [==============================] - 0s 106us/step - loss: 4.9297e-04 - accuracy: 1.0000\n",
      "Epoch 64/100\n",
      "301/301 [==============================] - 0s 116us/step - loss: 4.7291e-04 - accuracy: 1.0000\n",
      "Epoch 65/100\n",
      "301/301 [==============================] - 0s 162us/step - loss: 4.6041e-04 - accuracy: 1.0000\n",
      "Epoch 66/100\n",
      "301/301 [==============================] - 0s 226us/step - loss: 4.3473e-04 - accuracy: 1.0000\n",
      "Epoch 67/100\n",
      "301/301 [==============================] - 0s 146us/step - loss: 4.2036e-04 - accuracy: 1.0000\n",
      "Epoch 68/100\n",
      "301/301 [==============================] - 0s 162us/step - loss: 4.0504e-04 - accuracy: 1.0000\n",
      "Epoch 69/100\n",
      "301/301 [==============================] - 0s 209us/step - loss: 3.8838e-04 - accuracy: 1.0000\n",
      "Epoch 70/100\n",
      "301/301 [==============================] - 0s 175us/step - loss: 3.7582e-04 - accuracy: 1.0000\n",
      "Epoch 71/100\n",
      "301/301 [==============================] - 0s 119us/step - loss: 3.6406e-04 - accuracy: 1.0000\n",
      "Epoch 72/100\n",
      "301/301 [==============================] - 0s 110us/step - loss: 3.4973e-04 - accuracy: 1.0000\n",
      "Epoch 73/100\n",
      "301/301 [==============================] - 0s 136us/step - loss: 3.3836e-04 - accuracy: 1.0000\n",
      "Epoch 74/100\n",
      "301/301 [==============================] - 0s 232us/step - loss: 3.2638e-04 - accuracy: 1.0000\n",
      "Epoch 75/100\n",
      "301/301 [==============================] - 0s 199us/step - loss: 3.1781e-04 - accuracy: 1.0000\n",
      "Epoch 76/100\n",
      "301/301 [==============================] - 0s 150us/step - loss: 3.0577e-04 - accuracy: 1.0000\n",
      "Epoch 77/100\n",
      "301/301 [==============================] - 0s 235us/step - loss: 2.9583e-04 - accuracy: 1.0000\n",
      "Epoch 78/100\n"
     ]
    },
    {
     "name": "stdout",
     "output_type": "stream",
     "text": [
      "301/301 [==============================] - 0s 162us/step - loss: 2.8724e-04 - accuracy: 1.0000\n",
      "Epoch 79/100\n",
      "301/301 [==============================] - 0s 162us/step - loss: 2.7736e-04 - accuracy: 1.0000\n",
      "Epoch 80/100\n",
      "301/301 [==============================] - 0s 235us/step - loss: 2.6855e-04 - accuracy: 1.0000\n",
      "Epoch 81/100\n",
      "301/301 [==============================] - 0s 225us/step - loss: 2.6056e-04 - accuracy: 1.0000\n",
      "Epoch 82/100\n",
      "301/301 [==============================] - 0s 189us/step - loss: 2.5262e-04 - accuracy: 1.0000\n",
      "Epoch 83/100\n",
      "301/301 [==============================] - 0s 213us/step - loss: 2.4403e-04 - accuracy: 1.0000\n",
      "Epoch 84/100\n",
      "301/301 [==============================] - 0s 205us/step - loss: 2.3744e-04 - accuracy: 1.0000\n",
      "Epoch 85/100\n",
      "301/301 [==============================] - 0s 232us/step - loss: 2.3102e-04 - accuracy: 1.0000\n",
      "Epoch 86/100\n",
      "301/301 [==============================] - 0s 232us/step - loss: 2.2339e-04 - accuracy: 1.0000\n",
      "Epoch 87/100\n",
      "301/301 [==============================] - 0s 192us/step - loss: 2.1656e-04 - accuracy: 1.0000\n",
      "Epoch 88/100\n",
      "301/301 [==============================] - 0s 195us/step - loss: 2.1122e-04 - accuracy: 1.0000\n",
      "Epoch 89/100\n",
      "301/301 [==============================] - 0s 113us/step - loss: 2.0466e-04 - accuracy: 1.0000\n",
      "Epoch 90/100\n",
      "301/301 [==============================] - 0s 235us/step - loss: 1.9933e-04 - accuracy: 1.0000\n",
      "Epoch 91/100\n",
      "301/301 [==============================] - 0s 215us/step - loss: 1.9243e-04 - accuracy: 1.0000\n",
      "Epoch 92/100\n",
      "301/301 [==============================] - 0s 229us/step - loss: 1.8726e-04 - accuracy: 1.0000\n",
      "Epoch 93/100\n",
      "301/301 [==============================] - 0s 192us/step - loss: 1.8215e-04 - accuracy: 1.0000\n",
      "Epoch 94/100\n",
      "301/301 [==============================] - 0s 232us/step - loss: 1.7787e-04 - accuracy: 1.0000\n",
      "Epoch 95/100\n",
      "301/301 [==============================] - 0s 215us/step - loss: 1.7362e-04 - accuracy: 1.0000\n",
      "Epoch 96/100\n",
      "301/301 [==============================] - 0s 225us/step - loss: 1.6739e-04 - accuracy: 1.0000\n",
      "Epoch 97/100\n",
      "301/301 [==============================] - 0s 189us/step - loss: 1.6464e-04 - accuracy: 1.0000\n",
      "Epoch 98/100\n",
      "301/301 [==============================] - 0s 232us/step - loss: 1.6036e-04 - accuracy: 1.0000\n",
      "Epoch 99/100\n",
      "301/301 [==============================] - 0s 232us/step - loss: 1.5360e-04 - accuracy: 1.0000\n",
      "Epoch 100/100\n",
      "301/301 [==============================] - 0s 216us/step - loss: 1.5012e-04 - accuracy: 1.0000\n"
     ]
    },
    {
     "data": {
      "text/plain": [
       "<keras.callbacks.callbacks.History at 0x18f9ef46a08>"
      ]
     },
     "execution_count": 86,
     "metadata": {},
     "output_type": "execute_result"
    }
   ],
   "source": [
    "classifier.fit(X_train, y_train, batch_size = 10, nb_epoch = 100)"
   ]
  },
  {
   "cell_type": "code",
   "execution_count": 87,
   "metadata": {},
   "outputs": [
    {
     "data": {
      "text/plain": [
       "array([[2.49207340e-04],\n",
       "       [9.99999404e-01],\n",
       "       [9.99977469e-01],\n",
       "       [2.58189029e-05],\n",
       "       [9.99989033e-01],\n",
       "       [7.54953871e-05],\n",
       "       [9.96317625e-01],\n",
       "       [4.15923350e-05],\n",
       "       [9.99997258e-01],\n",
       "       [1.17331350e-04],\n",
       "       [1.59375035e-04],\n",
       "       [2.57069914e-04],\n",
       "       [9.99989390e-01],\n",
       "       [1.66067166e-05],\n",
       "       [9.99999881e-01],\n",
       "       [9.99148488e-01],\n",
       "       [5.49227298e-05],\n",
       "       [1.01683640e-04],\n",
       "       [3.12820339e-04],\n",
       "       [3.72721988e-05],\n",
       "       [2.12085448e-04],\n",
       "       [9.99671340e-01],\n",
       "       [1.60533109e-05],\n",
       "       [9.99999046e-01],\n",
       "       [6.39135658e-04],\n",
       "       [6.28182970e-05],\n",
       "       [9.99993563e-01],\n",
       "       [4.28379026e-05],\n",
       "       [9.99994397e-01],\n",
       "       [3.14956342e-05],\n",
       "       [9.99125768e-06],\n",
       "       [4.47396123e-05],\n",
       "       [1.80780044e-04],\n",
       "       [9.99995112e-01],\n",
       "       [9.99394536e-01],\n",
       "       [9.99993324e-01],\n",
       "       [2.90541120e-05],\n",
       "       [1.08535305e-05],\n",
       "       [2.11219067e-05],\n",
       "       [9.99881029e-01],\n",
       "       [1.46645631e-04],\n",
       "       [4.79284907e-04],\n",
       "       [9.99978185e-01],\n",
       "       [1.15533439e-04],\n",
       "       [9.97444034e-01],\n",
       "       [2.27415385e-05],\n",
       "       [9.98697460e-01],\n",
       "       [9.99939203e-01],\n",
       "       [9.99997020e-01],\n",
       "       [9.99995828e-01],\n",
       "       [1.47278679e-05],\n",
       "       [9.99963045e-01],\n",
       "       [1.35077105e-04],\n",
       "       [7.77113164e-05],\n",
       "       [9.94709373e-01],\n",
       "       [9.99393344e-01],\n",
       "       [7.50558611e-05],\n",
       "       [4.76842397e-05],\n",
       "       [9.99987483e-01],\n",
       "       [9.99981046e-01],\n",
       "       [9.99999881e-01],\n",
       "       [9.99903560e-01],\n",
       "       [9.99995232e-01],\n",
       "       [9.99993324e-01],\n",
       "       [9.99404788e-01],\n",
       "       [1.97351867e-04],\n",
       "       [9.99930263e-01],\n",
       "       [9.99917746e-01],\n",
       "       [4.59425879e-04],\n",
       "       [4.07019455e-04],\n",
       "       [7.21058022e-05],\n",
       "       [3.38291808e-04],\n",
       "       [5.40818473e-05],\n",
       "       [7.47854428e-05],\n",
       "       [6.94086339e-05],\n",
       "       [2.73230817e-05]], dtype=float32)"
      ]
     },
     "execution_count": 87,
     "metadata": {},
     "output_type": "execute_result"
    }
   ],
   "source": [
    "y_pred = classifier.predict(X_test)\n",
    "y_pred"
   ]
  },
  {
   "cell_type": "markdown",
   "metadata": {},
   "source": [
    "### - Numerical values are there due to activation function uses weighted value and then the calculation is performed."
   ]
  },
  {
   "cell_type": "code",
   "execution_count": 88,
   "metadata": {},
   "outputs": [
    {
     "name": "stdout",
     "output_type": "stream",
     "text": [
      "[[False]\n",
      " [ True]\n",
      " [ True]\n",
      " [False]\n",
      " [ True]\n",
      " [False]\n",
      " [ True]\n",
      " [False]\n",
      " [ True]\n",
      " [False]\n",
      " [False]\n",
      " [False]\n",
      " [ True]\n",
      " [False]\n",
      " [ True]\n",
      " [ True]\n",
      " [False]\n",
      " [False]\n",
      " [False]\n",
      " [False]\n",
      " [False]\n",
      " [ True]\n",
      " [False]\n",
      " [ True]\n",
      " [False]\n",
      " [False]\n",
      " [ True]\n",
      " [False]\n",
      " [ True]\n",
      " [False]\n",
      " [False]\n",
      " [False]\n",
      " [False]\n",
      " [ True]\n",
      " [ True]\n",
      " [ True]\n",
      " [False]\n",
      " [False]\n",
      " [False]\n",
      " [ True]\n",
      " [False]\n",
      " [False]\n",
      " [ True]\n",
      " [False]\n",
      " [ True]\n",
      " [False]\n",
      " [ True]\n",
      " [ True]\n",
      " [ True]\n",
      " [ True]\n",
      " [False]\n",
      " [ True]\n",
      " [False]\n",
      " [False]\n",
      " [ True]\n",
      " [ True]\n",
      " [False]\n",
      " [False]\n",
      " [ True]\n",
      " [ True]\n",
      " [ True]\n",
      " [ True]\n",
      " [ True]\n",
      " [ True]\n",
      " [ True]\n",
      " [False]\n",
      " [ True]\n",
      " [ True]\n",
      " [False]\n",
      " [False]\n",
      " [False]\n",
      " [False]\n",
      " [False]\n",
      " [False]\n",
      " [False]\n",
      " [False]]\n"
     ]
    }
   ],
   "source": [
    "y_pred = (y_pred > 0.5)\n",
    "print(y_pred)"
   ]
  },
  {
   "cell_type": "code",
   "execution_count": 89,
   "metadata": {},
   "outputs": [
    {
     "name": "stdout",
     "output_type": "stream",
     "text": [
      "[[42  0]\n",
      " [ 0 34]]\n"
     ]
    }
   ],
   "source": [
    "from sklearn.metrics import confusion_matrix,accuracy_score,roc_auc_score\n",
    "cm = confusion_matrix(y_test, y_pred)\n",
    "print(cm)"
   ]
  },
  {
   "cell_type": "code",
   "execution_count": 90,
   "metadata": {},
   "outputs": [
    {
     "name": "stdout",
     "output_type": "stream",
     "text": [
      "Accuracy =  1.0\n",
      "Auc =  1.0\n"
     ]
    }
   ],
   "source": [
    "print(\"Accuracy = \",accuracy_score(y_test,y_pred))\n",
    "\n",
    "print(\"Auc = \",roc_auc_score(y_test,y_pred))"
   ]
  },
  {
   "cell_type": "code",
   "execution_count": null,
   "metadata": {},
   "outputs": [],
   "source": []
  },
  {
   "cell_type": "code",
   "execution_count": null,
   "metadata": {},
   "outputs": [],
   "source": []
  },
  {
   "cell_type": "code",
   "execution_count": 91,
   "metadata": {},
   "outputs": [
    {
     "data": {
      "text/html": [
       "<div>\n",
       "<style scoped>\n",
       "    .dataframe tbody tr th:only-of-type {\n",
       "        vertical-align: middle;\n",
       "    }\n",
       "\n",
       "    .dataframe tbody tr th {\n",
       "        vertical-align: top;\n",
       "    }\n",
       "\n",
       "    .dataframe thead th {\n",
       "        text-align: right;\n",
       "    }\n",
       "</style>\n",
       "<table border=\"1\" class=\"dataframe\">\n",
       "  <thead>\n",
       "    <tr style=\"text-align: right;\">\n",
       "      <th></th>\n",
       "      <th>id</th>\n",
       "      <th>radius_mean</th>\n",
       "      <th>texture_mean</th>\n",
       "      <th>perimeter_mean</th>\n",
       "      <th>area_mean</th>\n",
       "      <th>smoothness_mean</th>\n",
       "      <th>compactness_mean</th>\n",
       "      <th>concavity_mean</th>\n",
       "      <th>concave points_mean</th>\n",
       "      <th>symmetry_mean</th>\n",
       "      <th>...</th>\n",
       "      <th>radius_worst</th>\n",
       "      <th>texture_worst</th>\n",
       "      <th>perimeter_worst</th>\n",
       "      <th>area_worst</th>\n",
       "      <th>smoothness_worst</th>\n",
       "      <th>compactness_worst</th>\n",
       "      <th>concavity_worst</th>\n",
       "      <th>concave points_worst</th>\n",
       "      <th>symmetry_worst</th>\n",
       "      <th>fractal_dimension_worst</th>\n",
       "    </tr>\n",
       "  </thead>\n",
       "  <tbody>\n",
       "    <tr>\n",
       "      <td>0</td>\n",
       "      <td>9013579</td>\n",
       "      <td>13.46</td>\n",
       "      <td>28.21</td>\n",
       "      <td>85.89</td>\n",
       "      <td>562.1</td>\n",
       "      <td>0.07517</td>\n",
       "      <td>0.04726</td>\n",
       "      <td>0.01271</td>\n",
       "      <td>0.01117</td>\n",
       "      <td>0.1421</td>\n",
       "      <td>...</td>\n",
       "      <td>14.69</td>\n",
       "      <td>35.63</td>\n",
       "      <td>97.11</td>\n",
       "      <td>680.6</td>\n",
       "      <td>0.1108</td>\n",
       "      <td>0.1457</td>\n",
       "      <td>0.07934</td>\n",
       "      <td>0.05781</td>\n",
       "      <td>0.2694</td>\n",
       "      <td>0.07061</td>\n",
       "    </tr>\n",
       "    <tr>\n",
       "      <td>1</td>\n",
       "      <td>9013594</td>\n",
       "      <td>13.66</td>\n",
       "      <td>15.15</td>\n",
       "      <td>88.27</td>\n",
       "      <td>580.6</td>\n",
       "      <td>0.08268</td>\n",
       "      <td>0.07548</td>\n",
       "      <td>0.04249</td>\n",
       "      <td>0.02471</td>\n",
       "      <td>0.1792</td>\n",
       "      <td>...</td>\n",
       "      <td>14.54</td>\n",
       "      <td>19.64</td>\n",
       "      <td>97.96</td>\n",
       "      <td>657.0</td>\n",
       "      <td>0.1275</td>\n",
       "      <td>0.3104</td>\n",
       "      <td>0.25690</td>\n",
       "      <td>0.10540</td>\n",
       "      <td>0.3387</td>\n",
       "      <td>0.09638</td>\n",
       "    </tr>\n",
       "    <tr>\n",
       "      <td>2</td>\n",
       "      <td>9013838</td>\n",
       "      <td>11.08</td>\n",
       "      <td>18.83</td>\n",
       "      <td>73.30</td>\n",
       "      <td>361.6</td>\n",
       "      <td>0.12160</td>\n",
       "      <td>0.21540</td>\n",
       "      <td>0.16890</td>\n",
       "      <td>0.06367</td>\n",
       "      <td>0.2196</td>\n",
       "      <td>...</td>\n",
       "      <td>13.24</td>\n",
       "      <td>32.82</td>\n",
       "      <td>91.76</td>\n",
       "      <td>508.1</td>\n",
       "      <td>0.2184</td>\n",
       "      <td>0.9379</td>\n",
       "      <td>0.84020</td>\n",
       "      <td>0.25240</td>\n",
       "      <td>0.4154</td>\n",
       "      <td>0.14030</td>\n",
       "    </tr>\n",
       "    <tr>\n",
       "      <td>3</td>\n",
       "      <td>901549</td>\n",
       "      <td>11.27</td>\n",
       "      <td>12.96</td>\n",
       "      <td>73.16</td>\n",
       "      <td>386.3</td>\n",
       "      <td>0.12370</td>\n",
       "      <td>0.11110</td>\n",
       "      <td>0.07900</td>\n",
       "      <td>0.05550</td>\n",
       "      <td>0.2018</td>\n",
       "      <td>...</td>\n",
       "      <td>12.84</td>\n",
       "      <td>20.53</td>\n",
       "      <td>84.93</td>\n",
       "      <td>476.1</td>\n",
       "      <td>0.1610</td>\n",
       "      <td>0.2429</td>\n",
       "      <td>0.22470</td>\n",
       "      <td>0.13180</td>\n",
       "      <td>0.3343</td>\n",
       "      <td>0.09215</td>\n",
       "    </tr>\n",
       "    <tr>\n",
       "      <td>4</td>\n",
       "      <td>901836</td>\n",
       "      <td>11.04</td>\n",
       "      <td>14.93</td>\n",
       "      <td>70.67</td>\n",
       "      <td>372.7</td>\n",
       "      <td>0.07987</td>\n",
       "      <td>0.07079</td>\n",
       "      <td>0.03546</td>\n",
       "      <td>0.02074</td>\n",
       "      <td>0.2003</td>\n",
       "      <td>...</td>\n",
       "      <td>12.09</td>\n",
       "      <td>20.83</td>\n",
       "      <td>79.73</td>\n",
       "      <td>447.1</td>\n",
       "      <td>0.1095</td>\n",
       "      <td>0.1982</td>\n",
       "      <td>0.15530</td>\n",
       "      <td>0.06754</td>\n",
       "      <td>0.3202</td>\n",
       "      <td>0.07287</td>\n",
       "    </tr>\n",
       "  </tbody>\n",
       "</table>\n",
       "<p>5 rows × 31 columns</p>\n",
       "</div>"
      ],
      "text/plain": [
       "        id  radius_mean  texture_mean  perimeter_mean  area_mean  \\\n",
       "0  9013579        13.46         28.21           85.89      562.1   \n",
       "1  9013594        13.66         15.15           88.27      580.6   \n",
       "2  9013838        11.08         18.83           73.30      361.6   \n",
       "3   901549        11.27         12.96           73.16      386.3   \n",
       "4   901836        11.04         14.93           70.67      372.7   \n",
       "\n",
       "   smoothness_mean  compactness_mean  concavity_mean  concave points_mean  \\\n",
       "0          0.07517           0.04726         0.01271              0.01117   \n",
       "1          0.08268           0.07548         0.04249              0.02471   \n",
       "2          0.12160           0.21540         0.16890              0.06367   \n",
       "3          0.12370           0.11110         0.07900              0.05550   \n",
       "4          0.07987           0.07079         0.03546              0.02074   \n",
       "\n",
       "   symmetry_mean  ...  radius_worst  texture_worst  perimeter_worst  \\\n",
       "0         0.1421  ...         14.69          35.63            97.11   \n",
       "1         0.1792  ...         14.54          19.64            97.96   \n",
       "2         0.2196  ...         13.24          32.82            91.76   \n",
       "3         0.2018  ...         12.84          20.53            84.93   \n",
       "4         0.2003  ...         12.09          20.83            79.73   \n",
       "\n",
       "   area_worst  smoothness_worst  compactness_worst  concavity_worst  \\\n",
       "0       680.6            0.1108             0.1457          0.07934   \n",
       "1       657.0            0.1275             0.3104          0.25690   \n",
       "2       508.1            0.2184             0.9379          0.84020   \n",
       "3       476.1            0.1610             0.2429          0.22470   \n",
       "4       447.1            0.1095             0.1982          0.15530   \n",
       "\n",
       "   concave points_worst  symmetry_worst  fractal_dimension_worst  \n",
       "0               0.05781          0.2694                  0.07061  \n",
       "1               0.10540          0.3387                  0.09638  \n",
       "2               0.25240          0.4154                  0.14030  \n",
       "3               0.13180          0.3343                  0.09215  \n",
       "4               0.06754          0.3202                  0.07287  \n",
       "\n",
       "[5 rows x 31 columns]"
      ]
     },
     "execution_count": 91,
     "metadata": {},
     "output_type": "execute_result"
    }
   ],
   "source": [
    "ds1.head()"
   ]
  },
  {
   "cell_type": "code",
   "execution_count": 92,
   "metadata": {},
   "outputs": [
    {
     "data": {
      "text/html": [
       "<div>\n",
       "<style scoped>\n",
       "    .dataframe tbody tr th:only-of-type {\n",
       "        vertical-align: middle;\n",
       "    }\n",
       "\n",
       "    .dataframe tbody tr th {\n",
       "        vertical-align: top;\n",
       "    }\n",
       "\n",
       "    .dataframe thead th {\n",
       "        text-align: right;\n",
       "    }\n",
       "</style>\n",
       "<table border=\"1\" class=\"dataframe\">\n",
       "  <thead>\n",
       "    <tr style=\"text-align: right;\">\n",
       "      <th></th>\n",
       "      <th>radius_mean</th>\n",
       "      <th>texture_mean</th>\n",
       "      <th>perimeter_mean</th>\n",
       "      <th>area_mean</th>\n",
       "      <th>smoothness_mean</th>\n",
       "      <th>compactness_mean</th>\n",
       "      <th>concavity_mean</th>\n",
       "      <th>concave points_mean</th>\n",
       "      <th>symmetry_mean</th>\n",
       "      <th>fractal_dimension_mean</th>\n",
       "      <th>...</th>\n",
       "      <th>radius_worst</th>\n",
       "      <th>texture_worst</th>\n",
       "      <th>perimeter_worst</th>\n",
       "      <th>area_worst</th>\n",
       "      <th>smoothness_worst</th>\n",
       "      <th>compactness_worst</th>\n",
       "      <th>concavity_worst</th>\n",
       "      <th>concave points_worst</th>\n",
       "      <th>symmetry_worst</th>\n",
       "      <th>fractal_dimension_worst</th>\n",
       "    </tr>\n",
       "  </thead>\n",
       "  <tbody>\n",
       "    <tr>\n",
       "      <td>0</td>\n",
       "      <td>13.46</td>\n",
       "      <td>28.21</td>\n",
       "      <td>85.89</td>\n",
       "      <td>562.1</td>\n",
       "      <td>0.07517</td>\n",
       "      <td>0.04726</td>\n",
       "      <td>0.01271</td>\n",
       "      <td>0.01117</td>\n",
       "      <td>0.1421</td>\n",
       "      <td>0.05763</td>\n",
       "      <td>...</td>\n",
       "      <td>14.69</td>\n",
       "      <td>35.63</td>\n",
       "      <td>97.11</td>\n",
       "      <td>680.6</td>\n",
       "      <td>0.1108</td>\n",
       "      <td>0.1457</td>\n",
       "      <td>0.07934</td>\n",
       "      <td>0.05781</td>\n",
       "      <td>0.2694</td>\n",
       "      <td>0.07061</td>\n",
       "    </tr>\n",
       "    <tr>\n",
       "      <td>1</td>\n",
       "      <td>13.66</td>\n",
       "      <td>15.15</td>\n",
       "      <td>88.27</td>\n",
       "      <td>580.6</td>\n",
       "      <td>0.08268</td>\n",
       "      <td>0.07548</td>\n",
       "      <td>0.04249</td>\n",
       "      <td>0.02471</td>\n",
       "      <td>0.1792</td>\n",
       "      <td>0.05897</td>\n",
       "      <td>...</td>\n",
       "      <td>14.54</td>\n",
       "      <td>19.64</td>\n",
       "      <td>97.96</td>\n",
       "      <td>657.0</td>\n",
       "      <td>0.1275</td>\n",
       "      <td>0.3104</td>\n",
       "      <td>0.25690</td>\n",
       "      <td>0.10540</td>\n",
       "      <td>0.3387</td>\n",
       "      <td>0.09638</td>\n",
       "    </tr>\n",
       "    <tr>\n",
       "      <td>2</td>\n",
       "      <td>11.08</td>\n",
       "      <td>18.83</td>\n",
       "      <td>73.30</td>\n",
       "      <td>361.6</td>\n",
       "      <td>0.12160</td>\n",
       "      <td>0.21540</td>\n",
       "      <td>0.16890</td>\n",
       "      <td>0.06367</td>\n",
       "      <td>0.2196</td>\n",
       "      <td>0.07950</td>\n",
       "      <td>...</td>\n",
       "      <td>13.24</td>\n",
       "      <td>32.82</td>\n",
       "      <td>91.76</td>\n",
       "      <td>508.1</td>\n",
       "      <td>0.2184</td>\n",
       "      <td>0.9379</td>\n",
       "      <td>0.84020</td>\n",
       "      <td>0.25240</td>\n",
       "      <td>0.4154</td>\n",
       "      <td>0.14030</td>\n",
       "    </tr>\n",
       "    <tr>\n",
       "      <td>3</td>\n",
       "      <td>11.27</td>\n",
       "      <td>12.96</td>\n",
       "      <td>73.16</td>\n",
       "      <td>386.3</td>\n",
       "      <td>0.12370</td>\n",
       "      <td>0.11110</td>\n",
       "      <td>0.07900</td>\n",
       "      <td>0.05550</td>\n",
       "      <td>0.2018</td>\n",
       "      <td>0.06914</td>\n",
       "      <td>...</td>\n",
       "      <td>12.84</td>\n",
       "      <td>20.53</td>\n",
       "      <td>84.93</td>\n",
       "      <td>476.1</td>\n",
       "      <td>0.1610</td>\n",
       "      <td>0.2429</td>\n",
       "      <td>0.22470</td>\n",
       "      <td>0.13180</td>\n",
       "      <td>0.3343</td>\n",
       "      <td>0.09215</td>\n",
       "    </tr>\n",
       "    <tr>\n",
       "      <td>4</td>\n",
       "      <td>11.04</td>\n",
       "      <td>14.93</td>\n",
       "      <td>70.67</td>\n",
       "      <td>372.7</td>\n",
       "      <td>0.07987</td>\n",
       "      <td>0.07079</td>\n",
       "      <td>0.03546</td>\n",
       "      <td>0.02074</td>\n",
       "      <td>0.2003</td>\n",
       "      <td>0.06246</td>\n",
       "      <td>...</td>\n",
       "      <td>12.09</td>\n",
       "      <td>20.83</td>\n",
       "      <td>79.73</td>\n",
       "      <td>447.1</td>\n",
       "      <td>0.1095</td>\n",
       "      <td>0.1982</td>\n",
       "      <td>0.15530</td>\n",
       "      <td>0.06754</td>\n",
       "      <td>0.3202</td>\n",
       "      <td>0.07287</td>\n",
       "    </tr>\n",
       "  </tbody>\n",
       "</table>\n",
       "<p>5 rows × 30 columns</p>\n",
       "</div>"
      ],
      "text/plain": [
       "   radius_mean  texture_mean  perimeter_mean  area_mean  smoothness_mean  \\\n",
       "0        13.46         28.21           85.89      562.1          0.07517   \n",
       "1        13.66         15.15           88.27      580.6          0.08268   \n",
       "2        11.08         18.83           73.30      361.6          0.12160   \n",
       "3        11.27         12.96           73.16      386.3          0.12370   \n",
       "4        11.04         14.93           70.67      372.7          0.07987   \n",
       "\n",
       "   compactness_mean  concavity_mean  concave points_mean  symmetry_mean  \\\n",
       "0           0.04726         0.01271              0.01117         0.1421   \n",
       "1           0.07548         0.04249              0.02471         0.1792   \n",
       "2           0.21540         0.16890              0.06367         0.2196   \n",
       "3           0.11110         0.07900              0.05550         0.2018   \n",
       "4           0.07079         0.03546              0.02074         0.2003   \n",
       "\n",
       "   fractal_dimension_mean  ...  radius_worst  texture_worst  perimeter_worst  \\\n",
       "0                 0.05763  ...         14.69          35.63            97.11   \n",
       "1                 0.05897  ...         14.54          19.64            97.96   \n",
       "2                 0.07950  ...         13.24          32.82            91.76   \n",
       "3                 0.06914  ...         12.84          20.53            84.93   \n",
       "4                 0.06246  ...         12.09          20.83            79.73   \n",
       "\n",
       "   area_worst  smoothness_worst  compactness_worst  concavity_worst  \\\n",
       "0       680.6            0.1108             0.1457          0.07934   \n",
       "1       657.0            0.1275             0.3104          0.25690   \n",
       "2       508.1            0.2184             0.9379          0.84020   \n",
       "3       476.1            0.1610             0.2429          0.22470   \n",
       "4       447.1            0.1095             0.1982          0.15530   \n",
       "\n",
       "   concave points_worst  symmetry_worst  fractal_dimension_worst  \n",
       "0               0.05781          0.2694                  0.07061  \n",
       "1               0.10540          0.3387                  0.09638  \n",
       "2               0.25240          0.4154                  0.14030  \n",
       "3               0.13180          0.3343                  0.09215  \n",
       "4               0.06754          0.3202                  0.07287  \n",
       "\n",
       "[5 rows x 30 columns]"
      ]
     },
     "execution_count": 92,
     "metadata": {},
     "output_type": "execute_result"
    }
   ],
   "source": [
    "ds1.drop([\"id\"],axis=1,inplace=True)\n",
    "ds1.head()"
   ]
  },
  {
   "cell_type": "code",
   "execution_count": 93,
   "metadata": {},
   "outputs": [
    {
     "data": {
      "text/plain": [
       "Series([], dtype: float64)"
      ]
     },
     "execution_count": 93,
     "metadata": {},
     "output_type": "execute_result"
    }
   ],
   "source": [
    "ds1_null=ds1.columns[ds1.isnull().any()]\n",
    "ds1[ds1_null].isnull().sum()"
   ]
  },
  {
   "cell_type": "code",
   "execution_count": 94,
   "metadata": {},
   "outputs": [
    {
     "data": {
      "text/plain": [
       "Index(['diagnosis', 'radius_mean', 'texture_mean', 'perimeter_mean',\n",
       "       'area_mean', 'smoothness_mean', 'compactness_mean', 'concavity_mean',\n",
       "       'concave points_mean', 'symmetry_mean', 'fractal_dimension_mean',\n",
       "       'radius_se', 'texture_se', 'perimeter_se', 'area_se', 'smoothness_se',\n",
       "       'compactness_se', 'concavity_se', 'concave points_se', 'symmetry_se',\n",
       "       'fractal_dimension_se', 'radius_worst', 'texture_worst',\n",
       "       'perimeter_worst', 'area_worst', 'smoothness_worst',\n",
       "       'compactness_worst', 'concavity_worst', 'concave points_worst',\n",
       "       'symmetry_worst', 'fractal_dimension_worst'],\n",
       "      dtype='object')"
      ]
     },
     "execution_count": 94,
     "metadata": {},
     "output_type": "execute_result"
    }
   ],
   "source": [
    "ds.columns"
   ]
  },
  {
   "cell_type": "code",
   "execution_count": 95,
   "metadata": {},
   "outputs": [
    {
     "data": {
      "text/plain": [
       "(377, 31)"
      ]
     },
     "execution_count": 95,
     "metadata": {},
     "output_type": "execute_result"
    }
   ],
   "source": [
    "ds.shape"
   ]
  },
  {
   "cell_type": "code",
   "execution_count": 96,
   "metadata": {},
   "outputs": [
    {
     "data": {
      "text/plain": [
       "(192, 30)"
      ]
     },
     "execution_count": 96,
     "metadata": {},
     "output_type": "execute_result"
    }
   ],
   "source": [
    "ds1.shape"
   ]
  },
  {
   "cell_type": "code",
   "execution_count": 97,
   "metadata": {},
   "outputs": [],
   "source": [
    "X = ds.iloc[:377,0:30]\n",
    "y = ds.iloc[:377,[0]]\n",
    "\n",
    "from sklearn.preprocessing import MinMaxScaler\n",
    "scaler = MinMaxScaler()\n",
    "scaler2=MinMaxScaler()\n",
    "X_train = scaler.fit_transform(X)\n",
    "y = np.reshape(np.array(y), (-1,1))\n",
    "y_train = scaler2.fit_transform(y)"
   ]
  },
  {
   "cell_type": "code",
   "execution_count": 98,
   "metadata": {},
   "outputs": [
    {
     "data": {
      "text/plain": [
       "((377, 30), (377, 1))"
      ]
     },
     "execution_count": 98,
     "metadata": {},
     "output_type": "execute_result"
    }
   ],
   "source": [
    "X_train.shape,y_train.shape"
   ]
  },
  {
   "cell_type": "code",
   "execution_count": 99,
   "metadata": {},
   "outputs": [],
   "source": [
    "A = ds1.iloc[:192,0:30]"
   ]
  },
  {
   "cell_type": "code",
   "execution_count": 100,
   "metadata": {},
   "outputs": [],
   "source": [
    "scaler = MinMaxScaler()\n",
    "X_test = scaler.fit_transform(A)"
   ]
  },
  {
   "cell_type": "code",
   "execution_count": 101,
   "metadata": {},
   "outputs": [
    {
     "data": {
      "text/plain": [
       "(192, 30)"
      ]
     },
     "execution_count": 101,
     "metadata": {},
     "output_type": "execute_result"
    }
   ],
   "source": [
    "X_test.shape"
   ]
  },
  {
   "cell_type": "code",
   "execution_count": 102,
   "metadata": {},
   "outputs": [],
   "source": [
    "X_pred=classifier.predict(X_test)"
   ]
  },
  {
   "cell_type": "code",
   "execution_count": 103,
   "metadata": {},
   "outputs": [
    {
     "data": {
      "text/plain": [
       "array([[2.92283744e-01],\n",
       "       [3.76346588e-01],\n",
       "       [7.75463581e-01],\n",
       "       [3.45193893e-01],\n",
       "       [3.06780964e-01],\n",
       "       [2.26016878e-03],\n",
       "       [3.13973054e-02],\n",
       "       [2.76401162e-01],\n",
       "       [8.64840090e-01],\n",
       "       [3.82606462e-02],\n",
       "       [2.46665090e-01],\n",
       "       [8.58821208e-04],\n",
       "       [9.98806715e-01],\n",
       "       [3.90278660e-02],\n",
       "       [9.79945157e-03],\n",
       "       [9.70513225e-01],\n",
       "       [9.99975443e-01],\n",
       "       [6.13245547e-01],\n",
       "       [7.89480686e-01],\n",
       "       [7.72312939e-01],\n",
       "       [4.90125455e-02],\n",
       "       [2.18569245e-02],\n",
       "       [1.32956073e-01],\n",
       "       [9.97713685e-01],\n",
       "       [2.28639960e-01],\n",
       "       [1.69167802e-01],\n",
       "       [3.44783306e-01],\n",
       "       [9.27175805e-02],\n",
       "       [3.94407474e-02],\n",
       "       [9.35589194e-01],\n",
       "       [7.22097466e-03],\n",
       "       [9.98017073e-01],\n",
       "       [6.22733653e-01],\n",
       "       [3.68091643e-01],\n",
       "       [1.38500780e-01],\n",
       "       [1.60742621e-03],\n",
       "       [8.54102433e-01],\n",
       "       [8.91530335e-01],\n",
       "       [4.17071372e-01],\n",
       "       [1.21441841e-01],\n",
       "       [8.16929460e-01],\n",
       "       [1.21070519e-01],\n",
       "       [6.62417635e-02],\n",
       "       [3.04015279e-01],\n",
       "       [5.75964212e-01],\n",
       "       [2.26989284e-01],\n",
       "       [5.00396669e-01],\n",
       "       [1.94152474e-01],\n",
       "       [2.55626477e-02],\n",
       "       [2.32999194e-02],\n",
       "       [2.23574847e-01],\n",
       "       [3.64572331e-02],\n",
       "       [1.39055088e-01],\n",
       "       [8.97367835e-01],\n",
       "       [7.73095340e-02],\n",
       "       [9.99575555e-01],\n",
       "       [9.95999336e-01],\n",
       "       [5.39401710e-01],\n",
       "       [8.85665834e-01],\n",
       "       [3.45949441e-01],\n",
       "       [6.19438291e-01],\n",
       "       [4.26375538e-01],\n",
       "       [4.33591902e-01],\n",
       "       [2.76488848e-02],\n",
       "       [9.50176656e-01],\n",
       "       [6.33883923e-02],\n",
       "       [5.97408056e-01],\n",
       "       [9.91373837e-01],\n",
       "       [2.15154320e-01],\n",
       "       [9.96201575e-01],\n",
       "       [8.54972243e-01],\n",
       "       [5.23213685e-01],\n",
       "       [9.99741018e-01],\n",
       "       [1.21462531e-03],\n",
       "       [9.99470413e-01],\n",
       "       [8.78651515e-02],\n",
       "       [5.70265472e-01],\n",
       "       [5.42943358e-01],\n",
       "       [2.01077536e-01],\n",
       "       [3.72950941e-01],\n",
       "       [4.70337272e-01],\n",
       "       [4.30457264e-01],\n",
       "       [3.13646123e-02],\n",
       "       [9.60481942e-01],\n",
       "       [9.99993682e-01],\n",
       "       [5.91475666e-01],\n",
       "       [9.26478058e-02],\n",
       "       [3.75087172e-01],\n",
       "       [1.32613461e-02],\n",
       "       [2.13192910e-01],\n",
       "       [3.22800390e-02],\n",
       "       [3.08852881e-01],\n",
       "       [4.16901022e-01],\n",
       "       [1.06858201e-01],\n",
       "       [1.94556415e-01],\n",
       "       [7.01270044e-01],\n",
       "       [2.02303663e-01],\n",
       "       [1.65444855e-02],\n",
       "       [3.60628188e-01],\n",
       "       [2.35333934e-01],\n",
       "       [5.89388132e-01],\n",
       "       [6.41333014e-02],\n",
       "       [9.55901384e-01],\n",
       "       [7.85680935e-02],\n",
       "       [3.88261974e-01],\n",
       "       [6.14700019e-01],\n",
       "       [5.19805014e-01],\n",
       "       [9.46721971e-01],\n",
       "       [1.05749331e-02],\n",
       "       [5.61318219e-01],\n",
       "       [9.99598086e-01],\n",
       "       [2.11038470e-01],\n",
       "       [9.87151742e-01],\n",
       "       [1.96448132e-01],\n",
       "       [8.77070487e-01],\n",
       "       [9.94138241e-01],\n",
       "       [8.87560993e-02],\n",
       "       [3.68844926e-01],\n",
       "       [7.54955113e-01],\n",
       "       [2.33193085e-01],\n",
       "       [2.55719721e-01],\n",
       "       [9.85003829e-01],\n",
       "       [9.99671936e-01],\n",
       "       [5.56398451e-01],\n",
       "       [8.25985432e-01],\n",
       "       [4.96284515e-01],\n",
       "       [9.99395728e-01],\n",
       "       [1.34551234e-03],\n",
       "       [2.05033105e-02],\n",
       "       [2.42559865e-01],\n",
       "       [4.56605032e-02],\n",
       "       [9.44050908e-01],\n",
       "       [9.16759908e-01],\n",
       "       [6.25442527e-03],\n",
       "       [7.14638352e-01],\n",
       "       [9.22707081e-01],\n",
       "       [6.15984201e-01],\n",
       "       [7.72117436e-01],\n",
       "       [3.34174156e-01],\n",
       "       [9.97700632e-01],\n",
       "       [9.98499870e-01],\n",
       "       [1.22727036e-01],\n",
       "       [4.88770068e-01],\n",
       "       [5.82935959e-02],\n",
       "       [9.99981165e-01],\n",
       "       [5.31314090e-02],\n",
       "       [4.52135623e-01],\n",
       "       [8.80653784e-03],\n",
       "       [7.25078536e-03],\n",
       "       [6.76813006e-01],\n",
       "       [4.69132334e-01],\n",
       "       [5.85248530e-01],\n",
       "       [1.17222905e-01],\n",
       "       [1.54126927e-01],\n",
       "       [2.44642526e-01],\n",
       "       [4.28420991e-01],\n",
       "       [9.99736726e-01],\n",
       "       [6.95479959e-02],\n",
       "       [9.99853730e-01],\n",
       "       [9.10699308e-01],\n",
       "       [4.27206486e-01],\n",
       "       [2.51106103e-03],\n",
       "       [1.65823416e-03],\n",
       "       [5.86528778e-02],\n",
       "       [4.64050323e-01],\n",
       "       [8.35328639e-01],\n",
       "       [4.94015932e-01],\n",
       "       [1.60969839e-01],\n",
       "       [2.98435897e-01],\n",
       "       [6.35693073e-02],\n",
       "       [1.67093724e-02],\n",
       "       [7.74201192e-03],\n",
       "       [1.24077208e-01],\n",
       "       [3.48920524e-02],\n",
       "       [3.16804461e-02],\n",
       "       [3.18043947e-01],\n",
       "       [4.47745714e-03],\n",
       "       [2.57961452e-01],\n",
       "       [4.54501174e-02],\n",
       "       [6.15631081e-02],\n",
       "       [2.45689899e-02],\n",
       "       [8.61039832e-02],\n",
       "       [7.58487582e-02],\n",
       "       [1.38004154e-01],\n",
       "       [2.66945846e-02],\n",
       "       [9.75851059e-01],\n",
       "       [9.99439657e-01],\n",
       "       [9.99695182e-01],\n",
       "       [9.99392748e-01],\n",
       "       [7.81884074e-01],\n",
       "       [9.99947190e-01],\n",
       "       [6.29728008e-03]], dtype=float32)"
      ]
     },
     "execution_count": 103,
     "metadata": {},
     "output_type": "execute_result"
    }
   ],
   "source": [
    "X_pred"
   ]
  },
  {
   "cell_type": "code",
   "execution_count": null,
   "metadata": {},
   "outputs": [],
   "source": []
  },
  {
   "cell_type": "code",
   "execution_count": 104,
   "metadata": {
    "scrolled": true
   },
   "outputs": [
    {
     "name": "stdout",
     "output_type": "stream",
     "text": [
      "[[False]\n",
      " [False]\n",
      " [ True]\n",
      " [False]\n",
      " [False]\n",
      " [False]\n",
      " [False]\n",
      " [False]\n",
      " [ True]\n",
      " [False]\n",
      " [False]\n",
      " [False]\n",
      " [ True]\n",
      " [False]\n",
      " [False]\n",
      " [ True]\n",
      " [ True]\n",
      " [ True]\n",
      " [ True]\n",
      " [ True]\n",
      " [False]\n",
      " [False]\n",
      " [False]\n",
      " [ True]\n",
      " [False]\n",
      " [False]\n",
      " [False]\n",
      " [False]\n",
      " [False]\n",
      " [ True]\n",
      " [False]\n",
      " [ True]\n",
      " [ True]\n",
      " [False]\n",
      " [False]\n",
      " [False]\n",
      " [ True]\n",
      " [ True]\n",
      " [False]\n",
      " [False]\n",
      " [ True]\n",
      " [False]\n",
      " [False]\n",
      " [False]\n",
      " [ True]\n",
      " [False]\n",
      " [ True]\n",
      " [False]\n",
      " [False]\n",
      " [False]\n",
      " [False]\n",
      " [False]\n",
      " [False]\n",
      " [ True]\n",
      " [False]\n",
      " [ True]\n",
      " [ True]\n",
      " [ True]\n",
      " [ True]\n",
      " [False]\n",
      " [ True]\n",
      " [False]\n",
      " [False]\n",
      " [False]\n",
      " [ True]\n",
      " [False]\n",
      " [ True]\n",
      " [ True]\n",
      " [False]\n",
      " [ True]\n",
      " [ True]\n",
      " [ True]\n",
      " [ True]\n",
      " [False]\n",
      " [ True]\n",
      " [False]\n",
      " [ True]\n",
      " [ True]\n",
      " [False]\n",
      " [False]\n",
      " [False]\n",
      " [False]\n",
      " [False]\n",
      " [ True]\n",
      " [ True]\n",
      " [ True]\n",
      " [False]\n",
      " [False]\n",
      " [False]\n",
      " [False]\n",
      " [False]\n",
      " [False]\n",
      " [False]\n",
      " [False]\n",
      " [False]\n",
      " [ True]\n",
      " [False]\n",
      " [False]\n",
      " [False]\n",
      " [False]\n",
      " [ True]\n",
      " [False]\n",
      " [ True]\n",
      " [False]\n",
      " [False]\n",
      " [ True]\n",
      " [ True]\n",
      " [ True]\n",
      " [False]\n",
      " [ True]\n",
      " [ True]\n",
      " [False]\n",
      " [ True]\n",
      " [False]\n",
      " [ True]\n",
      " [ True]\n",
      " [False]\n",
      " [False]\n",
      " [ True]\n",
      " [False]\n",
      " [False]\n",
      " [ True]\n",
      " [ True]\n",
      " [ True]\n",
      " [ True]\n",
      " [False]\n",
      " [ True]\n",
      " [False]\n",
      " [False]\n",
      " [False]\n",
      " [False]\n",
      " [ True]\n",
      " [ True]\n",
      " [False]\n",
      " [ True]\n",
      " [ True]\n",
      " [ True]\n",
      " [ True]\n",
      " [False]\n",
      " [ True]\n",
      " [ True]\n",
      " [False]\n",
      " [False]\n",
      " [False]\n",
      " [ True]\n",
      " [False]\n",
      " [False]\n",
      " [False]\n",
      " [False]\n",
      " [ True]\n",
      " [False]\n",
      " [ True]\n",
      " [False]\n",
      " [False]\n",
      " [False]\n",
      " [False]\n",
      " [ True]\n",
      " [False]\n",
      " [ True]\n",
      " [ True]\n",
      " [False]\n",
      " [False]\n",
      " [False]\n",
      " [False]\n",
      " [False]\n",
      " [ True]\n",
      " [False]\n",
      " [False]\n",
      " [False]\n",
      " [False]\n",
      " [False]\n",
      " [False]\n",
      " [False]\n",
      " [False]\n",
      " [False]\n",
      " [False]\n",
      " [False]\n",
      " [False]\n",
      " [False]\n",
      " [False]\n",
      " [False]\n",
      " [False]\n",
      " [False]\n",
      " [False]\n",
      " [False]\n",
      " [ True]\n",
      " [ True]\n",
      " [ True]\n",
      " [ True]\n",
      " [ True]\n",
      " [ True]\n",
      " [False]]\n"
     ]
    }
   ],
   "source": [
    "temp=X_pred.reshape(-1,1)\n",
    "temp=scaler2.inverse_transform(temp)\n",
    "temp = (temp > 0.5)\n",
    "print(temp)"
   ]
  },
  {
   "cell_type": "code",
   "execution_count": 105,
   "metadata": {},
   "outputs": [
    {
     "data": {
      "text/html": [
       "<div>\n",
       "<style scoped>\n",
       "    .dataframe tbody tr th:only-of-type {\n",
       "        vertical-align: middle;\n",
       "    }\n",
       "\n",
       "    .dataframe tbody tr th {\n",
       "        vertical-align: top;\n",
       "    }\n",
       "\n",
       "    .dataframe thead th {\n",
       "        text-align: right;\n",
       "    }\n",
       "</style>\n",
       "<table border=\"1\" class=\"dataframe\">\n",
       "  <thead>\n",
       "    <tr style=\"text-align: right;\">\n",
       "      <th></th>\n",
       "      <th>0</th>\n",
       "    </tr>\n",
       "  </thead>\n",
       "  <tbody>\n",
       "    <tr>\n",
       "      <td>0</td>\n",
       "      <td>0</td>\n",
       "    </tr>\n",
       "    <tr>\n",
       "      <td>1</td>\n",
       "      <td>0</td>\n",
       "    </tr>\n",
       "    <tr>\n",
       "      <td>2</td>\n",
       "      <td>1</td>\n",
       "    </tr>\n",
       "    <tr>\n",
       "      <td>3</td>\n",
       "      <td>0</td>\n",
       "    </tr>\n",
       "    <tr>\n",
       "      <td>4</td>\n",
       "      <td>0</td>\n",
       "    </tr>\n",
       "    <tr>\n",
       "      <td>...</td>\n",
       "      <td>...</td>\n",
       "    </tr>\n",
       "    <tr>\n",
       "      <td>187</td>\n",
       "      <td>1</td>\n",
       "    </tr>\n",
       "    <tr>\n",
       "      <td>188</td>\n",
       "      <td>1</td>\n",
       "    </tr>\n",
       "    <tr>\n",
       "      <td>189</td>\n",
       "      <td>1</td>\n",
       "    </tr>\n",
       "    <tr>\n",
       "      <td>190</td>\n",
       "      <td>1</td>\n",
       "    </tr>\n",
       "    <tr>\n",
       "      <td>191</td>\n",
       "      <td>0</td>\n",
       "    </tr>\n",
       "  </tbody>\n",
       "</table>\n",
       "<p>192 rows × 1 columns</p>\n",
       "</div>"
      ],
      "text/plain": [
       "     0\n",
       "0    0\n",
       "1    0\n",
       "2    1\n",
       "3    0\n",
       "4    0\n",
       "..  ..\n",
       "187  1\n",
       "188  1\n",
       "189  1\n",
       "190  1\n",
       "191  0\n",
       "\n",
       "[192 rows x 1 columns]"
      ]
     },
     "execution_count": 105,
     "metadata": {},
     "output_type": "execute_result"
    }
   ],
   "source": [
    "y=pd.DataFrame(temp)\n",
    "y[0]=y[0].replace({False: 0, True: 1})\n",
    "y"
   ]
  },
  {
   "cell_type": "code",
   "execution_count": 106,
   "metadata": {},
   "outputs": [
    {
     "data": {
      "text/html": [
       "<div>\n",
       "<style scoped>\n",
       "    .dataframe tbody tr th:only-of-type {\n",
       "        vertical-align: middle;\n",
       "    }\n",
       "\n",
       "    .dataframe tbody tr th {\n",
       "        vertical-align: top;\n",
       "    }\n",
       "\n",
       "    .dataframe thead th {\n",
       "        text-align: right;\n",
       "    }\n",
       "</style>\n",
       "<table border=\"1\" class=\"dataframe\">\n",
       "  <thead>\n",
       "    <tr style=\"text-align: right;\">\n",
       "      <th></th>\n",
       "      <th>diagnosis</th>\n",
       "    </tr>\n",
       "  </thead>\n",
       "  <tbody>\n",
       "    <tr>\n",
       "      <td>0</td>\n",
       "      <td>0</td>\n",
       "    </tr>\n",
       "    <tr>\n",
       "      <td>1</td>\n",
       "      <td>0</td>\n",
       "    </tr>\n",
       "    <tr>\n",
       "      <td>2</td>\n",
       "      <td>1</td>\n",
       "    </tr>\n",
       "    <tr>\n",
       "      <td>3</td>\n",
       "      <td>0</td>\n",
       "    </tr>\n",
       "    <tr>\n",
       "      <td>4</td>\n",
       "      <td>0</td>\n",
       "    </tr>\n",
       "  </tbody>\n",
       "</table>\n",
       "</div>"
      ],
      "text/plain": [
       "   diagnosis\n",
       "0          0\n",
       "1          0\n",
       "2          1\n",
       "3          0\n",
       "4          0"
      ]
     },
     "execution_count": 106,
     "metadata": {},
     "output_type": "execute_result"
    }
   ],
   "source": [
    "y.rename(columns = {0:'diagnosis'}, inplace = True) \n",
    "y.head()"
   ]
  },
  {
   "cell_type": "code",
   "execution_count": 107,
   "metadata": {},
   "outputs": [
    {
     "data": {
      "text/html": [
       "<div>\n",
       "<style scoped>\n",
       "    .dataframe tbody tr th:only-of-type {\n",
       "        vertical-align: middle;\n",
       "    }\n",
       "\n",
       "    .dataframe tbody tr th {\n",
       "        vertical-align: top;\n",
       "    }\n",
       "\n",
       "    .dataframe thead th {\n",
       "        text-align: right;\n",
       "    }\n",
       "</style>\n",
       "<table border=\"1\" class=\"dataframe\">\n",
       "  <thead>\n",
       "    <tr style=\"text-align: right;\">\n",
       "      <th></th>\n",
       "      <th>id</th>\n",
       "      <th>radius_mean</th>\n",
       "      <th>texture_mean</th>\n",
       "      <th>perimeter_mean</th>\n",
       "      <th>area_mean</th>\n",
       "      <th>smoothness_mean</th>\n",
       "      <th>compactness_mean</th>\n",
       "      <th>concavity_mean</th>\n",
       "      <th>concave points_mean</th>\n",
       "      <th>symmetry_mean</th>\n",
       "      <th>...</th>\n",
       "      <th>radius_worst</th>\n",
       "      <th>texture_worst</th>\n",
       "      <th>perimeter_worst</th>\n",
       "      <th>area_worst</th>\n",
       "      <th>smoothness_worst</th>\n",
       "      <th>compactness_worst</th>\n",
       "      <th>concavity_worst</th>\n",
       "      <th>concave points_worst</th>\n",
       "      <th>symmetry_worst</th>\n",
       "      <th>fractal_dimension_worst</th>\n",
       "    </tr>\n",
       "  </thead>\n",
       "  <tbody>\n",
       "    <tr>\n",
       "      <td>0</td>\n",
       "      <td>9013579</td>\n",
       "      <td>13.46</td>\n",
       "      <td>28.21</td>\n",
       "      <td>85.89</td>\n",
       "      <td>562.1</td>\n",
       "      <td>0.07517</td>\n",
       "      <td>0.04726</td>\n",
       "      <td>0.01271</td>\n",
       "      <td>0.01117</td>\n",
       "      <td>0.1421</td>\n",
       "      <td>...</td>\n",
       "      <td>14.69</td>\n",
       "      <td>35.63</td>\n",
       "      <td>97.11</td>\n",
       "      <td>680.6</td>\n",
       "      <td>0.1108</td>\n",
       "      <td>0.1457</td>\n",
       "      <td>0.07934</td>\n",
       "      <td>0.05781</td>\n",
       "      <td>0.2694</td>\n",
       "      <td>0.07061</td>\n",
       "    </tr>\n",
       "    <tr>\n",
       "      <td>1</td>\n",
       "      <td>9013594</td>\n",
       "      <td>13.66</td>\n",
       "      <td>15.15</td>\n",
       "      <td>88.27</td>\n",
       "      <td>580.6</td>\n",
       "      <td>0.08268</td>\n",
       "      <td>0.07548</td>\n",
       "      <td>0.04249</td>\n",
       "      <td>0.02471</td>\n",
       "      <td>0.1792</td>\n",
       "      <td>...</td>\n",
       "      <td>14.54</td>\n",
       "      <td>19.64</td>\n",
       "      <td>97.96</td>\n",
       "      <td>657.0</td>\n",
       "      <td>0.1275</td>\n",
       "      <td>0.3104</td>\n",
       "      <td>0.25690</td>\n",
       "      <td>0.10540</td>\n",
       "      <td>0.3387</td>\n",
       "      <td>0.09638</td>\n",
       "    </tr>\n",
       "    <tr>\n",
       "      <td>2</td>\n",
       "      <td>9013838</td>\n",
       "      <td>11.08</td>\n",
       "      <td>18.83</td>\n",
       "      <td>73.30</td>\n",
       "      <td>361.6</td>\n",
       "      <td>0.12160</td>\n",
       "      <td>0.21540</td>\n",
       "      <td>0.16890</td>\n",
       "      <td>0.06367</td>\n",
       "      <td>0.2196</td>\n",
       "      <td>...</td>\n",
       "      <td>13.24</td>\n",
       "      <td>32.82</td>\n",
       "      <td>91.76</td>\n",
       "      <td>508.1</td>\n",
       "      <td>0.2184</td>\n",
       "      <td>0.9379</td>\n",
       "      <td>0.84020</td>\n",
       "      <td>0.25240</td>\n",
       "      <td>0.4154</td>\n",
       "      <td>0.14030</td>\n",
       "    </tr>\n",
       "    <tr>\n",
       "      <td>3</td>\n",
       "      <td>901549</td>\n",
       "      <td>11.27</td>\n",
       "      <td>12.96</td>\n",
       "      <td>73.16</td>\n",
       "      <td>386.3</td>\n",
       "      <td>0.12370</td>\n",
       "      <td>0.11110</td>\n",
       "      <td>0.07900</td>\n",
       "      <td>0.05550</td>\n",
       "      <td>0.2018</td>\n",
       "      <td>...</td>\n",
       "      <td>12.84</td>\n",
       "      <td>20.53</td>\n",
       "      <td>84.93</td>\n",
       "      <td>476.1</td>\n",
       "      <td>0.1610</td>\n",
       "      <td>0.2429</td>\n",
       "      <td>0.22470</td>\n",
       "      <td>0.13180</td>\n",
       "      <td>0.3343</td>\n",
       "      <td>0.09215</td>\n",
       "    </tr>\n",
       "    <tr>\n",
       "      <td>4</td>\n",
       "      <td>901836</td>\n",
       "      <td>11.04</td>\n",
       "      <td>14.93</td>\n",
       "      <td>70.67</td>\n",
       "      <td>372.7</td>\n",
       "      <td>0.07987</td>\n",
       "      <td>0.07079</td>\n",
       "      <td>0.03546</td>\n",
       "      <td>0.02074</td>\n",
       "      <td>0.2003</td>\n",
       "      <td>...</td>\n",
       "      <td>12.09</td>\n",
       "      <td>20.83</td>\n",
       "      <td>79.73</td>\n",
       "      <td>447.1</td>\n",
       "      <td>0.1095</td>\n",
       "      <td>0.1982</td>\n",
       "      <td>0.15530</td>\n",
       "      <td>0.06754</td>\n",
       "      <td>0.3202</td>\n",
       "      <td>0.07287</td>\n",
       "    </tr>\n",
       "  </tbody>\n",
       "</table>\n",
       "<p>5 rows × 31 columns</p>\n",
       "</div>"
      ],
      "text/plain": [
       "        id  radius_mean  texture_mean  perimeter_mean  area_mean  \\\n",
       "0  9013579        13.46         28.21           85.89      562.1   \n",
       "1  9013594        13.66         15.15           88.27      580.6   \n",
       "2  9013838        11.08         18.83           73.30      361.6   \n",
       "3   901549        11.27         12.96           73.16      386.3   \n",
       "4   901836        11.04         14.93           70.67      372.7   \n",
       "\n",
       "   smoothness_mean  compactness_mean  concavity_mean  concave points_mean  \\\n",
       "0          0.07517           0.04726         0.01271              0.01117   \n",
       "1          0.08268           0.07548         0.04249              0.02471   \n",
       "2          0.12160           0.21540         0.16890              0.06367   \n",
       "3          0.12370           0.11110         0.07900              0.05550   \n",
       "4          0.07987           0.07079         0.03546              0.02074   \n",
       "\n",
       "   symmetry_mean  ...  radius_worst  texture_worst  perimeter_worst  \\\n",
       "0         0.1421  ...         14.69          35.63            97.11   \n",
       "1         0.1792  ...         14.54          19.64            97.96   \n",
       "2         0.2196  ...         13.24          32.82            91.76   \n",
       "3         0.2018  ...         12.84          20.53            84.93   \n",
       "4         0.2003  ...         12.09          20.83            79.73   \n",
       "\n",
       "   area_worst  smoothness_worst  compactness_worst  concavity_worst  \\\n",
       "0       680.6            0.1108             0.1457          0.07934   \n",
       "1       657.0            0.1275             0.3104          0.25690   \n",
       "2       508.1            0.2184             0.9379          0.84020   \n",
       "3       476.1            0.1610             0.2429          0.22470   \n",
       "4       447.1            0.1095             0.1982          0.15530   \n",
       "\n",
       "   concave points_worst  symmetry_worst  fractal_dimension_worst  \n",
       "0               0.05781          0.2694                  0.07061  \n",
       "1               0.10540          0.3387                  0.09638  \n",
       "2               0.25240          0.4154                  0.14030  \n",
       "3               0.13180          0.3343                  0.09215  \n",
       "4               0.06754          0.3202                  0.07287  \n",
       "\n",
       "[5 rows x 31 columns]"
      ]
     },
     "execution_count": 107,
     "metadata": {},
     "output_type": "execute_result"
    }
   ],
   "source": [
    "ds2 = pd.read_csv(\"Test_Dataset-01.csv\")\n",
    "ds2.head()"
   ]
  },
  {
   "cell_type": "code",
   "execution_count": 108,
   "metadata": {},
   "outputs": [
    {
     "data": {
      "text/html": [
       "<div>\n",
       "<style scoped>\n",
       "    .dataframe tbody tr th:only-of-type {\n",
       "        vertical-align: middle;\n",
       "    }\n",
       "\n",
       "    .dataframe tbody tr th {\n",
       "        vertical-align: top;\n",
       "    }\n",
       "\n",
       "    .dataframe thead th {\n",
       "        text-align: right;\n",
       "    }\n",
       "</style>\n",
       "<table border=\"1\" class=\"dataframe\">\n",
       "  <thead>\n",
       "    <tr style=\"text-align: right;\">\n",
       "      <th></th>\n",
       "      <th>id</th>\n",
       "    </tr>\n",
       "  </thead>\n",
       "  <tbody>\n",
       "    <tr>\n",
       "      <td>0</td>\n",
       "      <td>9013579</td>\n",
       "    </tr>\n",
       "    <tr>\n",
       "      <td>1</td>\n",
       "      <td>9013594</td>\n",
       "    </tr>\n",
       "    <tr>\n",
       "      <td>2</td>\n",
       "      <td>9013838</td>\n",
       "    </tr>\n",
       "    <tr>\n",
       "      <td>3</td>\n",
       "      <td>901549</td>\n",
       "    </tr>\n",
       "    <tr>\n",
       "      <td>4</td>\n",
       "      <td>901836</td>\n",
       "    </tr>\n",
       "  </tbody>\n",
       "</table>\n",
       "</div>"
      ],
      "text/plain": [
       "        id\n",
       "0  9013579\n",
       "1  9013594\n",
       "2  9013838\n",
       "3   901549\n",
       "4   901836"
      ]
     },
     "execution_count": 108,
     "metadata": {},
     "output_type": "execute_result"
    }
   ],
   "source": [
    "testpplid=ds2.iloc[:,0].values\n",
    "z=pd.DataFrame(testpplid)\n",
    "z.rename(columns = {0:'id'}, inplace = True) \n",
    "z.head()"
   ]
  },
  {
   "cell_type": "code",
   "execution_count": 109,
   "metadata": {},
   "outputs": [
    {
     "data": {
      "text/plain": [
       "diagnosis    0\n",
       "dtype: int64"
      ]
     },
     "execution_count": 109,
     "metadata": {},
     "output_type": "execute_result"
    }
   ],
   "source": [
    "y.isnull().sum()"
   ]
  },
  {
   "cell_type": "code",
   "execution_count": 110,
   "metadata": {},
   "outputs": [
    {
     "data": {
      "text/plain": [
       "id    0\n",
       "dtype: int64"
      ]
     },
     "execution_count": 110,
     "metadata": {},
     "output_type": "execute_result"
    }
   ],
   "source": [
    "z.isnull().sum()"
   ]
  },
  {
   "cell_type": "code",
   "execution_count": 111,
   "metadata": {},
   "outputs": [],
   "source": [
    "frames= [z,y]"
   ]
  },
  {
   "cell_type": "code",
   "execution_count": 112,
   "metadata": {},
   "outputs": [],
   "source": [
    "result = pd.concat(frames,axis=1)"
   ]
  },
  {
   "cell_type": "code",
   "execution_count": 113,
   "metadata": {},
   "outputs": [
    {
     "data": {
      "text/plain": [
       "id           0\n",
       "diagnosis    0\n",
       "dtype: int64"
      ]
     },
     "execution_count": 113,
     "metadata": {},
     "output_type": "execute_result"
    }
   ],
   "source": [
    "result.isnull().sum()"
   ]
  },
  {
   "cell_type": "code",
   "execution_count": 114,
   "metadata": {},
   "outputs": [
    {
     "data": {
      "text/plain": [
       "((192, 1), (192, 1))"
      ]
     },
     "execution_count": 114,
     "metadata": {},
     "output_type": "execute_result"
    }
   ],
   "source": [
    "y.shape,z.shape"
   ]
  },
  {
   "cell_type": "code",
   "execution_count": 115,
   "metadata": {},
   "outputs": [],
   "source": [
    "result.to_csv('ANN_OUTPUT.csv')"
   ]
  },
  {
   "cell_type": "code",
   "execution_count": null,
   "metadata": {},
   "outputs": [],
   "source": []
  }
 ],
 "metadata": {
  "kernelspec": {
   "display_name": "Python 3",
   "language": "python",
   "name": "python3"
  },
  "language_info": {
   "codemirror_mode": {
    "name": "ipython",
    "version": 3
   },
   "file_extension": ".py",
   "mimetype": "text/x-python",
   "name": "python",
   "nbconvert_exporter": "python",
   "pygments_lexer": "ipython3",
   "version": "3.7.4"
  }
 },
 "nbformat": 4,
 "nbformat_minor": 2
}
